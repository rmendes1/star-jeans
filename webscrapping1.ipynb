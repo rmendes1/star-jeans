{
 "cells": [
  {
   "cell_type": "markdown",
   "id": "71752a44",
   "metadata": {
    "ExecuteTime": {
     "end_time": "2021-12-09T14:02:51.925138Z",
     "start_time": "2021-12-09T14:02:47.188489Z"
    },
    "heading_collapsed": true
   },
   "source": [
    "# Webscrapping 1"
   ]
  },
  {
   "cell_type": "code",
   "execution_count": null,
   "id": "83579575",
   "metadata": {
    "hidden": true
   },
   "outputs": [],
   "source": [
    "from bs4 import BeautifulSoup\n",
    "from fake_useragent import UserAgent\n",
    "import requests\n",
    "from datetime import datetime\n",
    "import pandas as pd"
   ]
  },
  {
   "cell_type": "code",
   "execution_count": 2,
   "id": "f38fb961",
   "metadata": {
    "ExecuteTime": {
     "end_time": "2021-12-09T14:02:54.993145Z",
     "start_time": "2021-12-09T14:02:54.976145Z"
    },
    "hidden": true
   },
   "outputs": [],
   "source": [
    "#creating a useragent\n",
    "ua = UserAgent()\n",
    "header = {'User-Agent':str(ua.chrome)}"
   ]
  },
  {
   "cell_type": "code",
   "execution_count": 3,
   "id": "41ed370f",
   "metadata": {
    "ExecuteTime": {
     "end_time": "2021-12-09T14:02:57.084047Z",
     "start_time": "2021-12-09T14:02:56.368135Z"
    },
    "hidden": true
   },
   "outputs": [
    {
     "name": "stdout",
     "output_type": "stream",
     "text": [
      "<Response [200]>\n"
     ]
    }
   ],
   "source": [
    "#H&M site catalog\n",
    "url = 'https://www2.hm.com/en_us/men/products/jeans.html'\n",
    "# id # product_name # product_type # product_color # price\n",
    "page = requests.get(url, headers = header)\n",
    "print(page)"
   ]
  },
  {
   "cell_type": "code",
   "execution_count": 4,
   "id": "d7a0a1a1",
   "metadata": {
    "ExecuteTime": {
     "end_time": "2021-12-09T14:02:59.083532Z",
     "start_time": "2021-12-09T14:02:58.733815Z"
    },
    "hidden": true
   },
   "outputs": [],
   "source": [
    "soup = BeautifulSoup(page.text, 'html.parser')"
   ]
  },
  {
   "cell_type": "code",
   "execution_count": 5,
   "id": "44fd7c71",
   "metadata": {
    "ExecuteTime": {
     "end_time": "2021-12-09T14:03:00.189216Z",
     "start_time": "2021-12-09T14:03:00.151093Z"
    },
    "hidden": true
   },
   "outputs": [],
   "source": [
    "products = soup.find('ul', class_= 'products-listing small')"
   ]
  },
  {
   "cell_type": "code",
   "execution_count": 90,
   "id": "9a9bdeb5",
   "metadata": {
    "ExecuteTime": {
     "end_time": "2021-12-07T16:43:39.039702Z",
     "start_time": "2021-12-07T16:43:39.024146Z"
    },
    "hidden": true
   },
   "outputs": [],
   "source": [
    "product_list = products.find_all('article', class_ = 'hm-product-item')"
   ]
  },
  {
   "cell_type": "code",
   "execution_count": 62,
   "id": "dbf481d9",
   "metadata": {
    "ExecuteTime": {
     "end_time": "2021-12-07T14:48:19.817102Z",
     "start_time": "2021-12-07T14:48:19.801628Z"
    },
    "hidden": true
   },
   "outputs": [],
   "source": [
    "product_id = [p.get('data-articlecode') for p in product_list]"
   ]
  },
  {
   "cell_type": "code",
   "execution_count": 63,
   "id": "07c98d40",
   "metadata": {
    "ExecuteTime": {
     "end_time": "2021-12-07T14:48:20.844830Z",
     "start_time": "2021-12-07T14:48:20.839538Z"
    },
    "hidden": true
   },
   "outputs": [],
   "source": [
    "product_category = [p.get('data-category') for p in product_list]"
   ]
  },
  {
   "cell_type": "code",
   "execution_count": 64,
   "id": "5106c114",
   "metadata": {
    "ExecuteTime": {
     "end_time": "2021-12-07T14:48:21.811026Z",
     "start_time": "2021-12-07T14:48:21.796086Z"
    },
    "hidden": true
   },
   "outputs": [],
   "source": [
    "product_list = products.find_all('a', class_ = 'link')\n",
    "product_name = [p.get_text() for p in product_list]"
   ]
  },
  {
   "cell_type": "code",
   "execution_count": 70,
   "id": "b6fe5087",
   "metadata": {
    "ExecuteTime": {
     "end_time": "2021-12-07T14:49:36.815740Z",
     "start_time": "2021-12-07T14:49:36.775260Z"
    },
    "hidden": true
   },
   "outputs": [],
   "source": [
    "product_list = products.find_all('span', class_ = 'price regular')\n",
    "product_price = [p.get_text() for p in product_list]"
   ]
  },
  {
   "cell_type": "code",
   "execution_count": null,
   "id": "625c091c",
   "metadata": {
    "hidden": true
   },
   "outputs": [],
   "source": [
    "#product color"
   ]
  },
  {
   "cell_type": "code",
   "execution_count": null,
   "id": "ac9b9e37",
   "metadata": {
    "hidden": true
   },
   "outputs": [],
   "source": [
    "#product composition"
   ]
  },
  {
   "cell_type": "code",
   "execution_count": 85,
   "id": "aec2f6bb",
   "metadata": {
    "ExecuteTime": {
     "end_time": "2021-12-07T14:58:51.984810Z",
     "start_time": "2021-12-07T14:58:51.959966Z"
    },
    "hidden": true
   },
   "outputs": [],
   "source": [
    "data = pd.DataFrame([product_id, product_category, product_name, product_price]).T  #transposição de coluna para linha\n",
    "data.columns = ['product_id', 'product_category', 'product_name', 'product_price']\n",
    "data['scrapy_time'] = datetime.now().strftime('%Y-%m-%d %H:%M:%S')"
   ]
  },
  {
   "cell_type": "code",
   "execution_count": 89,
   "id": "6ed22931",
   "metadata": {
    "ExecuteTime": {
     "end_time": "2021-12-07T16:42:52.168539Z",
     "start_time": "2021-12-07T16:42:50.166967Z"
    },
    "hidden": true
   },
   "outputs": [
    {
     "data": {
      "text/html": [
       "<div>\n",
       "<style scoped>\n",
       "    .dataframe tbody tr th:only-of-type {\n",
       "        vertical-align: middle;\n",
       "    }\n",
       "\n",
       "    .dataframe tbody tr th {\n",
       "        vertical-align: top;\n",
       "    }\n",
       "\n",
       "    .dataframe thead th {\n",
       "        text-align: right;\n",
       "    }\n",
       "</style>\n",
       "<table border=\"1\" class=\"dataframe\">\n",
       "  <thead>\n",
       "    <tr style=\"text-align: right;\">\n",
       "      <th></th>\n",
       "      <th>product_id</th>\n",
       "      <th>product_category</th>\n",
       "      <th>product_name</th>\n",
       "      <th>product_price</th>\n",
       "      <th>scrapy_time</th>\n",
       "    </tr>\n",
       "  </thead>\n",
       "  <tbody>\n",
       "    <tr>\n",
       "      <th>0</th>\n",
       "      <td>0985197001</td>\n",
       "      <td>men_jeans_slim</td>\n",
       "      <td>Slim Jeans</td>\n",
       "      <td>$ 19.99</td>\n",
       "      <td>2021-12-07 11:58:51</td>\n",
       "    </tr>\n",
       "    <tr>\n",
       "      <th>1</th>\n",
       "      <td>0985159002</td>\n",
       "      <td>men_jeans_skinny</td>\n",
       "      <td>Skinny Jeans</td>\n",
       "      <td>$ 19.99</td>\n",
       "      <td>2021-12-07 11:58:51</td>\n",
       "    </tr>\n",
       "    <tr>\n",
       "      <th>2</th>\n",
       "      <td>1028865001</td>\n",
       "      <td>men_jeans_relaxed</td>\n",
       "      <td>Relaxed Jeans with Embroidery Detail</td>\n",
       "      <td>$ 49.99</td>\n",
       "      <td>2021-12-07 11:58:51</td>\n",
       "    </tr>\n",
       "    <tr>\n",
       "      <th>3</th>\n",
       "      <td>0690449051</td>\n",
       "      <td>men_jeans_ripped</td>\n",
       "      <td>Skinny Jeans</td>\n",
       "      <td>$ 39.99</td>\n",
       "      <td>2021-12-07 11:58:51</td>\n",
       "    </tr>\n",
       "    <tr>\n",
       "      <th>4</th>\n",
       "      <td>0690449043</td>\n",
       "      <td>men_jeans_ripped</td>\n",
       "      <td>Skinny Jeans</td>\n",
       "      <td>$ 39.99</td>\n",
       "      <td>2021-12-07 11:58:51</td>\n",
       "    </tr>\n",
       "  </tbody>\n",
       "</table>\n",
       "</div>"
      ],
      "text/plain": [
       "   product_id   product_category                          product_name  \\\n",
       "0  0985197001     men_jeans_slim                            Slim Jeans   \n",
       "1  0985159002   men_jeans_skinny                          Skinny Jeans   \n",
       "2  1028865001  men_jeans_relaxed  Relaxed Jeans with Embroidery Detail   \n",
       "3  0690449051   men_jeans_ripped                          Skinny Jeans   \n",
       "4  0690449043   men_jeans_ripped                          Skinny Jeans   \n",
       "\n",
       "  product_price          scrapy_time  \n",
       "0       $ 19.99  2021-12-07 11:58:51  \n",
       "1       $ 19.99  2021-12-07 11:58:51  \n",
       "2       $ 49.99  2021-12-07 11:58:51  \n",
       "3       $ 39.99  2021-12-07 11:58:51  \n",
       "4       $ 39.99  2021-12-07 11:58:51  "
      ]
     },
     "execution_count": 89,
     "metadata": {},
     "output_type": "execute_result"
    }
   ],
   "source": [
    "data.head()"
   ]
  },
  {
   "cell_type": "markdown",
   "id": "028e7c71",
   "metadata": {
    "heading_collapsed": true
   },
   "source": [
    "# Webscrapping 2"
   ]
  },
  {
   "cell_type": "code",
   "execution_count": null,
   "id": "5de302ba",
   "metadata": {
    "hidden": true
   },
   "outputs": [],
   "source": [
    "from bs4 import BeautifulSoup\n",
    "from fake_useragent import UserAgent\n",
    "import requests\n",
    "from datetime import datetime\n",
    "import pandas as pd\n",
    "import numpy as np"
   ]
  },
  {
   "cell_type": "code",
   "execution_count": null,
   "id": "f14f30f4",
   "metadata": {
    "hidden": true
   },
   "outputs": [],
   "source": [
    "#creating a useragent\n",
    "ua = UserAgent()\n",
    "header = {'User-Agent':str(ua.chrome)}\n",
    "url = 'https://www2.hm.com/en_us/men/products/jeans.html'\n",
    "page = requests.get(url, headers = header)\n",
    "soup = BeautifulSoup(page.text, 'html.parser')"
   ]
  },
  {
   "cell_type": "code",
   "execution_count": null,
   "id": "8953792a",
   "metadata": {
    "hidden": true
   },
   "outputs": [],
   "source": [
    "total_items = soup.find_all('h2', class_='load-more-heading')[0].get('data-total')"
   ]
  },
  {
   "cell_type": "code",
   "execution_count": null,
   "id": "0583f6ac",
   "metadata": {
    "hidden": true
   },
   "outputs": [],
   "source": [
    "int(total_items)"
   ]
  },
  {
   "cell_type": "code",
   "execution_count": null,
   "id": "572724e1",
   "metadata": {
    "hidden": true
   },
   "outputs": [],
   "source": [
    "#how many pages to get all data?\n",
    "page_number = np.round(int(total_items)/36)"
   ]
  },
  {
   "cell_type": "code",
   "execution_count": null,
   "id": "1b1d9692",
   "metadata": {
    "hidden": true
   },
   "outputs": [],
   "source": [
    "url2 = url + '?page-size' + str(int(page_number) *36)\n",
    "url2"
   ]
  },
  {
   "cell_type": "markdown",
   "id": "b2de3e6c",
   "metadata": {},
   "source": [
    "# Webscrapping 3"
   ]
  },
  {
   "cell_type": "code",
   "execution_count": 135,
   "id": "73b7e9e8",
   "metadata": {
    "ExecuteTime": {
     "end_time": "2021-12-09T16:05:24.200776Z",
     "start_time": "2021-12-09T16:05:24.193191Z"
    }
   },
   "outputs": [],
   "source": [
    "from bs4 import BeautifulSoup\n",
    "from fake_useragent import UserAgent\n",
    "import requests\n",
    "from datetime import datetime\n",
    "import pandas as pd\n",
    "import numpy as np"
   ]
  },
  {
   "cell_type": "code",
   "execution_count": 136,
   "id": "c52dcfb3",
   "metadata": {
    "ExecuteTime": {
     "end_time": "2021-12-09T16:05:25.298846Z",
     "start_time": "2021-12-09T16:05:25.295953Z"
    }
   },
   "outputs": [],
   "source": [
    "#one single product test"
   ]
  },
  {
   "cell_type": "code",
   "execution_count": 137,
   "id": "e4e089fa",
   "metadata": {
    "ExecuteTime": {
     "end_time": "2021-12-09T16:05:26.181869Z",
     "start_time": "2021-12-09T16:05:25.624440Z"
    }
   },
   "outputs": [],
   "source": [
    "#creating a useragent\n",
    "ua = UserAgent()\n",
    "header = {'User-Agent':str(ua.chrome)}\n",
    "url = 'https://www2.hm.com/en_us/productpage.0985197001.html'\n",
    "page = requests.get(url, headers = header)\n",
    "soup = BeautifulSoup(page.text, 'html.parser')"
   ]
  },
  {
   "cell_type": "code",
   "execution_count": 138,
   "id": "80c89e36",
   "metadata": {
    "ExecuteTime": {
     "end_time": "2021-12-09T16:05:27.558453Z",
     "start_time": "2021-12-09T16:05:27.281785Z"
    }
   },
   "outputs": [],
   "source": [
    "soup = BeautifulSoup(page.text, 'html.parser')"
   ]
  },
  {
   "cell_type": "code",
   "execution_count": 139,
   "id": "5f4cbcd3",
   "metadata": {
    "ExecuteTime": {
     "end_time": "2021-12-09T16:05:28.147733Z",
     "start_time": "2021-12-09T16:05:28.138517Z"
    }
   },
   "outputs": [],
   "source": [
    "#color name"
   ]
  },
  {
   "cell_type": "code",
   "execution_count": 140,
   "id": "1c1bc407",
   "metadata": {
    "ExecuteTime": {
     "end_time": "2021-12-09T16:05:28.497631Z",
     "start_time": "2021-12-09T16:05:28.462617Z"
    }
   },
   "outputs": [],
   "source": [
    "#without first prod (class filter-option miniature active)\n",
    "\n",
    "product_list = soup.find_all('a', class_ = 'filter-option miniature active') + soup.find_all('a', class_ = 'filter-option miniature')\n"
   ]
  },
  {
   "cell_type": "code",
   "execution_count": 141,
   "id": "7f17e742",
   "metadata": {
    "ExecuteTime": {
     "end_time": "2021-12-09T16:05:30.053715Z",
     "start_time": "2021-12-09T16:05:30.047634Z"
    }
   },
   "outputs": [
    {
     "data": {
      "text/plain": [
       "['Black',\n",
       " 'Midnight blue',\n",
       " 'Denim blue',\n",
       " 'Dark denim blue',\n",
       " 'Dark denim blue',\n",
       " 'Light denim blue',\n",
       " 'Dark gray']"
      ]
     },
     "execution_count": 141,
     "metadata": {},
     "output_type": "execute_result"
    }
   ],
   "source": [
    "color_item = [p.get('data-color') for p in product_list ]\n",
    "color_item"
   ]
  },
  {
   "cell_type": "code",
   "execution_count": 142,
   "id": "b4f88545",
   "metadata": {
    "ExecuteTime": {
     "end_time": "2021-12-09T16:05:30.787172Z",
     "start_time": "2021-12-09T16:05:30.762028Z"
    }
   },
   "outputs": [
    {
     "data": {
      "text/plain": [
       "['0985197001',\n",
       " '0985197002',\n",
       " '0985197003',\n",
       " '0985197004',\n",
       " '0985197005',\n",
       " '0985197006',\n",
       " '0985197007']"
      ]
     },
     "execution_count": 142,
     "metadata": {},
     "output_type": "execute_result"
    }
   ],
   "source": [
    "product_id = [p.get('data-articlecode') for p in product_list]\n",
    "product_id"
   ]
  },
  {
   "cell_type": "code",
   "execution_count": 143,
   "id": "46d9d9e0",
   "metadata": {
    "ExecuteTime": {
     "end_time": "2021-12-09T16:05:32.432703Z",
     "start_time": "2021-12-09T16:05:32.392641Z"
    }
   },
   "outputs": [
    {
     "data": {
      "text/html": [
       "<div>\n",
       "<style scoped>\n",
       "    .dataframe tbody tr th:only-of-type {\n",
       "        vertical-align: middle;\n",
       "    }\n",
       "\n",
       "    .dataframe tbody tr th {\n",
       "        vertical-align: top;\n",
       "    }\n",
       "\n",
       "    .dataframe thead th {\n",
       "        text-align: right;\n",
       "    }\n",
       "</style>\n",
       "<table border=\"1\" class=\"dataframe\">\n",
       "  <thead>\n",
       "    <tr style=\"text-align: right;\">\n",
       "      <th></th>\n",
       "      <th>product_id</th>\n",
       "      <th>color_name</th>\n",
       "    </tr>\n",
       "  </thead>\n",
       "  <tbody>\n",
       "    <tr>\n",
       "      <th>0</th>\n",
       "      <td>0985197001</td>\n",
       "      <td>Black</td>\n",
       "    </tr>\n",
       "    <tr>\n",
       "      <th>1</th>\n",
       "      <td>0985197002</td>\n",
       "      <td>Midnight blue</td>\n",
       "    </tr>\n",
       "    <tr>\n",
       "      <th>2</th>\n",
       "      <td>0985197003</td>\n",
       "      <td>Denim blue</td>\n",
       "    </tr>\n",
       "    <tr>\n",
       "      <th>3</th>\n",
       "      <td>0985197004</td>\n",
       "      <td>Dark denim blue</td>\n",
       "    </tr>\n",
       "    <tr>\n",
       "      <th>4</th>\n",
       "      <td>0985197005</td>\n",
       "      <td>Dark denim blue</td>\n",
       "    </tr>\n",
       "    <tr>\n",
       "      <th>5</th>\n",
       "      <td>0985197006</td>\n",
       "      <td>Light denim blue</td>\n",
       "    </tr>\n",
       "    <tr>\n",
       "      <th>6</th>\n",
       "      <td>0985197007</td>\n",
       "      <td>Dark gray</td>\n",
       "    </tr>\n",
       "  </tbody>\n",
       "</table>\n",
       "</div>"
      ],
      "text/plain": [
       "   product_id        color_name\n",
       "0  0985197001             Black\n",
       "1  0985197002     Midnight blue\n",
       "2  0985197003        Denim blue\n",
       "3  0985197004   Dark denim blue\n",
       "4  0985197005   Dark denim blue\n",
       "5  0985197006  Light denim blue\n",
       "6  0985197007         Dark gray"
      ]
     },
     "execution_count": 143,
     "metadata": {},
     "output_type": "execute_result"
    }
   ],
   "source": [
    "df_color = pd.DataFrame((product_id, color_item)).T\n",
    "df_color.columns = ['product_id', 'color_name']\n",
    "df_color"
   ]
  },
  {
   "cell_type": "code",
   "execution_count": 144,
   "id": "4ede8f51",
   "metadata": {
    "ExecuteTime": {
     "end_time": "2021-12-09T16:05:34.300121Z",
     "start_time": "2021-12-09T16:05:34.294621Z"
    }
   },
   "outputs": [],
   "source": [
    "#composition"
   ]
  },
  {
   "cell_type": "code",
   "execution_count": 148,
   "id": "f34718a4",
   "metadata": {
    "ExecuteTime": {
     "end_time": "2021-12-09T16:06:20.956750Z",
     "start_time": "2021-12-09T16:06:20.935479Z"
    }
   },
   "outputs": [],
   "source": [
    "product_composition_list = soup.find_all('div', class_ = 'pdp-description-list-item')\n",
    "\n",
    "product_composition = [list(filter(None, p.get_text().split(\"\\n\"))) for p in product_composition_list]\n",
    "\n",
    "df_composition = pd.DataFrame(product_composition).T\n",
    "df_composition.columns = df_composition.iloc[0]\n",
    "df_composition = df_composition.iloc[1:].fillna(method = 'ffill')"
   ]
  },
  {
   "cell_type": "code",
   "execution_count": 149,
   "id": "d0c71ba6",
   "metadata": {
    "ExecuteTime": {
     "end_time": "2021-12-09T16:06:23.276725Z",
     "start_time": "2021-12-09T16:06:23.263847Z"
    }
   },
   "outputs": [
    {
     "data": {
      "text/html": [
       "<div>\n",
       "<style scoped>\n",
       "    .dataframe tbody tr th:only-of-type {\n",
       "        vertical-align: middle;\n",
       "    }\n",
       "\n",
       "    .dataframe tbody tr th {\n",
       "        vertical-align: top;\n",
       "    }\n",
       "\n",
       "    .dataframe thead th {\n",
       "        text-align: right;\n",
       "    }\n",
       "</style>\n",
       "<table border=\"1\" class=\"dataframe\">\n",
       "  <thead>\n",
       "    <tr style=\"text-align: right;\">\n",
       "      <th></th>\n",
       "      <th>Size</th>\n",
       "      <th>Fit</th>\n",
       "      <th>Composition</th>\n",
       "      <th>Art. No.</th>\n",
       "    </tr>\n",
       "  </thead>\n",
       "  <tbody>\n",
       "    <tr>\n",
       "      <th>1</th>\n",
       "      <td>The model is 189cm/6'2\" and wears a size 32/32</td>\n",
       "      <td>Slim fit</td>\n",
       "      <td>Pocket lining: Cotton 100%</td>\n",
       "      <td>0985197001</td>\n",
       "    </tr>\n",
       "    <tr>\n",
       "      <th>2</th>\n",
       "      <td>The model is 189cm/6'2\" and wears a size 32/32</td>\n",
       "      <td>Slim fit</td>\n",
       "      <td>Shell: Cotton 98%, Spandex 2%</td>\n",
       "      <td>0985197001</td>\n",
       "    </tr>\n",
       "  </tbody>\n",
       "</table>\n",
       "</div>"
      ],
      "text/plain": [
       "0                                            Size       Fit  \\\n",
       "1  The model is 189cm/6'2\" and wears a size 32/32  Slim fit   \n",
       "2  The model is 189cm/6'2\" and wears a size 32/32  Slim fit   \n",
       "\n",
       "0                    Composition    Art. No.  \n",
       "1     Pocket lining: Cotton 100%  0985197001  \n",
       "2  Shell: Cotton 98%, Spandex 2%  0985197001  "
      ]
     },
     "execution_count": 149,
     "metadata": {},
     "output_type": "execute_result"
    }
   ],
   "source": [
    "df_composition"
   ]
  },
  {
   "cell_type": "code",
   "execution_count": null,
   "id": "10f8fe12",
   "metadata": {},
   "outputs": [],
   "source": []
  }
 ],
 "metadata": {
  "hide_input": false,
  "kernelspec": {
   "display_name": "Python 3 (ipykernel)",
   "language": "python",
   "name": "python3"
  },
  "language_info": {
   "codemirror_mode": {
    "name": "ipython",
    "version": 3
   },
   "file_extension": ".py",
   "mimetype": "text/x-python",
   "name": "python",
   "nbconvert_exporter": "python",
   "pygments_lexer": "ipython3",
   "version": "3.8.10"
  }
 },
 "nbformat": 4,
 "nbformat_minor": 5
}
