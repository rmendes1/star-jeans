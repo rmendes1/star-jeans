{
 "cells": [
  {
   "cell_type": "markdown",
   "id": "5402b55a",
   "metadata": {},
   "source": [
    "# Imports"
   ]
  },
  {
   "cell_type": "code",
   "execution_count": 106,
   "id": "2ac02114",
   "metadata": {
    "ExecuteTime": {
     "end_time": "2022-01-11T17:03:45.195541Z",
     "start_time": "2022-01-11T17:03:45.187587Z"
    }
   },
   "outputs": [],
   "source": [
    "from bs4 import BeautifulSoup\n",
    "import requests\n",
    "from datetime import datetime\n",
    "import pandas as pd\n",
    "import re\n",
    "import numpy as np"
   ]
  },
  {
   "cell_type": "markdown",
   "id": "b74deece",
   "metadata": {},
   "source": [
    "# Data Collection"
   ]
  },
  {
   "cell_type": "code",
   "execution_count": 107,
   "id": "b42f35f3",
   "metadata": {
    "ExecuteTime": {
     "end_time": "2022-01-11T17:03:46.801454Z",
     "start_time": "2022-01-11T17:03:46.796844Z"
    }
   },
   "outputs": [],
   "source": [
    "#creating a useragent\n",
    "#parameters\n",
    "header = {'User-Agent':'Mozilla/5.0 (X11; Linux x86_64) AppleWebKit/537.36 (KHTML, like Gecko) Chrome/96.0.4664.45 Safari/537.36'}"
   ]
  },
  {
   "cell_type": "code",
   "execution_count": 108,
   "id": "78c184da",
   "metadata": {
    "ExecuteTime": {
     "end_time": "2022-01-11T17:03:49.160952Z",
     "start_time": "2022-01-11T17:03:47.423206Z"
    }
   },
   "outputs": [
    {
     "name": "stdout",
     "output_type": "stream",
     "text": [
      "<Response [200]>\n"
     ]
    }
   ],
   "source": [
    "#H&M site catalog URL\n",
    "url = 'https://www2.hm.com/en_us/men/products/jeans.html'\n",
    "#Request to URL\n",
    "page = requests.get(url, headers = header)\n",
    "print(page)\n",
    "\n",
    "# Beautiful soup object\n",
    "soup = BeautifulSoup( page.text, 'html.parser' )\n",
    "\n",
    "# ===================== Product Data ============================\n",
    "products = soup.find( 'ul', class_='products-listing small' )\n",
    "product_list = products.find_all( 'article', class_='hm-product-item')\n",
    "                                 \n",
    "# product id\n",
    "product_id = [p.get( 'data-articlecode' ) for p in product_list]\n",
    "                                 \n",
    "# product category\n",
    "product_category = [p.get( 'data-category' ) for p in product_list]\n",
    "                                 \n",
    "# product name\n",
    "product_list = products.find_all( 'a', class_='link' )\n",
    "product_name = [p.get_text() for p in product_list]\n",
    "                                 \n",
    "# price\n",
    "product_list = products.find_all( 'span', class_='price regular' )\n",
    "product_price = [p.get_text() for p in product_list]\n",
    "data = pd.DataFrame( [product_id, product_category, product_name, product_price] ).T\n",
    "                                 \n",
    "data.columns = ['product_id', 'product_category', 'product_name', 'product_price']"
   ]
  },
  {
   "cell_type": "code",
   "execution_count": 109,
   "id": "ae6ada66",
   "metadata": {
    "ExecuteTime": {
     "end_time": "2022-01-11T17:03:49.182579Z",
     "start_time": "2022-01-11T17:03:49.163531Z"
    }
   },
   "outputs": [
    {
     "data": {
      "text/html": [
       "<div>\n",
       "<style scoped>\n",
       "    .dataframe tbody tr th:only-of-type {\n",
       "        vertical-align: middle;\n",
       "    }\n",
       "\n",
       "    .dataframe tbody tr th {\n",
       "        vertical-align: top;\n",
       "    }\n",
       "\n",
       "    .dataframe thead th {\n",
       "        text-align: right;\n",
       "    }\n",
       "</style>\n",
       "<table border=\"1\" class=\"dataframe\">\n",
       "  <thead>\n",
       "    <tr style=\"text-align: right;\">\n",
       "      <th></th>\n",
       "      <th>product_id</th>\n",
       "      <th>product_category</th>\n",
       "      <th>product_name</th>\n",
       "      <th>product_price</th>\n",
       "    </tr>\n",
       "  </thead>\n",
       "  <tbody>\n",
       "    <tr>\n",
       "      <th>0</th>\n",
       "      <td>1024256001</td>\n",
       "      <td>men_jeans_slim</td>\n",
       "      <td>Slim Jeans</td>\n",
       "      <td>$ 19.99</td>\n",
       "    </tr>\n",
       "    <tr>\n",
       "      <th>1</th>\n",
       "      <td>0690449036</td>\n",
       "      <td>men_jeans_ripped</td>\n",
       "      <td>Skinny Jeans</td>\n",
       "      <td>$ 39.99</td>\n",
       "    </tr>\n",
       "    <tr>\n",
       "      <th>2</th>\n",
       "      <td>0985159001</td>\n",
       "      <td>men_jeans_skinny</td>\n",
       "      <td>Skinny Jeans</td>\n",
       "      <td>$ 24.99</td>\n",
       "    </tr>\n",
       "    <tr>\n",
       "      <th>3</th>\n",
       "      <td>0690449043</td>\n",
       "      <td>men_jeans_ripped</td>\n",
       "      <td>Skinny Jeans</td>\n",
       "      <td>$ 39.99</td>\n",
       "    </tr>\n",
       "    <tr>\n",
       "      <th>4</th>\n",
       "      <td>0690449022</td>\n",
       "      <td>men_jeans_ripped</td>\n",
       "      <td>Skinny Jeans</td>\n",
       "      <td>$ 39.99</td>\n",
       "    </tr>\n",
       "  </tbody>\n",
       "</table>\n",
       "</div>"
      ],
      "text/plain": [
       "   product_id  product_category  product_name product_price\n",
       "0  1024256001    men_jeans_slim    Slim Jeans       $ 19.99\n",
       "1  0690449036  men_jeans_ripped  Skinny Jeans       $ 39.99\n",
       "2  0985159001  men_jeans_skinny  Skinny Jeans       $ 24.99\n",
       "3  0690449043  men_jeans_ripped  Skinny Jeans       $ 39.99\n",
       "4  0690449022  men_jeans_ripped  Skinny Jeans       $ 39.99"
      ]
     },
     "execution_count": 109,
     "metadata": {},
     "output_type": "execute_result"
    }
   ],
   "source": [
    "data.head()"
   ]
  },
  {
   "cell_type": "code",
   "execution_count": 110,
   "id": "fd3eab57",
   "metadata": {
    "ExecuteTime": {
     "end_time": "2022-01-11T17:03:51.747851Z",
     "start_time": "2022-01-11T17:03:51.730662Z"
    }
   },
   "outputs": [
    {
     "data": {
      "text/plain": [
       "(36, 4)"
      ]
     },
     "execution_count": 110,
     "metadata": {},
     "output_type": "execute_result"
    }
   ],
   "source": [
    "data.shape"
   ]
  },
  {
   "cell_type": "code",
   "execution_count": 111,
   "id": "880f8e16",
   "metadata": {
    "ExecuteTime": {
     "end_time": "2022-01-11T17:04:22.818895Z",
     "start_time": "2022-01-11T17:03:53.954387Z"
    },
    "code_folding": []
   },
   "outputs": [
    {
     "name": "stdout",
     "output_type": "stream",
     "text": [
      "Product: https://www2.hm.com/en_us/productpage.1024256001.html\n",
      "Color: https://www2.hm.com/en_us/productpage.1024256001.html\n",
      "Color: https://www2.hm.com/en_us/productpage.1024256002.html\n",
      "Color: https://www2.hm.com/en_us/productpage.1024256003.html\n",
      "Color: https://www2.hm.com/en_us/productpage.1024256004.html\n",
      "Color: https://www2.hm.com/en_us/productpage.1024256005.html\n",
      "Color: https://www2.hm.com/en_us/productpage.1024256006.html\n",
      "Color: https://www2.hm.com/en_us/productpage.1024256007.html\n",
      "Product: https://www2.hm.com/en_us/productpage.0690449036.html\n",
      "Color: https://www2.hm.com/en_us/productpage.0690449036.html\n",
      "Color: https://www2.hm.com/en_us/productpage.0690449001.html\n",
      "Color: https://www2.hm.com/en_us/productpage.0690449002.html\n",
      "Color: https://www2.hm.com/en_us/productpage.0690449006.html\n",
      "Color: https://www2.hm.com/en_us/productpage.0690449007.html\n",
      "Color: https://www2.hm.com/en_us/productpage.0690449009.html\n",
      "Color: https://www2.hm.com/en_us/productpage.0690449011.html\n"
     ]
    },
    {
     "ename": "IndexError",
     "evalue": "list index out of range",
     "output_type": "error",
     "traceback": [
      "\u001b[0;31m---------------------------------------------------------------------------\u001b[0m",
      "\u001b[0;31mIndexError\u001b[0m                                Traceback (most recent call last)",
      "\u001b[0;32m/tmp/ipykernel_6255/1302645806.py\u001b[0m in \u001b[0;36m<module>\u001b[0;34m\u001b[0m\n\u001b[1;32m     48\u001b[0m         \u001b[0;31m########################  PRODUCT NAME  ###################################\u001b[0m\u001b[0;34m\u001b[0m\u001b[0;34m\u001b[0m\u001b[0;34m\u001b[0m\u001b[0m\n\u001b[1;32m     49\u001b[0m         \u001b[0mproduct_name\u001b[0m \u001b[0;34m=\u001b[0m \u001b[0msoup\u001b[0m\u001b[0;34m.\u001b[0m\u001b[0mfind_all\u001b[0m\u001b[0;34m(\u001b[0m\u001b[0;34m'h1'\u001b[0m\u001b[0;34m,\u001b[0m \u001b[0mclass_\u001b[0m \u001b[0;34m=\u001b[0m \u001b[0;34m'primary product-item-headline'\u001b[0m\u001b[0;34m)\u001b[0m\u001b[0;34m\u001b[0m\u001b[0;34m\u001b[0m\u001b[0m\n\u001b[0;32m---> 50\u001b[0;31m         \u001b[0mproduct_name\u001b[0m \u001b[0;34m=\u001b[0m \u001b[0mproduct_name\u001b[0m\u001b[0;34m[\u001b[0m\u001b[0;36m0\u001b[0m\u001b[0;34m]\u001b[0m\u001b[0;34m.\u001b[0m\u001b[0mget_text\u001b[0m\u001b[0;34m(\u001b[0m\u001b[0;34m)\u001b[0m\u001b[0;34m\u001b[0m\u001b[0;34m\u001b[0m\u001b[0m\n\u001b[0m\u001b[1;32m     51\u001b[0m \u001b[0;34m\u001b[0m\u001b[0m\n\u001b[1;32m     52\u001b[0m         \u001b[0;31m########################  PRODUCT PRICE  ###################################\u001b[0m\u001b[0;34m\u001b[0m\u001b[0;34m\u001b[0m\u001b[0;34m\u001b[0m\u001b[0m\n",
      "\u001b[0;31mIndexError\u001b[0m: list index out of range"
     ]
    }
   ],
   "source": [
    "\n",
    "#empty dataframe\n",
    "df_compositions = pd.DataFrame()\n",
    "\n",
    "#unique columns for all products\n",
    "aux = []\n",
    "\n",
    "cols = ['Art. No.',\n",
    " 'Composition',\n",
    " 'Fit',\n",
    " 'Product safety',\n",
    " 'Size',\n",
    " 'More sustainable materials']\n",
    "\n",
    "df_pattern = pd.DataFrame(columns = cols)\n",
    "\n",
    "\n",
    "for i in range(len(data)):  \n",
    "    #API Requests\n",
    "    url = 'https://www2.hm.com/en_us/productpage.' + data.loc[i, 'product_id'] + '.html'\n",
    "    print('Product: {}'.format(url))\n",
    "    \n",
    "    page = requests.get(url, headers = header)\n",
    "\n",
    "\n",
    "    #BeautifulSoup object\n",
    "    soup = BeautifulSoup(page.text, 'html.parser')\n",
    "\n",
    "    product_list = soup.find_all('a', class_ = 'filter-option miniature active') + soup.find_all('a', class_ = 'filter-option miniature')\n",
    "    color_item = [p.get('data-color') for p in product_list]\n",
    "\n",
    "    #product id\n",
    "    product_id = [p.get('data-articlecode') for p in product_list]\n",
    "\n",
    "    #creating data frame with product id+color name\n",
    "    df_color = pd.DataFrame((product_id, color_item)).T\n",
    "    df_color.columns = ['product_id', 'color_name'] #renaming columns\n",
    "    \n",
    "    for j in range(len(df_color)):\n",
    "        \n",
    "        #API Requests\n",
    "        url = 'https://www2.hm.com/en_us/productpage.' + df_color.loc[j, 'product_id'] + '.html'\n",
    "        print('Color: {}'.format(url))\n",
    "        page = requests.get(url, headers = header)\n",
    "\n",
    "        #BeautifulSoup object\n",
    "        soup = BeautifulSoup(page.text, 'html.parser')\n",
    "        \n",
    "        ########################  PRODUCT NAME  ###################################\n",
    "        product_name = soup.find_all('h1', class_ = 'primary product-item-headline')\n",
    "        product_name = product_name[0].get_text()\n",
    "        \n",
    "        ########################  PRODUCT PRICE  ###################################\n",
    "        product_price = soup.find_all('div', class_ = 'primary-row product-item-price')\n",
    "        product_price = re.findall(r'\\d+\\.?\\d+', product_price[0].get_text())[0]\n",
    "        \n",
    "        #######################  COMPOSITION  ######################################\n",
    "    \n",
    "        product_composition_list = soup.find_all('div', class_ = 'pdp-description-list-item')\n",
    "        product_composition = [list(filter(None, p.get_text().split(\"\\n\"))) for p in product_composition_list]\n",
    "\n",
    "        #renaming labels\n",
    "        df_composition = pd.DataFrame(product_composition).T\n",
    "        df_composition.columns = df_composition.iloc[0]\n",
    "\n",
    "        #deleting first row\n",
    "        df_composition = df_composition.iloc[1:].fillna(method = 'ffill')\n",
    "\n",
    "        #remove pocket lining, shell and lining\n",
    "        df_composition['Composition'] = df_composition['Composition'].str.replace('Pocket: ', '', regex = True)\n",
    "        df_composition['Composition'] = df_composition['Composition'].str.replace('Pocket lining: ', '', regex = True)\n",
    "        df_composition['Composition'] = df_composition['Composition'].str.replace('Shell: ', '', regex = True)\n",
    "        df_composition['Composition'] = df_composition['Composition'].str.replace('Lining: ', '', regex = True)\n",
    "        \n",
    "        #guarantee the same number of columns\n",
    "        df_composition = pd.concat([df_pattern, df_composition], axis = 0)\n",
    "        \n",
    "        #rename columns\n",
    "        df_composition.columns = ['product_id', 'composition', 'fit', 'product_safety', 'size', 'sustainable_materials']\n",
    "        df_composition['product_name'] = product_name\n",
    "        df_composition['product_price'] = product_price\n",
    "            \n",
    "        #keep new columns if they show up\n",
    "        aux = aux + df_composition.columns.tolist() \n",
    "\n",
    "        #merge df_color and df_composition\n",
    "        df_composition = pd.merge( df_composition, df_color, how = 'left', on = 'product_id')\n",
    "\n",
    "        #all products\n",
    "        df_compositions = pd.concat([df_compositions, df_composition], axis = 0)\n",
    "        \n",
    "# join showroom data + details\n",
    "df_compositions['style_id'] = df_compositions['product_id'].apply(lambda x: x[:-3])\n",
    "df_compositions['color_id'] = df_compositions['product_id'].apply(lambda x: x[-3:])\n",
    "\n",
    "df_compositions['scrapy_datetime'] = datetime.now().strftime('%Y-%m-%d %H:%M:%S')"
   ]
  },
  {
   "cell_type": "code",
   "execution_count": 12,
   "id": "57163c09",
   "metadata": {
    "ExecuteTime": {
     "end_time": "2022-01-11T15:42:38.052662Z",
     "start_time": "2022-01-11T15:42:38.001668Z"
    }
   },
   "outputs": [
    {
     "data": {
      "text/html": [
       "<div>\n",
       "<style scoped>\n",
       "    .dataframe tbody tr th:only-of-type {\n",
       "        vertical-align: middle;\n",
       "    }\n",
       "\n",
       "    .dataframe tbody tr th {\n",
       "        vertical-align: top;\n",
       "    }\n",
       "\n",
       "    .dataframe thead th {\n",
       "        text-align: right;\n",
       "    }\n",
       "</style>\n",
       "<table border=\"1\" class=\"dataframe\">\n",
       "  <thead>\n",
       "    <tr style=\"text-align: right;\">\n",
       "      <th></th>\n",
       "      <th>product_id</th>\n",
       "      <th>composition</th>\n",
       "      <th>fit</th>\n",
       "      <th>product_safety</th>\n",
       "      <th>size</th>\n",
       "      <th>sustainable_materials</th>\n",
       "      <th>product_name</th>\n",
       "      <th>product_price</th>\n",
       "      <th>color_name</th>\n",
       "      <th>style_id</th>\n",
       "      <th>color_id</th>\n",
       "      <th>scrapy_datetime</th>\n",
       "    </tr>\n",
       "  </thead>\n",
       "  <tbody>\n",
       "    <tr>\n",
       "      <th>0</th>\n",
       "      <td>1024256001</td>\n",
       "      <td>Polyester 65%, Cotton 35%</td>\n",
       "      <td>Slim fit</td>\n",
       "      <td>NaN</td>\n",
       "      <td>The model is 185cm/6'1\" and wears a size 31/32</td>\n",
       "      <td>NaN</td>\n",
       "      <td>\\n\\t\\t\\t\\t\\t\\t\\t  Slim Jeans</td>\n",
       "      <td>19.99</td>\n",
       "      <td>Black</td>\n",
       "      <td>1024256</td>\n",
       "      <td>001</td>\n",
       "      <td>2022-01-11 11:59:36</td>\n",
       "    </tr>\n",
       "    <tr>\n",
       "      <th>1</th>\n",
       "      <td>1024256001</td>\n",
       "      <td>Cotton 99%, Spandex 1%</td>\n",
       "      <td>Slim fit</td>\n",
       "      <td>NaN</td>\n",
       "      <td>The model is 185cm/6'1\" and wears a size 31/32</td>\n",
       "      <td>NaN</td>\n",
       "      <td>\\n\\t\\t\\t\\t\\t\\t\\t  Slim Jeans</td>\n",
       "      <td>19.99</td>\n",
       "      <td>Black</td>\n",
       "      <td>1024256</td>\n",
       "      <td>001</td>\n",
       "      <td>2022-01-11 11:59:36</td>\n",
       "    </tr>\n",
       "    <tr>\n",
       "      <th>0</th>\n",
       "      <td>1024256002</td>\n",
       "      <td>Cotton 99%, Spandex 1%</td>\n",
       "      <td>Slim fit</td>\n",
       "      <td>NaN</td>\n",
       "      <td>NaN</td>\n",
       "      <td>NaN</td>\n",
       "      <td>\\n\\t\\t\\t\\t\\t\\t\\t  Slim Jeans</td>\n",
       "      <td>19.99</td>\n",
       "      <td>Light denim blue</td>\n",
       "      <td>1024256</td>\n",
       "      <td>002</td>\n",
       "      <td>2022-01-11 11:59:36</td>\n",
       "    </tr>\n",
       "    <tr>\n",
       "      <th>1</th>\n",
       "      <td>1024256002</td>\n",
       "      <td>Polyester 65%, Cotton 35%</td>\n",
       "      <td>Slim fit</td>\n",
       "      <td>NaN</td>\n",
       "      <td>NaN</td>\n",
       "      <td>NaN</td>\n",
       "      <td>\\n\\t\\t\\t\\t\\t\\t\\t  Slim Jeans</td>\n",
       "      <td>19.99</td>\n",
       "      <td>Light denim blue</td>\n",
       "      <td>1024256</td>\n",
       "      <td>002</td>\n",
       "      <td>2022-01-11 11:59:36</td>\n",
       "    </tr>\n",
       "    <tr>\n",
       "      <th>0</th>\n",
       "      <td>1024256003</td>\n",
       "      <td>Cotton 99%, Spandex 1%</td>\n",
       "      <td>Slim fit</td>\n",
       "      <td>NaN</td>\n",
       "      <td>The model is 189cm/6'2\" and wears a size 31/32</td>\n",
       "      <td>NaN</td>\n",
       "      <td>\\n\\t\\t\\t\\t\\t\\t\\t  Slim Jeans</td>\n",
       "      <td>19.99</td>\n",
       "      <td>Light denim blue</td>\n",
       "      <td>1024256</td>\n",
       "      <td>003</td>\n",
       "      <td>2022-01-11 11:59:36</td>\n",
       "    </tr>\n",
       "    <tr>\n",
       "      <th>...</th>\n",
       "      <td>...</td>\n",
       "      <td>...</td>\n",
       "      <td>...</td>\n",
       "      <td>...</td>\n",
       "      <td>...</td>\n",
       "      <td>...</td>\n",
       "      <td>...</td>\n",
       "      <td>...</td>\n",
       "      <td>...</td>\n",
       "      <td>...</td>\n",
       "      <td>...</td>\n",
       "      <td>...</td>\n",
       "    </tr>\n",
       "    <tr>\n",
       "      <th>0</th>\n",
       "      <td>1004476001</td>\n",
       "      <td>Cotton 90%, Elasterell-P 8%, Spandex 2%</td>\n",
       "      <td>Slim fit</td>\n",
       "      <td>NaN</td>\n",
       "      <td>The model is 182cm/6'0\" and wears a size 31/32</td>\n",
       "      <td>NaN</td>\n",
       "      <td>\\n\\t\\t\\t\\t\\t\\t\\t  Freefit® Slim Jeans</td>\n",
       "      <td>28.99</td>\n",
       "      <td>Light denim blue</td>\n",
       "      <td>1004476</td>\n",
       "      <td>001</td>\n",
       "      <td>2022-01-11 11:59:36</td>\n",
       "    </tr>\n",
       "    <tr>\n",
       "      <th>0</th>\n",
       "      <td>1004476002</td>\n",
       "      <td>Cotton 90%, Elasterell-P 8%, Spandex 2%</td>\n",
       "      <td>Slim fit</td>\n",
       "      <td>NaN</td>\n",
       "      <td>NaN</td>\n",
       "      <td>NaN</td>\n",
       "      <td>\\n\\t\\t\\t\\t\\t\\t\\t  Freefit® Slim Jeans</td>\n",
       "      <td>29.99</td>\n",
       "      <td>Light denim blue</td>\n",
       "      <td>1004476</td>\n",
       "      <td>002</td>\n",
       "      <td>2022-01-11 11:59:36</td>\n",
       "    </tr>\n",
       "    <tr>\n",
       "      <th>0</th>\n",
       "      <td>1004476003</td>\n",
       "      <td>Cotton 90%, Elasterell-P 8%, Spandex 2%</td>\n",
       "      <td>Slim fit</td>\n",
       "      <td>NaN</td>\n",
       "      <td>NaN</td>\n",
       "      <td>NaN</td>\n",
       "      <td>\\n\\t\\t\\t\\t\\t\\t\\t  Freefit® Slim Jeans</td>\n",
       "      <td>29.99</td>\n",
       "      <td>Denim blue</td>\n",
       "      <td>1004476</td>\n",
       "      <td>003</td>\n",
       "      <td>2022-01-11 11:59:36</td>\n",
       "    </tr>\n",
       "    <tr>\n",
       "      <th>0</th>\n",
       "      <td>1004476004</td>\n",
       "      <td>Cotton 90%, Elasterell-P 8%, Spandex 2%</td>\n",
       "      <td>Slim fit</td>\n",
       "      <td>NaN</td>\n",
       "      <td>The model is 182cm/6'0\" and wears a size 31/32</td>\n",
       "      <td>NaN</td>\n",
       "      <td>\\n\\t\\t\\t\\t\\t\\t\\t  Freefit® Slim Jeans</td>\n",
       "      <td>28.99</td>\n",
       "      <td>Dark denim blue</td>\n",
       "      <td>1004476</td>\n",
       "      <td>004</td>\n",
       "      <td>2022-01-11 11:59:36</td>\n",
       "    </tr>\n",
       "    <tr>\n",
       "      <th>0</th>\n",
       "      <td>1004476005</td>\n",
       "      <td>Cotton 90%, Elasterell-P 8%, Spandex 2%</td>\n",
       "      <td>Slim fit</td>\n",
       "      <td>NaN</td>\n",
       "      <td>The model is 182cm/6'0\" and wears a size 31/32</td>\n",
       "      <td>NaN</td>\n",
       "      <td>\\n\\t\\t\\t\\t\\t\\t\\t  Freefit® Slim Jeans</td>\n",
       "      <td>34.99</td>\n",
       "      <td>Black/No fade black</td>\n",
       "      <td>1004476</td>\n",
       "      <td>005</td>\n",
       "      <td>2022-01-11 11:59:36</td>\n",
       "    </tr>\n",
       "  </tbody>\n",
       "</table>\n",
       "<p>512 rows × 12 columns</p>\n",
       "</div>"
      ],
      "text/plain": [
       "    product_id                              composition       fit  \\\n",
       "0   1024256001                Polyester 65%, Cotton 35%  Slim fit   \n",
       "1   1024256001                   Cotton 99%, Spandex 1%  Slim fit   \n",
       "0   1024256002                   Cotton 99%, Spandex 1%  Slim fit   \n",
       "1   1024256002                Polyester 65%, Cotton 35%  Slim fit   \n",
       "0   1024256003                   Cotton 99%, Spandex 1%  Slim fit   \n",
       "..         ...                                      ...       ...   \n",
       "0   1004476001  Cotton 90%, Elasterell-P 8%, Spandex 2%  Slim fit   \n",
       "0   1004476002  Cotton 90%, Elasterell-P 8%, Spandex 2%  Slim fit   \n",
       "0   1004476003  Cotton 90%, Elasterell-P 8%, Spandex 2%  Slim fit   \n",
       "0   1004476004  Cotton 90%, Elasterell-P 8%, Spandex 2%  Slim fit   \n",
       "0   1004476005  Cotton 90%, Elasterell-P 8%, Spandex 2%  Slim fit   \n",
       "\n",
       "   product_safety                                            size  \\\n",
       "0             NaN  The model is 185cm/6'1\" and wears a size 31/32   \n",
       "1             NaN  The model is 185cm/6'1\" and wears a size 31/32   \n",
       "0             NaN                                             NaN   \n",
       "1             NaN                                             NaN   \n",
       "0             NaN  The model is 189cm/6'2\" and wears a size 31/32   \n",
       "..            ...                                             ...   \n",
       "0             NaN  The model is 182cm/6'0\" and wears a size 31/32   \n",
       "0             NaN                                             NaN   \n",
       "0             NaN                                             NaN   \n",
       "0             NaN  The model is 182cm/6'0\" and wears a size 31/32   \n",
       "0             NaN  The model is 182cm/6'0\" and wears a size 31/32   \n",
       "\n",
       "   sustainable_materials                           product_name product_price  \\\n",
       "0                    NaN           \\n\\t\\t\\t\\t\\t\\t\\t  Slim Jeans         19.99   \n",
       "1                    NaN           \\n\\t\\t\\t\\t\\t\\t\\t  Slim Jeans         19.99   \n",
       "0                    NaN           \\n\\t\\t\\t\\t\\t\\t\\t  Slim Jeans         19.99   \n",
       "1                    NaN           \\n\\t\\t\\t\\t\\t\\t\\t  Slim Jeans         19.99   \n",
       "0                    NaN           \\n\\t\\t\\t\\t\\t\\t\\t  Slim Jeans         19.99   \n",
       "..                   ...                                    ...           ...   \n",
       "0                    NaN  \\n\\t\\t\\t\\t\\t\\t\\t  Freefit® Slim Jeans         28.99   \n",
       "0                    NaN  \\n\\t\\t\\t\\t\\t\\t\\t  Freefit® Slim Jeans         29.99   \n",
       "0                    NaN  \\n\\t\\t\\t\\t\\t\\t\\t  Freefit® Slim Jeans         29.99   \n",
       "0                    NaN  \\n\\t\\t\\t\\t\\t\\t\\t  Freefit® Slim Jeans         28.99   \n",
       "0                    NaN  \\n\\t\\t\\t\\t\\t\\t\\t  Freefit® Slim Jeans         34.99   \n",
       "\n",
       "             color_name style_id color_id      scrapy_datetime  \n",
       "0                 Black  1024256      001  2022-01-11 11:59:36  \n",
       "1                 Black  1024256      001  2022-01-11 11:59:36  \n",
       "0      Light denim blue  1024256      002  2022-01-11 11:59:36  \n",
       "1      Light denim blue  1024256      002  2022-01-11 11:59:36  \n",
       "0      Light denim blue  1024256      003  2022-01-11 11:59:36  \n",
       "..                  ...      ...      ...                  ...  \n",
       "0      Light denim blue  1004476      001  2022-01-11 11:59:36  \n",
       "0      Light denim blue  1004476      002  2022-01-11 11:59:36  \n",
       "0            Denim blue  1004476      003  2022-01-11 11:59:36  \n",
       "0       Dark denim blue  1004476      004  2022-01-11 11:59:36  \n",
       "0   Black/No fade black  1004476      005  2022-01-11 11:59:36  \n",
       "\n",
       "[512 rows x 12 columns]"
      ]
     },
     "execution_count": 12,
     "metadata": {},
     "output_type": "execute_result"
    }
   ],
   "source": [
    "df_compositions"
   ]
  },
  {
   "cell_type": "code",
   "execution_count": 103,
   "id": "00f2c1b1",
   "metadata": {
    "ExecuteTime": {
     "end_time": "2022-01-11T16:52:36.164540Z",
     "start_time": "2022-01-11T16:52:36.145764Z"
    }
   },
   "outputs": [
    {
     "data": {
      "text/plain": [
       "product_id                                                   1008549006\n",
       "composition                                         Pocket: Cotton 100%\n",
       "fit                                                         Regular fit\n",
       "product_safety                                                      NaN\n",
       "size                     The model is 188cm/6'2\" and wears a size 31/30\n",
       "sustainable_materials                               Recycled cotton 20%\n",
       "product_name                            \\n\\t\\t\\t\\t\\t\\t\\t  Regular Jeans\n",
       "product_price                                                     24.99\n",
       "color_name                                                        Black\n",
       "style_id                                                        1008549\n",
       "color_id                                                            006\n",
       "scrapy_datetime                                     2022-01-11 11:59:36\n",
       "Name: 0, dtype: object"
      ]
     },
     "execution_count": 103,
     "metadata": {},
     "output_type": "execute_result"
    }
   ],
   "source": [
    "df_compositions.iloc[483,:]"
   ]
  },
  {
   "cell_type": "code",
   "execution_count": 22,
   "id": "374d90bf",
   "metadata": {
    "ExecuteTime": {
     "end_time": "2022-01-10T14:32:47.698124Z",
     "start_time": "2022-01-10T14:32:47.674730Z"
    }
   },
   "outputs": [
    {
     "data": {
      "text/html": [
       "<div>\n",
       "<style scoped>\n",
       "    .dataframe tbody tr th:only-of-type {\n",
       "        vertical-align: middle;\n",
       "    }\n",
       "\n",
       "    .dataframe tbody tr th {\n",
       "        vertical-align: top;\n",
       "    }\n",
       "\n",
       "    .dataframe thead th {\n",
       "        text-align: right;\n",
       "    }\n",
       "</style>\n",
       "<table border=\"1\" class=\"dataframe\">\n",
       "  <thead>\n",
       "    <tr style=\"text-align: right;\">\n",
       "      <th></th>\n",
       "      <th>product_id</th>\n",
       "      <th>color_name</th>\n",
       "    </tr>\n",
       "  </thead>\n",
       "  <tbody>\n",
       "    <tr>\n",
       "      <th>0</th>\n",
       "      <td>1024256001</td>\n",
       "      <td>Black</td>\n",
       "    </tr>\n",
       "    <tr>\n",
       "      <th>1</th>\n",
       "      <td>1024256003</td>\n",
       "      <td>Light denim blue</td>\n",
       "    </tr>\n",
       "    <tr>\n",
       "      <th>2</th>\n",
       "      <td>1024256004</td>\n",
       "      <td>Denim blue</td>\n",
       "    </tr>\n",
       "    <tr>\n",
       "      <th>3</th>\n",
       "      <td>1024256005</td>\n",
       "      <td>Dark blue</td>\n",
       "    </tr>\n",
       "    <tr>\n",
       "      <th>4</th>\n",
       "      <td>1024256006</td>\n",
       "      <td>Dark denim blue</td>\n",
       "    </tr>\n",
       "    <tr>\n",
       "      <th>5</th>\n",
       "      <td>1024256007</td>\n",
       "      <td>Dark gray</td>\n",
       "    </tr>\n",
       "  </tbody>\n",
       "</table>\n",
       "</div>"
      ],
      "text/plain": [
       "   product_id        color_name\n",
       "0  1024256001             Black\n",
       "1  1024256003  Light denim blue\n",
       "2  1024256004        Denim blue\n",
       "3  1024256005         Dark blue\n",
       "4  1024256006   Dark denim blue\n",
       "5  1024256007         Dark gray"
      ]
     },
     "execution_count": 22,
     "metadata": {},
     "output_type": "execute_result"
    }
   ],
   "source": [
    "df_color"
   ]
  },
  {
   "cell_type": "markdown",
   "id": "900c2348",
   "metadata": {},
   "source": [
    "# Data Cleaning"
   ]
  },
  {
   "cell_type": "code",
   "execution_count": 8,
   "id": "96550eb6",
   "metadata": {
    "ExecuteTime": {
     "end_time": "2022-01-11T14:53:00.687336Z",
     "start_time": "2022-01-11T14:53:00.671410Z"
    }
   },
   "outputs": [
    {
     "data": {
      "text/plain": [
       "(512, 10)"
      ]
     },
     "execution_count": 8,
     "metadata": {},
     "output_type": "execute_result"
    }
   ],
   "source": [
    "df_compositions.shape"
   ]
  },
  {
   "cell_type": "code",
   "execution_count": 9,
   "id": "aae6ab09",
   "metadata": {
    "ExecuteTime": {
     "end_time": "2022-01-11T14:53:28.593529Z",
     "start_time": "2022-01-11T14:53:28.585450Z"
    }
   },
   "outputs": [
    {
     "data": {
      "text/plain": [
       "123"
      ]
     },
     "execution_count": 9,
     "metadata": {},
     "output_type": "execute_result"
    }
   ],
   "source": [
    "len(df_compositions['product_id'].unique())"
   ]
  },
  {
   "cell_type": "code",
   "execution_count": 104,
   "id": "e9f892c1",
   "metadata": {
    "ExecuteTime": {
     "end_time": "2022-01-11T17:00:54.918731Z",
     "start_time": "2022-01-11T17:00:54.799719Z"
    }
   },
   "outputs": [
    {
     "ename": "KeyError",
     "evalue": "'cotton'",
     "output_type": "error",
     "traceback": [
      "\u001b[0;31m---------------------------------------------------------------------------\u001b[0m",
      "\u001b[0;31mKeyError\u001b[0m                                  Traceback (most recent call last)",
      "\u001b[0;32m~/.pyenv/versions/3.8.10/envs/dsaodev/lib/python3.8/site-packages/pandas/core/indexes/base.py\u001b[0m in \u001b[0;36mget_loc\u001b[0;34m(self, key, method, tolerance)\u001b[0m\n\u001b[1;32m   3360\u001b[0m             \u001b[0;32mtry\u001b[0m\u001b[0;34m:\u001b[0m\u001b[0;34m\u001b[0m\u001b[0;34m\u001b[0m\u001b[0m\n\u001b[0;32m-> 3361\u001b[0;31m                 \u001b[0;32mreturn\u001b[0m \u001b[0mself\u001b[0m\u001b[0;34m.\u001b[0m\u001b[0m_engine\u001b[0m\u001b[0;34m.\u001b[0m\u001b[0mget_loc\u001b[0m\u001b[0;34m(\u001b[0m\u001b[0mcasted_key\u001b[0m\u001b[0;34m)\u001b[0m\u001b[0;34m\u001b[0m\u001b[0;34m\u001b[0m\u001b[0m\n\u001b[0m\u001b[1;32m   3362\u001b[0m             \u001b[0;32mexcept\u001b[0m \u001b[0mKeyError\u001b[0m \u001b[0;32mas\u001b[0m \u001b[0merr\u001b[0m\u001b[0;34m:\u001b[0m\u001b[0;34m\u001b[0m\u001b[0;34m\u001b[0m\u001b[0m\n",
      "\u001b[0;32m~/.pyenv/versions/3.8.10/envs/dsaodev/lib/python3.8/site-packages/pandas/_libs/index.pyx\u001b[0m in \u001b[0;36mpandas._libs.index.IndexEngine.get_loc\u001b[0;34m()\u001b[0m\n",
      "\u001b[0;32m~/.pyenv/versions/3.8.10/envs/dsaodev/lib/python3.8/site-packages/pandas/_libs/index.pyx\u001b[0m in \u001b[0;36mpandas._libs.index.IndexEngine.get_loc\u001b[0;34m()\u001b[0m\n",
      "\u001b[0;32mpandas/_libs/hashtable_class_helper.pxi\u001b[0m in \u001b[0;36mpandas._libs.hashtable.PyObjectHashTable.get_item\u001b[0;34m()\u001b[0m\n",
      "\u001b[0;32mpandas/_libs/hashtable_class_helper.pxi\u001b[0m in \u001b[0;36mpandas._libs.hashtable.PyObjectHashTable.get_item\u001b[0;34m()\u001b[0m\n",
      "\u001b[0;31mKeyError\u001b[0m: 'cotton'",
      "\nThe above exception was the direct cause of the following exception:\n",
      "\u001b[0;31mKeyError\u001b[0m                                  Traceback (most recent call last)",
      "\u001b[0;32m/tmp/ipykernel_6255/899756988.py\u001b[0m in \u001b[0;36m<module>\u001b[0;34m\u001b[0m\n\u001b[1;32m     98\u001b[0m \u001b[0;34m\u001b[0m\u001b[0m\n\u001b[1;32m     99\u001b[0m \u001b[0;31m#format composition data\u001b[0m\u001b[0;34m\u001b[0m\u001b[0;34m\u001b[0m\u001b[0;34m\u001b[0m\u001b[0m\n\u001b[0;32m--> 100\u001b[0;31m \u001b[0mdf_data\u001b[0m\u001b[0;34m[\u001b[0m\u001b[0;34m'cotton'\u001b[0m\u001b[0;34m]\u001b[0m     \u001b[0;34m=\u001b[0m \u001b[0mdf_data\u001b[0m\u001b[0;34m[\u001b[0m\u001b[0;34m'cotton'\u001b[0m\u001b[0;34m]\u001b[0m\u001b[0;34m.\u001b[0m\u001b[0mapply\u001b[0m\u001b[0;34m(\u001b[0m\u001b[0;32mlambda\u001b[0m \u001b[0mx\u001b[0m\u001b[0;34m:\u001b[0m \u001b[0mint\u001b[0m\u001b[0;34m(\u001b[0m\u001b[0mre\u001b[0m\u001b[0;34m.\u001b[0m\u001b[0msearch\u001b[0m\u001b[0;34m(\u001b[0m\u001b[0;34m'\\d+'\u001b[0m\u001b[0;34m,\u001b[0m \u001b[0mx\u001b[0m\u001b[0;34m)\u001b[0m\u001b[0;34m.\u001b[0m\u001b[0mgroup\u001b[0m\u001b[0;34m(\u001b[0m\u001b[0;36m0\u001b[0m\u001b[0;34m)\u001b[0m\u001b[0;34m)\u001b[0m\u001b[0;34m/\u001b[0m\u001b[0;36m100\u001b[0m \u001b[0;32mif\u001b[0m \u001b[0mpd\u001b[0m\u001b[0;34m.\u001b[0m\u001b[0mnotnull\u001b[0m\u001b[0;34m(\u001b[0m\u001b[0mx\u001b[0m\u001b[0;34m)\u001b[0m \u001b[0;32melse\u001b[0m \u001b[0mx\u001b[0m\u001b[0;34m)\u001b[0m\u001b[0;34m\u001b[0m\u001b[0;34m\u001b[0m\u001b[0m\n\u001b[0m\u001b[1;32m    101\u001b[0m \u001b[0mdf_data\u001b[0m\u001b[0;34m[\u001b[0m\u001b[0;34m'elasterell'\u001b[0m\u001b[0;34m]\u001b[0m \u001b[0;34m=\u001b[0m \u001b[0mdf_data\u001b[0m\u001b[0;34m[\u001b[0m\u001b[0;34m'elasterell'\u001b[0m\u001b[0;34m]\u001b[0m\u001b[0;34m.\u001b[0m\u001b[0mapply\u001b[0m\u001b[0;34m(\u001b[0m\u001b[0;32mlambda\u001b[0m \u001b[0mx\u001b[0m\u001b[0;34m:\u001b[0m \u001b[0mint\u001b[0m\u001b[0;34m(\u001b[0m\u001b[0mre\u001b[0m\u001b[0;34m.\u001b[0m\u001b[0msearch\u001b[0m\u001b[0;34m(\u001b[0m\u001b[0;34m'\\d+'\u001b[0m\u001b[0;34m,\u001b[0m \u001b[0mx\u001b[0m\u001b[0;34m)\u001b[0m\u001b[0;34m.\u001b[0m\u001b[0mgroup\u001b[0m\u001b[0;34m(\u001b[0m\u001b[0;36m0\u001b[0m\u001b[0;34m)\u001b[0m\u001b[0;34m)\u001b[0m\u001b[0;34m/\u001b[0m\u001b[0;36m100\u001b[0m \u001b[0;32mif\u001b[0m \u001b[0mpd\u001b[0m\u001b[0;34m.\u001b[0m\u001b[0mnotnull\u001b[0m\u001b[0;34m(\u001b[0m\u001b[0mx\u001b[0m\u001b[0;34m)\u001b[0m \u001b[0;32melse\u001b[0m \u001b[0mx\u001b[0m\u001b[0;34m)\u001b[0m\u001b[0;34m\u001b[0m\u001b[0;34m\u001b[0m\u001b[0m\n\u001b[1;32m    102\u001b[0m \u001b[0mdf_data\u001b[0m\u001b[0;34m[\u001b[0m\u001b[0;34m'spandex'\u001b[0m\u001b[0;34m]\u001b[0m    \u001b[0;34m=\u001b[0m \u001b[0mdf_data\u001b[0m\u001b[0;34m[\u001b[0m\u001b[0;34m'spandex'\u001b[0m\u001b[0;34m]\u001b[0m\u001b[0;34m.\u001b[0m\u001b[0mapply\u001b[0m\u001b[0;34m(\u001b[0m\u001b[0;32mlambda\u001b[0m \u001b[0mx\u001b[0m\u001b[0;34m:\u001b[0m \u001b[0mint\u001b[0m\u001b[0;34m(\u001b[0m\u001b[0mre\u001b[0m\u001b[0;34m.\u001b[0m\u001b[0msearch\u001b[0m\u001b[0;34m(\u001b[0m\u001b[0;34m'\\d+'\u001b[0m\u001b[0;34m,\u001b[0m \u001b[0mx\u001b[0m\u001b[0;34m)\u001b[0m\u001b[0;34m.\u001b[0m\u001b[0mgroup\u001b[0m\u001b[0;34m(\u001b[0m\u001b[0;36m0\u001b[0m\u001b[0;34m)\u001b[0m\u001b[0;34m)\u001b[0m\u001b[0;34m/\u001b[0m\u001b[0;36m100\u001b[0m \u001b[0;32mif\u001b[0m \u001b[0mpd\u001b[0m\u001b[0;34m.\u001b[0m\u001b[0mnotnull\u001b[0m\u001b[0;34m(\u001b[0m\u001b[0mx\u001b[0m\u001b[0;34m)\u001b[0m \u001b[0;32melse\u001b[0m \u001b[0mx\u001b[0m\u001b[0;34m)\u001b[0m\u001b[0;34m\u001b[0m\u001b[0;34m\u001b[0m\u001b[0m\n",
      "\u001b[0;32m~/.pyenv/versions/3.8.10/envs/dsaodev/lib/python3.8/site-packages/pandas/core/frame.py\u001b[0m in \u001b[0;36m__getitem__\u001b[0;34m(self, key)\u001b[0m\n\u001b[1;32m   3456\u001b[0m             \u001b[0;32mif\u001b[0m \u001b[0mself\u001b[0m\u001b[0;34m.\u001b[0m\u001b[0mcolumns\u001b[0m\u001b[0;34m.\u001b[0m\u001b[0mnlevels\u001b[0m \u001b[0;34m>\u001b[0m \u001b[0;36m1\u001b[0m\u001b[0;34m:\u001b[0m\u001b[0;34m\u001b[0m\u001b[0;34m\u001b[0m\u001b[0m\n\u001b[1;32m   3457\u001b[0m                 \u001b[0;32mreturn\u001b[0m \u001b[0mself\u001b[0m\u001b[0;34m.\u001b[0m\u001b[0m_getitem_multilevel\u001b[0m\u001b[0;34m(\u001b[0m\u001b[0mkey\u001b[0m\u001b[0;34m)\u001b[0m\u001b[0;34m\u001b[0m\u001b[0;34m\u001b[0m\u001b[0m\n\u001b[0;32m-> 3458\u001b[0;31m             \u001b[0mindexer\u001b[0m \u001b[0;34m=\u001b[0m \u001b[0mself\u001b[0m\u001b[0;34m.\u001b[0m\u001b[0mcolumns\u001b[0m\u001b[0;34m.\u001b[0m\u001b[0mget_loc\u001b[0m\u001b[0;34m(\u001b[0m\u001b[0mkey\u001b[0m\u001b[0;34m)\u001b[0m\u001b[0;34m\u001b[0m\u001b[0;34m\u001b[0m\u001b[0m\n\u001b[0m\u001b[1;32m   3459\u001b[0m             \u001b[0;32mif\u001b[0m \u001b[0mis_integer\u001b[0m\u001b[0;34m(\u001b[0m\u001b[0mindexer\u001b[0m\u001b[0;34m)\u001b[0m\u001b[0;34m:\u001b[0m\u001b[0;34m\u001b[0m\u001b[0;34m\u001b[0m\u001b[0m\n\u001b[1;32m   3460\u001b[0m                 \u001b[0mindexer\u001b[0m \u001b[0;34m=\u001b[0m \u001b[0;34m[\u001b[0m\u001b[0mindexer\u001b[0m\u001b[0;34m]\u001b[0m\u001b[0;34m\u001b[0m\u001b[0;34m\u001b[0m\u001b[0m\n",
      "\u001b[0;32m~/.pyenv/versions/3.8.10/envs/dsaodev/lib/python3.8/site-packages/pandas/core/indexes/base.py\u001b[0m in \u001b[0;36mget_loc\u001b[0;34m(self, key, method, tolerance)\u001b[0m\n\u001b[1;32m   3361\u001b[0m                 \u001b[0;32mreturn\u001b[0m \u001b[0mself\u001b[0m\u001b[0;34m.\u001b[0m\u001b[0m_engine\u001b[0m\u001b[0;34m.\u001b[0m\u001b[0mget_loc\u001b[0m\u001b[0;34m(\u001b[0m\u001b[0mcasted_key\u001b[0m\u001b[0;34m)\u001b[0m\u001b[0;34m\u001b[0m\u001b[0;34m\u001b[0m\u001b[0m\n\u001b[1;32m   3362\u001b[0m             \u001b[0;32mexcept\u001b[0m \u001b[0mKeyError\u001b[0m \u001b[0;32mas\u001b[0m \u001b[0merr\u001b[0m\u001b[0;34m:\u001b[0m\u001b[0;34m\u001b[0m\u001b[0;34m\u001b[0m\u001b[0m\n\u001b[0;32m-> 3363\u001b[0;31m                 \u001b[0;32mraise\u001b[0m \u001b[0mKeyError\u001b[0m\u001b[0;34m(\u001b[0m\u001b[0mkey\u001b[0m\u001b[0;34m)\u001b[0m \u001b[0;32mfrom\u001b[0m \u001b[0merr\u001b[0m\u001b[0;34m\u001b[0m\u001b[0;34m\u001b[0m\u001b[0m\n\u001b[0m\u001b[1;32m   3364\u001b[0m \u001b[0;34m\u001b[0m\u001b[0m\n\u001b[1;32m   3365\u001b[0m         \u001b[0;32mif\u001b[0m \u001b[0mis_scalar\u001b[0m\u001b[0;34m(\u001b[0m\u001b[0mkey\u001b[0m\u001b[0;34m)\u001b[0m \u001b[0;32mand\u001b[0m \u001b[0misna\u001b[0m\u001b[0;34m(\u001b[0m\u001b[0mkey\u001b[0m\u001b[0;34m)\u001b[0m \u001b[0;32mand\u001b[0m \u001b[0;32mnot\u001b[0m \u001b[0mself\u001b[0m\u001b[0;34m.\u001b[0m\u001b[0mhasnans\u001b[0m\u001b[0;34m:\u001b[0m\u001b[0;34m\u001b[0m\u001b[0;34m\u001b[0m\u001b[0m\n",
      "\u001b[0;31mKeyError\u001b[0m: 'cotton'"
     ]
    }
   ],
   "source": [
    "\n",
    "#product id\n",
    "#dropping NaN values\n",
    "df_data = df_compositions.dropna(subset=['product_id'])\n",
    "#data['product_id'] = data['product_id'].astype(int)\n",
    "\n",
    "#product_name\n",
    "#df_data['product_name'] = df_data['product_name'].str.replace('\\n', '')\n",
    "#df_data['product_name'] = df_data['product_name'].str.replace('\\t', '')\n",
    "\n",
    "df_data['product_name'] = df_data['product_name'].str.strip()\n",
    "df_data['product_name'] = df_data['product_name'].str.replace(' ', '_').str.lower()\n",
    "df_data['product_name'] = df_data['product_name'].str.replace('®', '').str.lower()\n",
    "\n",
    "\n",
    "#product_price\n",
    "df_data['product_price'] = df_data['product_price'].astype(float)\n",
    "#scrapy time\n",
    "#data['scrapy_time'] = pd.to_datetime(data['scrapy_time'], format = '%Y-%m-%d %H:%M:%S')\n",
    "\n",
    "#color name\n",
    "df_data['color_name'] = df_data['color_name'].str.replace(' ', '_').str.lower()\n",
    "\n",
    "#fit\n",
    "df_data['fit'] = df_data['fit'].apply(lambda x: x.replace(' ', '_').lower() if pd.notnull(x) else x)\n",
    "\n",
    "#size number\n",
    "df_data['size_number'] = df_data['size'].apply(lambda x: re.search('\\d{3}', x).group(0) if pd.notnull(x) else x)\n",
    "#df_data['size_number'] = df_data['size_number'].apply(lambda x: re.search('\\d+', x).group(0) if pd.notnull(x) else x)\n",
    "\n",
    "#size model\n",
    "df_data['size_model'] = df_data['size'].str.extract('(\\d+/\\\\d+)')\n",
    "df_data['size_model'] = df_data['size_model'].apply(lambda x: x.replace('/', '_') if pd.notnull(x) else x)\n",
    "\n",
    "#drop duplicated cells\n",
    "#df_data = df_data.drop_duplicates()\n",
    "#(subset=['product_id', 'product_category', 'product_name', 'product_price', 'scrapy_time', 'style_id', 'color_id', 'color_name', 'Fit', 'Composition', 'size_number', 'size_model'], keep='last' )\n",
    "\n",
    "#reset index\n",
    "#df_data = df_data.reset_index(drop = True)\n",
    "\n",
    "#break composition by comma\n",
    "df1 = df_data['composition'].str.split(',', expand = True).reset_index(drop = True)\n",
    "\n",
    "\n",
    "#creating new df with columns\n",
    "# cotton | polyester | spandex | elasterell\n",
    "df_ref = pd.DataFrame(index = np.arange(len(df_data)), columns = ['cotton', 'polyester', 'spandex', 'elasterell'])\n",
    "\n",
    "############################### COMPOSITION #####################################\n",
    "\n",
    "# -------------- cotton --------------\n",
    "df_cotton_0 = df1.loc[df1[0].str.contains('Cotton', na = True), 0]\n",
    "df_cotton_0.name = 'cotton'\n",
    "df_cotton_1 = df1.loc[df1[1].str.contains('Cotton', na = True), 1]\n",
    "df_cotton_1.name = 'cotton'\n",
    "\n",
    "# combine cotton df's\n",
    "df_cotton = df_cotton_0.combine_first(df_cotton_1)\n",
    "\n",
    "df_ref = pd.concat([df_ref, df_cotton], axis = 1)\n",
    "df_ref = df_ref.iloc[:, ~df_ref.columns.duplicated(keep = 'last')]\n",
    "\n",
    "\n",
    "#------------ polyester ---------------\n",
    "df_polyester_0 = df1.loc[df1[0].str.contains('Polyester', na = True), 0]\n",
    "df_polyester_0.name = 'polyester'\n",
    "df_polyester_1 = df1.loc[df1[1].str.contains('Polyester', na = True), 1]\n",
    "df_polyester_1.name = 'polyester'\n",
    "\n",
    "df_polyester = df_polyester_0.combine_first(df_polyester_1)\n",
    "df_ref = pd.concat([df_ref, df_polyester], axis = 1)\n",
    "df_ref = df_ref.iloc[:, ~df_ref.columns.duplicated(keep = 'last')]\n",
    "\n",
    "#----------- spandex --------------------\n",
    "df_spandex_1 = df1.loc[df1[1].str.contains('Spandex', na = True), 1]\n",
    "df_spandex_1.name = 'spandex'\n",
    "df_spandex_2 = df1.loc[df1[2].str.contains('Spandex', na = True), 2]\n",
    "df_spandex_2.name = 'spandex'\n",
    "df_spandex_3 = df1.loc[df1[3].str.contains('Spandex', na = True), 3]\n",
    "df_spandex_3.name = 'spandex'\n",
    "\n",
    "df_spandex_c2 = df_spandex_1.combine_first(df_spandex_2)\n",
    "df_spandex = df_spandex_c2.combine_first(df_spandex_3)\n",
    "\n",
    "df_ref = pd.concat([df_ref, df_spandex], axis = 1)\n",
    "df_ref = df_ref.iloc[:, ~df_ref.columns.duplicated(keep = 'last')]\n",
    "\n",
    "\n",
    "# ---------- elasterell --------------------\n",
    "df_elasterell = df1.loc[df1[1].str.contains('Elasterell', na = True), 1]\n",
    "df_elasterell.name = 'elasterell'\n",
    "\n",
    "df_ref = pd.concat([df_ref, df_elasterell], axis = 1)\n",
    "df_ref = df_ref.iloc[:, ~df_ref.columns.duplicated(keep = 'last')]\n",
    "\n",
    "#combine join with product id \n",
    "df_aux = pd.concat([df_data['product_id'].reset_index(drop = True), df_ref], axis = 1)\n",
    "\n",
    "#format composition data\n",
    "df_data['cotton']     = df_data['cotton'].apply(lambda x: int(re.search('\\d+', x).group(0))/100 if pd.notnull(x) else x)\n",
    "df_data['elasterell'] = df_data['elasterell'].apply(lambda x: int(re.search('\\d+', x).group(0))/100 if pd.notnull(x) else x)\n",
    "df_data['spandex']    = df_data['spandex'].apply(lambda x: int(re.search('\\d+', x).group(0))/100 if pd.notnull(x) else x)\n",
    "df_data['polyester']  = df_data['polyester'].apply(lambda x: int(re.search('\\d+', x).group(0))/100 if pd.notnull(x) else x)\n",
    "\n",
    "#final join\n",
    "df_aux = df_aux.groupby('product_id').max().reset_index().fillna(0)\n",
    "df_data = pd.merge([df_data, df_aux], on = 'product_id', how = 'left')\n",
    "\n",
    "#drop columns\n",
    "df_data = df_data.drop(columns = ['size', 'product_safety', 'sustainable_materials', 'composition'])"
   ]
  },
  {
   "cell_type": "code",
   "execution_count": 93,
   "id": "e585e301",
   "metadata": {
    "ExecuteTime": {
     "end_time": "2022-01-11T16:44:48.258641Z",
     "start_time": "2022-01-11T16:44:48.213389Z"
    }
   },
   "outputs": [
    {
     "data": {
      "text/html": [
       "<div>\n",
       "<style scoped>\n",
       "    .dataframe tbody tr th:only-of-type {\n",
       "        vertical-align: middle;\n",
       "    }\n",
       "\n",
       "    .dataframe tbody tr th {\n",
       "        vertical-align: top;\n",
       "    }\n",
       "\n",
       "    .dataframe thead th {\n",
       "        text-align: right;\n",
       "    }\n",
       "</style>\n",
       "<table border=\"1\" class=\"dataframe\">\n",
       "  <thead>\n",
       "    <tr style=\"text-align: right;\">\n",
       "      <th></th>\n",
       "      <th>cotton</th>\n",
       "      <th>polyester</th>\n",
       "      <th>spandex</th>\n",
       "      <th>elasterell</th>\n",
       "    </tr>\n",
       "  </thead>\n",
       "  <tbody>\n",
       "    <tr>\n",
       "      <th>0</th>\n",
       "      <td>Cotton 35%</td>\n",
       "      <td>Polyester 65%</td>\n",
       "      <td>None</td>\n",
       "      <td>NaN</td>\n",
       "    </tr>\n",
       "    <tr>\n",
       "      <th>1</th>\n",
       "      <td>Cotton 99%</td>\n",
       "      <td>NaN</td>\n",
       "      <td>Spandex 1%</td>\n",
       "      <td>NaN</td>\n",
       "    </tr>\n",
       "    <tr>\n",
       "      <th>2</th>\n",
       "      <td>Cotton 99%</td>\n",
       "      <td>NaN</td>\n",
       "      <td>Spandex 1%</td>\n",
       "      <td>NaN</td>\n",
       "    </tr>\n",
       "    <tr>\n",
       "      <th>3</th>\n",
       "      <td>Cotton 35%</td>\n",
       "      <td>Polyester 65%</td>\n",
       "      <td>None</td>\n",
       "      <td>NaN</td>\n",
       "    </tr>\n",
       "    <tr>\n",
       "      <th>4</th>\n",
       "      <td>Cotton 99%</td>\n",
       "      <td>NaN</td>\n",
       "      <td>Spandex 1%</td>\n",
       "      <td>NaN</td>\n",
       "    </tr>\n",
       "    <tr>\n",
       "      <th>...</th>\n",
       "      <td>...</td>\n",
       "      <td>...</td>\n",
       "      <td>...</td>\n",
       "      <td>...</td>\n",
       "    </tr>\n",
       "    <tr>\n",
       "      <th>507</th>\n",
       "      <td>Cotton 90%</td>\n",
       "      <td>NaN</td>\n",
       "      <td>Spandex 2%</td>\n",
       "      <td>Elasterell-P 8%</td>\n",
       "    </tr>\n",
       "    <tr>\n",
       "      <th>508</th>\n",
       "      <td>Cotton 90%</td>\n",
       "      <td>NaN</td>\n",
       "      <td>Spandex 2%</td>\n",
       "      <td>Elasterell-P 8%</td>\n",
       "    </tr>\n",
       "    <tr>\n",
       "      <th>509</th>\n",
       "      <td>Cotton 90%</td>\n",
       "      <td>NaN</td>\n",
       "      <td>Spandex 2%</td>\n",
       "      <td>Elasterell-P 8%</td>\n",
       "    </tr>\n",
       "    <tr>\n",
       "      <th>510</th>\n",
       "      <td>Cotton 90%</td>\n",
       "      <td>NaN</td>\n",
       "      <td>Spandex 2%</td>\n",
       "      <td>Elasterell-P 8%</td>\n",
       "    </tr>\n",
       "    <tr>\n",
       "      <th>511</th>\n",
       "      <td>Cotton 90%</td>\n",
       "      <td>NaN</td>\n",
       "      <td>Spandex 2%</td>\n",
       "      <td>Elasterell-P 8%</td>\n",
       "    </tr>\n",
       "  </tbody>\n",
       "</table>\n",
       "<p>512 rows × 4 columns</p>\n",
       "</div>"
      ],
      "text/plain": [
       "          cotton      polyester      spandex        elasterell\n",
       "0     Cotton 35%  Polyester 65%         None               NaN\n",
       "1     Cotton 99%            NaN   Spandex 1%               NaN\n",
       "2     Cotton 99%            NaN   Spandex 1%               NaN\n",
       "3     Cotton 35%  Polyester 65%         None               NaN\n",
       "4     Cotton 99%            NaN   Spandex 1%               NaN\n",
       "..           ...            ...          ...               ...\n",
       "507   Cotton 90%            NaN   Spandex 2%   Elasterell-P 8%\n",
       "508   Cotton 90%            NaN   Spandex 2%   Elasterell-P 8%\n",
       "509   Cotton 90%            NaN   Spandex 2%   Elasterell-P 8%\n",
       "510   Cotton 90%            NaN   Spandex 2%   Elasterell-P 8%\n",
       "511   Cotton 90%            NaN   Spandex 2%   Elasterell-P 8%\n",
       "\n",
       "[512 rows x 4 columns]"
      ]
     },
     "execution_count": 93,
     "metadata": {},
     "output_type": "execute_result"
    }
   ],
   "source": [
    "df_ref"
   ]
  },
  {
   "cell_type": "code",
   "execution_count": 94,
   "id": "a43ce4c6",
   "metadata": {
    "ExecuteTime": {
     "end_time": "2022-01-11T16:49:59.877981Z",
     "start_time": "2022-01-11T16:49:59.871265Z"
    }
   },
   "outputs": [
    {
     "data": {
      "text/plain": [
       "array(['Polyester 65%', 'Cotton 99%', 'Cotton 100%', 'Cotton 98%',\n",
       "       'Polyester 100%', 'Polyester 63%', 'Cotton 79%', 'Cotton 77%',\n",
       "       'Cotton 78%', 'Cotton 80%', 'Cotton 93%', 'Cotton 91%',\n",
       "       'Cotton 72%', 'Pocket: Cotton 100%', 'Cotton 90%'], dtype=object)"
      ]
     },
     "execution_count": 94,
     "metadata": {},
     "output_type": "execute_result"
    }
   ],
   "source": [
    "df1[0].unique()"
   ]
  },
  {
   "cell_type": "code",
   "execution_count": 97,
   "id": "18e6ce77",
   "metadata": {
    "ExecuteTime": {
     "end_time": "2022-01-11T16:51:12.263365Z",
     "start_time": "2022-01-11T16:51:12.250627Z"
    }
   },
   "outputs": [
    {
     "data": {
      "text/html": [
       "<div>\n",
       "<style scoped>\n",
       "    .dataframe tbody tr th:only-of-type {\n",
       "        vertical-align: middle;\n",
       "    }\n",
       "\n",
       "    .dataframe tbody tr th {\n",
       "        vertical-align: top;\n",
       "    }\n",
       "\n",
       "    .dataframe thead th {\n",
       "        text-align: right;\n",
       "    }\n",
       "</style>\n",
       "<table border=\"1\" class=\"dataframe\">\n",
       "  <thead>\n",
       "    <tr style=\"text-align: right;\">\n",
       "      <th></th>\n",
       "      <th>0</th>\n",
       "      <th>1</th>\n",
       "      <th>2</th>\n",
       "      <th>3</th>\n",
       "    </tr>\n",
       "  </thead>\n",
       "  <tbody>\n",
       "    <tr>\n",
       "      <th>483</th>\n",
       "      <td>Pocket: Cotton 100%</td>\n",
       "      <td>None</td>\n",
       "      <td>None</td>\n",
       "      <td>None</td>\n",
       "    </tr>\n",
       "  </tbody>\n",
       "</table>\n",
       "</div>"
      ],
      "text/plain": [
       "                       0     1     2     3\n",
       "483  Pocket: Cotton 100%  None  None  None"
      ]
     },
     "execution_count": 97,
     "metadata": {},
     "output_type": "execute_result"
    }
   ],
   "source": [
    "df1[df1[0] == 'Pocket: Cotton 100%']"
   ]
  },
  {
   "cell_type": "code",
   "execution_count": 78,
   "id": "e1188ea3",
   "metadata": {
    "ExecuteTime": {
     "end_time": "2022-01-11T16:31:26.961483Z",
     "start_time": "2022-01-11T16:31:26.944335Z"
    }
   },
   "outputs": [
    {
     "data": {
      "text/plain": [
       "array([' Cotton 35%', ' Spandex 1%', None, ' Spandex 2%', ' Cotton 37%',\n",
       "       ' Polyester 20%', ' Polyester 21%', ' Polyester 19%',\n",
       "       ' Polyester 6%', ' Polyester 7%', ' Elasterell-P 8%'], dtype=object)"
      ]
     },
     "execution_count": 78,
     "metadata": {},
     "output_type": "execute_result"
    }
   ],
   "source": [
    "df1[1].unique()"
   ]
  },
  {
   "cell_type": "code",
   "execution_count": 79,
   "id": "cdc62a84",
   "metadata": {
    "ExecuteTime": {
     "end_time": "2022-01-11T16:31:30.966414Z",
     "start_time": "2022-01-11T16:31:30.959622Z"
    }
   },
   "outputs": [
    {
     "data": {
      "text/plain": [
       "array([None, ' Spandex 1%', ' Spandex 2%', ' Modal 7%'], dtype=object)"
      ]
     },
     "execution_count": 79,
     "metadata": {},
     "output_type": "execute_result"
    }
   ],
   "source": [
    "df1[2].unique()"
   ]
  },
  {
   "cell_type": "code",
   "execution_count": 80,
   "id": "f5a56b48",
   "metadata": {
    "ExecuteTime": {
     "end_time": "2022-01-11T16:31:37.001458Z",
     "start_time": "2022-01-11T16:31:36.992383Z"
    }
   },
   "outputs": [
    {
     "data": {
      "text/plain": [
       "array([None, ' Spandex 1%'], dtype=object)"
      ]
     },
     "execution_count": 80,
     "metadata": {},
     "output_type": "execute_result"
    }
   ],
   "source": [
    "df1[3].unique()"
   ]
  },
  {
   "cell_type": "code",
   "execution_count": null,
   "id": "f078d203",
   "metadata": {},
   "outputs": [],
   "source": []
  }
 ],
 "metadata": {
  "hide_input": false,
  "kernelspec": {
   "display_name": "Python 3 (ipykernel)",
   "language": "python",
   "name": "python3"
  },
  "language_info": {
   "codemirror_mode": {
    "name": "ipython",
    "version": 3
   },
   "file_extension": ".py",
   "mimetype": "text/x-python",
   "name": "python",
   "nbconvert_exporter": "python",
   "pygments_lexer": "ipython3",
   "version": "3.8.10"
  }
 },
 "nbformat": 4,
 "nbformat_minor": 5
}
