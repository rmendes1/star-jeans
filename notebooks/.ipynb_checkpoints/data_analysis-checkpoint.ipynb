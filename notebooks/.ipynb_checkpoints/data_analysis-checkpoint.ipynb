{
 "cells": [
  {
   "cell_type": "code",
   "execution_count": null,
   "id": "2bede55b",
   "metadata": {
    "ExecuteTime": {
     "start_time": "2022-01-17T16:07:09.266Z"
    }
   },
   "outputs": [],
   "source": [
    "import pandas as pd\n",
    "import numpy as np\n",
    "from sqlalchemy import create_engine"
   ]
  },
  {
   "cell_type": "code",
   "execution_count": 4,
   "id": "ad7d6901",
   "metadata": {
    "ExecuteTime": {
     "end_time": "2022-01-17T15:10:26.154015Z",
     "start_time": "2022-01-17T15:10:26.135650Z"
    }
   },
   "outputs": [],
   "source": [
    "path = '/home/joao/projetos/dsaodev/projcode/executables/'\n",
    "database_name = 'database_hm.sqlite'\n",
    "conn = create_engine('sqlite:///' + path + database_name, echo = False)"
   ]
  },
  {
   "cell_type": "code",
   "execution_count": 5,
   "id": "f26d2d80",
   "metadata": {
    "ExecuteTime": {
     "end_time": "2022-01-17T15:10:28.356819Z",
     "start_time": "2022-01-17T15:10:28.341258Z"
    }
   },
   "outputs": [],
   "source": [
    "query = '''\n",
    "    SELECT * FROM vitrine\n",
    "    '''"
   ]
  },
  {
   "cell_type": "code",
   "execution_count": 6,
   "id": "c79bcee7",
   "metadata": {
    "ExecuteTime": {
     "end_time": "2022-01-17T15:10:30.622959Z",
     "start_time": "2022-01-17T15:10:30.573595Z"
    }
   },
   "outputs": [],
   "source": [
    "df_raw = pd.read_sql(query, con = conn)"
   ]
  },
  {
   "cell_type": "code",
   "execution_count": 7,
   "id": "59deba1a",
   "metadata": {
    "ExecuteTime": {
     "end_time": "2022-01-17T15:10:33.969582Z",
     "start_time": "2022-01-17T15:10:33.854863Z"
    },
    "scrolled": true
   },
   "outputs": [
    {
     "data": {
      "text/html": [
       "<div>\n",
       "<style scoped>\n",
       "    .dataframe tbody tr th:only-of-type {\n",
       "        vertical-align: middle;\n",
       "    }\n",
       "\n",
       "    .dataframe tbody tr th {\n",
       "        vertical-align: top;\n",
       "    }\n",
       "\n",
       "    .dataframe thead th {\n",
       "        text-align: right;\n",
       "    }\n",
       "</style>\n",
       "<table border=\"1\" class=\"dataframe\">\n",
       "  <thead>\n",
       "    <tr style=\"text-align: right;\">\n",
       "      <th></th>\n",
       "      <th>product_id</th>\n",
       "      <th>style_id</th>\n",
       "      <th>color_id</th>\n",
       "      <th>product_name</th>\n",
       "      <th>color_name</th>\n",
       "      <th>fit</th>\n",
       "      <th>product_price</th>\n",
       "      <th>size_number</th>\n",
       "      <th>size_model</th>\n",
       "      <th>cotton</th>\n",
       "      <th>polyester</th>\n",
       "      <th>spandex</th>\n",
       "      <th>elasterell</th>\n",
       "      <th>scrapy_datetime</th>\n",
       "    </tr>\n",
       "  </thead>\n",
       "  <tbody>\n",
       "    <tr>\n",
       "      <th>0</th>\n",
       "      <td>1024256001</td>\n",
       "      <td>1024256</td>\n",
       "      <td>001</td>\n",
       "      <td>slim_jeans</td>\n",
       "      <td>black</td>\n",
       "      <td>slim_fit</td>\n",
       "      <td>19.99</td>\n",
       "      <td>185</td>\n",
       "      <td>31_32</td>\n",
       "      <td>0.99</td>\n",
       "      <td>0.65</td>\n",
       "      <td>0.01</td>\n",
       "      <td>0.0</td>\n",
       "      <td>2022-01-16 20:00:04</td>\n",
       "    </tr>\n",
       "    <tr>\n",
       "      <th>1</th>\n",
       "      <td>1024256002</td>\n",
       "      <td>1024256</td>\n",
       "      <td>002</td>\n",
       "      <td>slim_jeans</td>\n",
       "      <td>light_denim_blue</td>\n",
       "      <td>slim_fit</td>\n",
       "      <td>19.99</td>\n",
       "      <td>None</td>\n",
       "      <td>None</td>\n",
       "      <td>0.99</td>\n",
       "      <td>0.65</td>\n",
       "      <td>0.01</td>\n",
       "      <td>0.0</td>\n",
       "      <td>2022-01-16 20:00:04</td>\n",
       "    </tr>\n",
       "    <tr>\n",
       "      <th>2</th>\n",
       "      <td>1024256003</td>\n",
       "      <td>1024256</td>\n",
       "      <td>003</td>\n",
       "      <td>slim_jeans</td>\n",
       "      <td>light_denim_blue</td>\n",
       "      <td>slim_fit</td>\n",
       "      <td>19.99</td>\n",
       "      <td>189</td>\n",
       "      <td>31_32</td>\n",
       "      <td>0.99</td>\n",
       "      <td>0.65</td>\n",
       "      <td>0.01</td>\n",
       "      <td>0.0</td>\n",
       "      <td>2022-01-16 20:00:04</td>\n",
       "    </tr>\n",
       "    <tr>\n",
       "      <th>3</th>\n",
       "      <td>1024256004</td>\n",
       "      <td>1024256</td>\n",
       "      <td>004</td>\n",
       "      <td>slim_jeans</td>\n",
       "      <td>denim_blue</td>\n",
       "      <td>slim_fit</td>\n",
       "      <td>19.99</td>\n",
       "      <td>None</td>\n",
       "      <td>None</td>\n",
       "      <td>0.99</td>\n",
       "      <td>0.65</td>\n",
       "      <td>0.01</td>\n",
       "      <td>0.0</td>\n",
       "      <td>2022-01-16 20:00:04</td>\n",
       "    </tr>\n",
       "    <tr>\n",
       "      <th>4</th>\n",
       "      <td>1024256005</td>\n",
       "      <td>1024256</td>\n",
       "      <td>005</td>\n",
       "      <td>slim_jeans</td>\n",
       "      <td>dark_blue</td>\n",
       "      <td>slim_fit</td>\n",
       "      <td>19.99</td>\n",
       "      <td>None</td>\n",
       "      <td>None</td>\n",
       "      <td>0.99</td>\n",
       "      <td>0.65</td>\n",
       "      <td>0.01</td>\n",
       "      <td>0.0</td>\n",
       "      <td>2022-01-16 20:00:04</td>\n",
       "    </tr>\n",
       "    <tr>\n",
       "      <th>...</th>\n",
       "      <td>...</td>\n",
       "      <td>...</td>\n",
       "      <td>...</td>\n",
       "      <td>...</td>\n",
       "      <td>...</td>\n",
       "      <td>...</td>\n",
       "      <td>...</td>\n",
       "      <td>...</td>\n",
       "      <td>...</td>\n",
       "      <td>...</td>\n",
       "      <td>...</td>\n",
       "      <td>...</td>\n",
       "      <td>...</td>\n",
       "      <td>...</td>\n",
       "    </tr>\n",
       "    <tr>\n",
       "      <th>109</th>\n",
       "      <td>0974597006</td>\n",
       "      <td>0974597</td>\n",
       "      <td>006</td>\n",
       "      <td>slim_tapered_jeans</td>\n",
       "      <td>dark_gray</td>\n",
       "      <td>slim_fit</td>\n",
       "      <td>29.99</td>\n",
       "      <td>None</td>\n",
       "      <td>None</td>\n",
       "      <td>1.00</td>\n",
       "      <td>0.00</td>\n",
       "      <td>0.02</td>\n",
       "      <td>0.0</td>\n",
       "      <td>2022-01-16 20:00:04</td>\n",
       "    </tr>\n",
       "    <tr>\n",
       "      <th>110</th>\n",
       "      <td>0974597001</td>\n",
       "      <td>0974597</td>\n",
       "      <td>001</td>\n",
       "      <td>slim_tapered_jeans</td>\n",
       "      <td>denim_blue</td>\n",
       "      <td>slim_fit</td>\n",
       "      <td>29.99</td>\n",
       "      <td>186</td>\n",
       "      <td>31_32</td>\n",
       "      <td>1.00</td>\n",
       "      <td>0.00</td>\n",
       "      <td>0.01</td>\n",
       "      <td>0.0</td>\n",
       "      <td>2022-01-16 20:00:04</td>\n",
       "    </tr>\n",
       "    <tr>\n",
       "      <th>111</th>\n",
       "      <td>0974597002</td>\n",
       "      <td>0974597</td>\n",
       "      <td>002</td>\n",
       "      <td>slim_tapered_jeans</td>\n",
       "      <td>denim_blue</td>\n",
       "      <td>slim_fit</td>\n",
       "      <td>29.99</td>\n",
       "      <td>None</td>\n",
       "      <td>None</td>\n",
       "      <td>1.00</td>\n",
       "      <td>0.00</td>\n",
       "      <td>0.01</td>\n",
       "      <td>0.0</td>\n",
       "      <td>2022-01-16 20:00:04</td>\n",
       "    </tr>\n",
       "    <tr>\n",
       "      <th>112</th>\n",
       "      <td>0974597003</td>\n",
       "      <td>0974597</td>\n",
       "      <td>003</td>\n",
       "      <td>slim_tapered_jeans</td>\n",
       "      <td>black</td>\n",
       "      <td>slim_fit</td>\n",
       "      <td>22.99</td>\n",
       "      <td>None</td>\n",
       "      <td>None</td>\n",
       "      <td>0.98</td>\n",
       "      <td>0.65</td>\n",
       "      <td>0.02</td>\n",
       "      <td>0.0</td>\n",
       "      <td>2022-01-16 20:00:04</td>\n",
       "    </tr>\n",
       "    <tr>\n",
       "      <th>113</th>\n",
       "      <td>0974597005</td>\n",
       "      <td>0974597</td>\n",
       "      <td>005</td>\n",
       "      <td>slim_tapered_jeans</td>\n",
       "      <td>light_denim_blue</td>\n",
       "      <td>slim_fit</td>\n",
       "      <td>22.99</td>\n",
       "      <td>187</td>\n",
       "      <td>32_32</td>\n",
       "      <td>1.00</td>\n",
       "      <td>0.00</td>\n",
       "      <td>0.01</td>\n",
       "      <td>0.0</td>\n",
       "      <td>2022-01-16 20:00:04</td>\n",
       "    </tr>\n",
       "  </tbody>\n",
       "</table>\n",
       "<p>114 rows × 14 columns</p>\n",
       "</div>"
      ],
      "text/plain": [
       "     product_id style_id color_id        product_name        color_name  \\\n",
       "0    1024256001  1024256      001          slim_jeans             black   \n",
       "1    1024256002  1024256      002          slim_jeans  light_denim_blue   \n",
       "2    1024256003  1024256      003          slim_jeans  light_denim_blue   \n",
       "3    1024256004  1024256      004          slim_jeans        denim_blue   \n",
       "4    1024256005  1024256      005          slim_jeans         dark_blue   \n",
       "..          ...      ...      ...                 ...               ...   \n",
       "109  0974597006  0974597      006  slim_tapered_jeans         dark_gray   \n",
       "110  0974597001  0974597      001  slim_tapered_jeans        denim_blue   \n",
       "111  0974597002  0974597      002  slim_tapered_jeans        denim_blue   \n",
       "112  0974597003  0974597      003  slim_tapered_jeans             black   \n",
       "113  0974597005  0974597      005  slim_tapered_jeans  light_denim_blue   \n",
       "\n",
       "          fit  product_price size_number size_model  cotton  polyester  \\\n",
       "0    slim_fit          19.99         185      31_32    0.99       0.65   \n",
       "1    slim_fit          19.99        None       None    0.99       0.65   \n",
       "2    slim_fit          19.99         189      31_32    0.99       0.65   \n",
       "3    slim_fit          19.99        None       None    0.99       0.65   \n",
       "4    slim_fit          19.99        None       None    0.99       0.65   \n",
       "..        ...            ...         ...        ...     ...        ...   \n",
       "109  slim_fit          29.99        None       None    1.00       0.00   \n",
       "110  slim_fit          29.99         186      31_32    1.00       0.00   \n",
       "111  slim_fit          29.99        None       None    1.00       0.00   \n",
       "112  slim_fit          22.99        None       None    0.98       0.65   \n",
       "113  slim_fit          22.99         187      32_32    1.00       0.00   \n",
       "\n",
       "     spandex  elasterell      scrapy_datetime  \n",
       "0       0.01         0.0  2022-01-16 20:00:04  \n",
       "1       0.01         0.0  2022-01-16 20:00:04  \n",
       "2       0.01         0.0  2022-01-16 20:00:04  \n",
       "3       0.01         0.0  2022-01-16 20:00:04  \n",
       "4       0.01         0.0  2022-01-16 20:00:04  \n",
       "..       ...         ...                  ...  \n",
       "109     0.02         0.0  2022-01-16 20:00:04  \n",
       "110     0.01         0.0  2022-01-16 20:00:04  \n",
       "111     0.01         0.0  2022-01-16 20:00:04  \n",
       "112     0.02         0.0  2022-01-16 20:00:04  \n",
       "113     0.01         0.0  2022-01-16 20:00:04  \n",
       "\n",
       "[114 rows x 14 columns]"
      ]
     },
     "execution_count": 7,
     "metadata": {},
     "output_type": "execute_result"
    }
   ],
   "source": [
    "df_raw"
   ]
  },
  {
   "cell_type": "code",
   "execution_count": 31,
   "id": "507429c6",
   "metadata": {
    "ExecuteTime": {
     "end_time": "2022-01-17T15:53:50.012055Z",
     "start_time": "2022-01-17T15:53:50.003786Z"
    }
   },
   "outputs": [
    {
     "data": {
      "text/plain": [
       "array([0.99, 1.  , 0.98, 0.77, 0.78, 0.79, 0.8 ])"
      ]
     },
     "execution_count": 31,
     "metadata": {},
     "output_type": "execute_result"
    }
   ],
   "source": [
    "df_raw['cotton'].unique()"
   ]
  },
  {
   "cell_type": "markdown",
   "id": "9d950665",
   "metadata": {},
   "source": [
    "# Data Dimension"
   ]
  },
  {
   "cell_type": "code",
   "execution_count": 8,
   "id": "b953b103",
   "metadata": {
    "ExecuteTime": {
     "end_time": "2022-01-17T15:11:35.689842Z",
     "start_time": "2022-01-17T15:11:35.686089Z"
    }
   },
   "outputs": [],
   "source": [
    "df01 = df_raw.copy()"
   ]
  },
  {
   "cell_type": "code",
   "execution_count": 10,
   "id": "c3445172",
   "metadata": {
    "ExecuteTime": {
     "end_time": "2022-01-17T15:15:01.025019Z",
     "start_time": "2022-01-17T15:15:01.018990Z"
    }
   },
   "outputs": [
    {
     "name": "stdout",
     "output_type": "stream",
     "text": [
      "Number of rows 114\n",
      "Number of columns 14\n"
     ]
    }
   ],
   "source": [
    "print(f'Number of rows {df01.shape[0]}')\n",
    "print(f'Number of columns {df01.shape[1]}')"
   ]
  },
  {
   "cell_type": "markdown",
   "id": "26279c96",
   "metadata": {},
   "source": [
    "# Data Types"
   ]
  },
  {
   "cell_type": "code",
   "execution_count": 12,
   "id": "e5450639",
   "metadata": {
    "ExecuteTime": {
     "end_time": "2022-01-17T15:29:18.745885Z",
     "start_time": "2022-01-17T15:29:18.732842Z"
    },
    "cell_style": "center"
   },
   "outputs": [],
   "source": [
    "df01['scrapy_datetime'] = pd.to_datetime(df01['scrapy_datetime'])"
   ]
  },
  {
   "cell_type": "code",
   "execution_count": 13,
   "id": "e9253fa7",
   "metadata": {
    "ExecuteTime": {
     "end_time": "2022-01-17T15:29:19.802620Z",
     "start_time": "2022-01-17T15:29:19.786647Z"
    },
    "cell_style": "center"
   },
   "outputs": [
    {
     "data": {
      "text/plain": [
       "product_id                 object\n",
       "style_id                   object\n",
       "color_id                   object\n",
       "product_name               object\n",
       "color_name                 object\n",
       "fit                        object\n",
       "product_price             float64\n",
       "size_number                object\n",
       "size_model                 object\n",
       "cotton                    float64\n",
       "polyester                 float64\n",
       "spandex                   float64\n",
       "elasterell                float64\n",
       "scrapy_datetime    datetime64[ns]\n",
       "dtype: object"
      ]
     },
     "execution_count": 13,
     "metadata": {},
     "output_type": "execute_result"
    }
   ],
   "source": [
    "df01.dtypes"
   ]
  },
  {
   "cell_type": "markdown",
   "id": "d5560b33",
   "metadata": {},
   "source": [
    "# NaN Identification"
   ]
  },
  {
   "cell_type": "code",
   "execution_count": 16,
   "id": "66362499",
   "metadata": {
    "ExecuteTime": {
     "end_time": "2022-01-17T15:40:51.616587Z",
     "start_time": "2022-01-17T15:40:51.593002Z"
    },
    "cell_style": "split",
    "scrolled": false
   },
   "outputs": [
    {
     "data": {
      "text/plain": [
       "product_id          0\n",
       "style_id            0\n",
       "color_id            0\n",
       "product_name        0\n",
       "color_name          0\n",
       "fit                 0\n",
       "product_price       0\n",
       "size_number        72\n",
       "size_model         77\n",
       "cotton              0\n",
       "polyester           0\n",
       "spandex             0\n",
       "elasterell          0\n",
       "scrapy_datetime     0\n",
       "dtype: int64"
      ]
     },
     "execution_count": 16,
     "metadata": {},
     "output_type": "execute_result"
    }
   ],
   "source": [
    "df01.isna().sum()"
   ]
  },
  {
   "cell_type": "code",
   "execution_count": 17,
   "id": "eb481b08",
   "metadata": {
    "ExecuteTime": {
     "end_time": "2022-01-17T15:41:16.994842Z",
     "start_time": "2022-01-17T15:41:16.954965Z"
    },
    "cell_style": "split"
   },
   "outputs": [
    {
     "data": {
      "text/plain": [
       "product_id         0.000000\n",
       "style_id           0.000000\n",
       "color_id           0.000000\n",
       "product_name       0.000000\n",
       "color_name         0.000000\n",
       "fit                0.000000\n",
       "product_price      0.000000\n",
       "size_number        0.631579\n",
       "size_model         0.675439\n",
       "cotton             0.000000\n",
       "polyester          0.000000\n",
       "spandex            0.000000\n",
       "elasterell         0.000000\n",
       "scrapy_datetime    0.000000\n",
       "dtype: float64"
      ]
     },
     "execution_count": 17,
     "metadata": {},
     "output_type": "execute_result"
    }
   ],
   "source": [
    "df01.isna().sum()/df01.shape[0]"
   ]
  },
  {
   "cell_type": "markdown",
   "id": "646072e2",
   "metadata": {},
   "source": [
    "# Missing Values Substitution"
   ]
  },
  {
   "cell_type": "code",
   "execution_count": 18,
   "id": "e2e08a1c",
   "metadata": {
    "ExecuteTime": {
     "end_time": "2022-01-17T15:43:02.054777Z",
     "start_time": "2022-01-17T15:43:02.030374Z"
    }
   },
   "outputs": [
    {
     "data": {
      "text/plain": [
       "(114, 12)"
      ]
     },
     "execution_count": 18,
     "metadata": {},
     "output_type": "execute_result"
    }
   ],
   "source": [
    "df_aux01 = df01.drop(columns = ['size_number', 'size_model']).dropna()\n",
    "df_aux01.shape"
   ]
  },
  {
   "cell_type": "markdown",
   "id": "cf56f906",
   "metadata": {
    "ExecuteTime": {
     "end_time": "2022-01-17T15:47:01.357349Z",
     "start_time": "2022-01-17T15:47:01.353059Z"
    }
   },
   "source": [
    "# Data Description"
   ]
  },
  {
   "cell_type": "code",
   "execution_count": 20,
   "id": "32b26c4e",
   "metadata": {
    "ExecuteTime": {
     "end_time": "2022-01-17T15:47:24.229844Z",
     "start_time": "2022-01-17T15:47:24.216370Z"
    }
   },
   "outputs": [
    {
     "data": {
      "text/plain": [
       "pandas.core.frame.DataFrame"
      ]
     },
     "execution_count": 20,
     "metadata": {},
     "output_type": "execute_result"
    }
   ],
   "source": [
    "type(df01)"
   ]
  },
  {
   "cell_type": "code",
   "execution_count": 22,
   "id": "f236b083",
   "metadata": {
    "ExecuteTime": {
     "end_time": "2022-01-17T15:48:23.414535Z",
     "start_time": "2022-01-17T15:48:23.403142Z"
    }
   },
   "outputs": [],
   "source": [
    "num_attributes = df01.select_dtypes(include = ['int64', 'float64'])\n",
    "cat_attributes = df01.select_dtypes(include = ['int64', 'float64', 'datetime64[ns]'])"
   ]
  },
  {
   "cell_type": "code",
   "execution_count": 25,
   "id": "edd59c50",
   "metadata": {
    "ExecuteTime": {
     "end_time": "2022-01-17T15:52:42.706905Z",
     "start_time": "2022-01-17T15:52:42.657396Z"
    }
   },
   "outputs": [],
   "source": [
    "d1 = num_attributes.describe()\n",
    "d2 = pd.DataFrame(num_attributes.apply(lambda x: x.skew())).T\n",
    "d3 = pd.DataFrame(num_attributes.apply(lambda x: x.kurtosis())).T\n"
   ]
  },
  {
   "cell_type": "code",
   "execution_count": null,
   "id": "a9ba806a",
   "metadata": {},
   "outputs": [],
   "source": []
  }
 ],
 "metadata": {
  "hide_input": false,
  "kernelspec": {
   "display_name": "Python 3 (ipykernel)",
   "language": "python",
   "name": "python3"
  },
  "language_info": {
   "codemirror_mode": {
    "name": "ipython",
    "version": 3
   },
   "file_extension": ".py",
   "mimetype": "text/x-python",
   "name": "python",
   "nbconvert_exporter": "python",
   "pygments_lexer": "ipython3",
   "version": "3.8.10"
  }
 },
 "nbformat": 4,
 "nbformat_minor": 5
}
