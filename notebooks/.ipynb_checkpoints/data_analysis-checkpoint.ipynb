{
 "cells": [
  {
   "cell_type": "code",
   "execution_count": 6,
   "id": "2bede55b",
   "metadata": {
    "ExecuteTime": {
     "end_time": "2022-01-17T16:28:58.117066Z",
     "start_time": "2022-01-17T16:28:58.111251Z"
    }
   },
   "outputs": [],
   "source": [
    "import pandas as pd\n",
    "import numpy as np\n",
    "from sqlalchemy import create_engine"
   ]
  },
  {
   "cell_type": "code",
   "execution_count": 7,
   "id": "ad7d6901",
   "metadata": {
    "ExecuteTime": {
     "end_time": "2022-01-17T16:28:59.293831Z",
     "start_time": "2022-01-17T16:28:59.286681Z"
    }
   },
   "outputs": [],
   "source": [
    "path = '/home/joao/projetos/dsaodev/projcode/executables/'\n",
    "database_name = 'database_hm.sqlite'\n",
    "conn = create_engine('sqlite:///' + path + database_name, echo = False)"
   ]
  },
  {
   "cell_type": "code",
   "execution_count": 8,
   "id": "f26d2d80",
   "metadata": {
    "ExecuteTime": {
     "end_time": "2022-01-17T16:29:00.326975Z",
     "start_time": "2022-01-17T16:29:00.318980Z"
    }
   },
   "outputs": [],
   "source": [
    "query = '''\n",
    "    SELECT * FROM vitrine\n",
    "    '''"
   ]
  },
  {
   "cell_type": "code",
   "execution_count": 9,
   "id": "c79bcee7",
   "metadata": {
    "ExecuteTime": {
     "end_time": "2022-01-17T16:29:00.987024Z",
     "start_time": "2022-01-17T16:29:00.967310Z"
    }
   },
   "outputs": [],
   "source": [
    "df_raw = pd.read_sql(query, con = conn)"
   ]
  },
  {
   "cell_type": "code",
   "execution_count": 10,
   "id": "59deba1a",
   "metadata": {
    "ExecuteTime": {
     "end_time": "2022-01-17T16:29:01.800380Z",
     "start_time": "2022-01-17T16:29:01.764688Z"
    },
    "scrolled": true
   },
   "outputs": [
    {
     "data": {
      "text/html": [
       "<div>\n",
       "<style scoped>\n",
       "    .dataframe tbody tr th:only-of-type {\n",
       "        vertical-align: middle;\n",
       "    }\n",
       "\n",
       "    .dataframe tbody tr th {\n",
       "        vertical-align: top;\n",
       "    }\n",
       "\n",
       "    .dataframe thead th {\n",
       "        text-align: right;\n",
       "    }\n",
       "</style>\n",
       "<table border=\"1\" class=\"dataframe\">\n",
       "  <thead>\n",
       "    <tr style=\"text-align: right;\">\n",
       "      <th></th>\n",
       "      <th>product_id</th>\n",
       "      <th>style_id</th>\n",
       "      <th>color_id</th>\n",
       "      <th>product_name</th>\n",
       "      <th>color_name</th>\n",
       "      <th>fit</th>\n",
       "      <th>product_price</th>\n",
       "      <th>size_number</th>\n",
       "      <th>size_model</th>\n",
       "      <th>cotton</th>\n",
       "      <th>polyester</th>\n",
       "      <th>spandex</th>\n",
       "      <th>elasterell</th>\n",
       "      <th>scrapy_datetime</th>\n",
       "    </tr>\n",
       "  </thead>\n",
       "  <tbody>\n",
       "    <tr>\n",
       "      <th>0</th>\n",
       "      <td>1024256001</td>\n",
       "      <td>1024256</td>\n",
       "      <td>001</td>\n",
       "      <td>slim_jeans</td>\n",
       "      <td>black</td>\n",
       "      <td>slim_fit</td>\n",
       "      <td>19.99</td>\n",
       "      <td>185</td>\n",
       "      <td>31_32</td>\n",
       "      <td>0.99</td>\n",
       "      <td>0.65</td>\n",
       "      <td>0.01</td>\n",
       "      <td>0.0</td>\n",
       "      <td>2022-01-17 13:24:06</td>\n",
       "    </tr>\n",
       "    <tr>\n",
       "      <th>1</th>\n",
       "      <td>1024256002</td>\n",
       "      <td>1024256</td>\n",
       "      <td>002</td>\n",
       "      <td>slim_jeans</td>\n",
       "      <td>light_denim_blue</td>\n",
       "      <td>slim_fit</td>\n",
       "      <td>19.99</td>\n",
       "      <td>None</td>\n",
       "      <td>None</td>\n",
       "      <td>0.99</td>\n",
       "      <td>0.65</td>\n",
       "      <td>0.01</td>\n",
       "      <td>0.0</td>\n",
       "      <td>2022-01-17 13:24:06</td>\n",
       "    </tr>\n",
       "    <tr>\n",
       "      <th>2</th>\n",
       "      <td>1024256003</td>\n",
       "      <td>1024256</td>\n",
       "      <td>003</td>\n",
       "      <td>slim_jeans</td>\n",
       "      <td>light_denim_blue</td>\n",
       "      <td>slim_fit</td>\n",
       "      <td>19.99</td>\n",
       "      <td>189</td>\n",
       "      <td>31_32</td>\n",
       "      <td>0.99</td>\n",
       "      <td>0.65</td>\n",
       "      <td>0.01</td>\n",
       "      <td>0.0</td>\n",
       "      <td>2022-01-17 13:24:06</td>\n",
       "    </tr>\n",
       "    <tr>\n",
       "      <th>3</th>\n",
       "      <td>1024256004</td>\n",
       "      <td>1024256</td>\n",
       "      <td>004</td>\n",
       "      <td>slim_jeans</td>\n",
       "      <td>denim_blue</td>\n",
       "      <td>slim_fit</td>\n",
       "      <td>19.99</td>\n",
       "      <td>None</td>\n",
       "      <td>None</td>\n",
       "      <td>0.99</td>\n",
       "      <td>0.65</td>\n",
       "      <td>0.01</td>\n",
       "      <td>0.0</td>\n",
       "      <td>2022-01-17 13:24:06</td>\n",
       "    </tr>\n",
       "    <tr>\n",
       "      <th>4</th>\n",
       "      <td>1024256005</td>\n",
       "      <td>1024256</td>\n",
       "      <td>005</td>\n",
       "      <td>slim_jeans</td>\n",
       "      <td>dark_blue</td>\n",
       "      <td>slim_fit</td>\n",
       "      <td>19.99</td>\n",
       "      <td>None</td>\n",
       "      <td>None</td>\n",
       "      <td>0.99</td>\n",
       "      <td>0.65</td>\n",
       "      <td>0.01</td>\n",
       "      <td>0.0</td>\n",
       "      <td>2022-01-17 13:24:06</td>\n",
       "    </tr>\n",
       "    <tr>\n",
       "      <th>...</th>\n",
       "      <td>...</td>\n",
       "      <td>...</td>\n",
       "      <td>...</td>\n",
       "      <td>...</td>\n",
       "      <td>...</td>\n",
       "      <td>...</td>\n",
       "      <td>...</td>\n",
       "      <td>...</td>\n",
       "      <td>...</td>\n",
       "      <td>...</td>\n",
       "      <td>...</td>\n",
       "      <td>...</td>\n",
       "      <td>...</td>\n",
       "      <td>...</td>\n",
       "    </tr>\n",
       "    <tr>\n",
       "      <th>98</th>\n",
       "      <td>0751994016</td>\n",
       "      <td>0751994</td>\n",
       "      <td>016</td>\n",
       "      <td>slim_jeans</td>\n",
       "      <td>dark_blue</td>\n",
       "      <td>slim_fit</td>\n",
       "      <td>15.99</td>\n",
       "      <td>None</td>\n",
       "      <td>None</td>\n",
       "      <td>0.98</td>\n",
       "      <td>0.00</td>\n",
       "      <td>0.02</td>\n",
       "      <td>0.0</td>\n",
       "      <td>2022-01-17 13:24:06</td>\n",
       "    </tr>\n",
       "    <tr>\n",
       "      <th>99</th>\n",
       "      <td>0751994017</td>\n",
       "      <td>0751994</td>\n",
       "      <td>017</td>\n",
       "      <td>slim_jeans</td>\n",
       "      <td>dark_denim_blue</td>\n",
       "      <td>slim_fit</td>\n",
       "      <td>16.99</td>\n",
       "      <td>None</td>\n",
       "      <td>None</td>\n",
       "      <td>0.98</td>\n",
       "      <td>0.00</td>\n",
       "      <td>0.02</td>\n",
       "      <td>0.0</td>\n",
       "      <td>2022-01-17 13:24:06</td>\n",
       "    </tr>\n",
       "    <tr>\n",
       "      <th>100</th>\n",
       "      <td>0751994018</td>\n",
       "      <td>0751994</td>\n",
       "      <td>018</td>\n",
       "      <td>slim_jeans</td>\n",
       "      <td>denim_blue</td>\n",
       "      <td>slim_fit</td>\n",
       "      <td>20.99</td>\n",
       "      <td>None</td>\n",
       "      <td>None</td>\n",
       "      <td>0.98</td>\n",
       "      <td>0.00</td>\n",
       "      <td>0.02</td>\n",
       "      <td>0.0</td>\n",
       "      <td>2022-01-17 13:24:06</td>\n",
       "    </tr>\n",
       "    <tr>\n",
       "      <th>101</th>\n",
       "      <td>0751994031</td>\n",
       "      <td>0751994</td>\n",
       "      <td>031</td>\n",
       "      <td>slim_jeans</td>\n",
       "      <td>light_blue</td>\n",
       "      <td>slim_fit</td>\n",
       "      <td>14.99</td>\n",
       "      <td>187</td>\n",
       "      <td>31_32</td>\n",
       "      <td>0.99</td>\n",
       "      <td>0.00</td>\n",
       "      <td>0.01</td>\n",
       "      <td>0.0</td>\n",
       "      <td>2022-01-17 13:24:06</td>\n",
       "    </tr>\n",
       "    <tr>\n",
       "      <th>102</th>\n",
       "      <td>0751994034</td>\n",
       "      <td>0751994</td>\n",
       "      <td>034</td>\n",
       "      <td>slim_jeans</td>\n",
       "      <td>dark_blue</td>\n",
       "      <td>slim_fit</td>\n",
       "      <td>29.99</td>\n",
       "      <td>189</td>\n",
       "      <td>32_32</td>\n",
       "      <td>0.99</td>\n",
       "      <td>0.00</td>\n",
       "      <td>0.01</td>\n",
       "      <td>0.0</td>\n",
       "      <td>2022-01-17 13:24:06</td>\n",
       "    </tr>\n",
       "  </tbody>\n",
       "</table>\n",
       "<p>103 rows × 14 columns</p>\n",
       "</div>"
      ],
      "text/plain": [
       "     product_id style_id color_id product_name        color_name       fit  \\\n",
       "0    1024256001  1024256      001   slim_jeans             black  slim_fit   \n",
       "1    1024256002  1024256      002   slim_jeans  light_denim_blue  slim_fit   \n",
       "2    1024256003  1024256      003   slim_jeans  light_denim_blue  slim_fit   \n",
       "3    1024256004  1024256      004   slim_jeans        denim_blue  slim_fit   \n",
       "4    1024256005  1024256      005   slim_jeans         dark_blue  slim_fit   \n",
       "..          ...      ...      ...          ...               ...       ...   \n",
       "98   0751994016  0751994      016   slim_jeans         dark_blue  slim_fit   \n",
       "99   0751994017  0751994      017   slim_jeans   dark_denim_blue  slim_fit   \n",
       "100  0751994018  0751994      018   slim_jeans        denim_blue  slim_fit   \n",
       "101  0751994031  0751994      031   slim_jeans        light_blue  slim_fit   \n",
       "102  0751994034  0751994      034   slim_jeans         dark_blue  slim_fit   \n",
       "\n",
       "     product_price size_number size_model  cotton  polyester  spandex  \\\n",
       "0            19.99         185      31_32    0.99       0.65     0.01   \n",
       "1            19.99        None       None    0.99       0.65     0.01   \n",
       "2            19.99         189      31_32    0.99       0.65     0.01   \n",
       "3            19.99        None       None    0.99       0.65     0.01   \n",
       "4            19.99        None       None    0.99       0.65     0.01   \n",
       "..             ...         ...        ...     ...        ...      ...   \n",
       "98           15.99        None       None    0.98       0.00     0.02   \n",
       "99           16.99        None       None    0.98       0.00     0.02   \n",
       "100          20.99        None       None    0.98       0.00     0.02   \n",
       "101          14.99         187      31_32    0.99       0.00     0.01   \n",
       "102          29.99         189      32_32    0.99       0.00     0.01   \n",
       "\n",
       "     elasterell      scrapy_datetime  \n",
       "0           0.0  2022-01-17 13:24:06  \n",
       "1           0.0  2022-01-17 13:24:06  \n",
       "2           0.0  2022-01-17 13:24:06  \n",
       "3           0.0  2022-01-17 13:24:06  \n",
       "4           0.0  2022-01-17 13:24:06  \n",
       "..          ...                  ...  \n",
       "98          0.0  2022-01-17 13:24:06  \n",
       "99          0.0  2022-01-17 13:24:06  \n",
       "100         0.0  2022-01-17 13:24:06  \n",
       "101         0.0  2022-01-17 13:24:06  \n",
       "102         0.0  2022-01-17 13:24:06  \n",
       "\n",
       "[103 rows x 14 columns]"
      ]
     },
     "execution_count": 10,
     "metadata": {},
     "output_type": "execute_result"
    }
   ],
   "source": [
    "df_raw"
   ]
  },
  {
   "cell_type": "code",
   "execution_count": 30,
   "id": "efebf15d",
   "metadata": {
    "ExecuteTime": {
     "end_time": "2022-01-17T16:47:23.576593Z",
     "start_time": "2022-01-17T16:47:23.569615Z"
    }
   },
   "outputs": [
    {
     "data": {
      "text/plain": [
       "array([0.  , 0.08, 0.09])"
      ]
     },
     "execution_count": 30,
     "metadata": {},
     "output_type": "execute_result"
    }
   ],
   "source": [
    "df_raw['elasterell'].unique()"
   ]
  },
  {
   "cell_type": "markdown",
   "id": "9d950665",
   "metadata": {},
   "source": [
    "# Data Dimension"
   ]
  },
  {
   "cell_type": "code",
   "execution_count": 12,
   "id": "b953b103",
   "metadata": {
    "ExecuteTime": {
     "end_time": "2022-01-17T16:29:13.676433Z",
     "start_time": "2022-01-17T16:29:13.668552Z"
    }
   },
   "outputs": [],
   "source": [
    "df01 = df_raw.copy()"
   ]
  },
  {
   "cell_type": "code",
   "execution_count": 13,
   "id": "c3445172",
   "metadata": {
    "ExecuteTime": {
     "end_time": "2022-01-17T16:29:14.138719Z",
     "start_time": "2022-01-17T16:29:14.129653Z"
    }
   },
   "outputs": [
    {
     "name": "stdout",
     "output_type": "stream",
     "text": [
      "Number of rows 103\n",
      "Number of columns 14\n"
     ]
    }
   ],
   "source": [
    "print(f'Number of rows {df01.shape[0]}')\n",
    "print(f'Number of columns {df01.shape[1]}')"
   ]
  },
  {
   "cell_type": "markdown",
   "id": "26279c96",
   "metadata": {},
   "source": [
    "# Data Types"
   ]
  },
  {
   "cell_type": "code",
   "execution_count": 14,
   "id": "e5450639",
   "metadata": {
    "ExecuteTime": {
     "end_time": "2022-01-17T16:29:30.192305Z",
     "start_time": "2022-01-17T16:29:30.178858Z"
    },
    "cell_style": "center"
   },
   "outputs": [],
   "source": [
    "df01['scrapy_datetime'] = pd.to_datetime(df01['scrapy_datetime'])"
   ]
  },
  {
   "cell_type": "code",
   "execution_count": 15,
   "id": "e9253fa7",
   "metadata": {
    "ExecuteTime": {
     "end_time": "2022-01-17T16:29:31.655891Z",
     "start_time": "2022-01-17T16:29:31.635522Z"
    },
    "cell_style": "center"
   },
   "outputs": [
    {
     "data": {
      "text/plain": [
       "product_id                 object\n",
       "style_id                   object\n",
       "color_id                   object\n",
       "product_name               object\n",
       "color_name                 object\n",
       "fit                        object\n",
       "product_price             float64\n",
       "size_number                object\n",
       "size_model                 object\n",
       "cotton                    float64\n",
       "polyester                 float64\n",
       "spandex                   float64\n",
       "elasterell                float64\n",
       "scrapy_datetime    datetime64[ns]\n",
       "dtype: object"
      ]
     },
     "execution_count": 15,
     "metadata": {},
     "output_type": "execute_result"
    }
   ],
   "source": [
    "df01.dtypes"
   ]
  },
  {
   "cell_type": "markdown",
   "id": "d5560b33",
   "metadata": {},
   "source": [
    "# NaN Identification"
   ]
  },
  {
   "cell_type": "code",
   "execution_count": 16,
   "id": "66362499",
   "metadata": {
    "ExecuteTime": {
     "end_time": "2022-01-17T16:29:34.413430Z",
     "start_time": "2022-01-17T16:29:34.397385Z"
    },
    "cell_style": "split",
    "scrolled": false
   },
   "outputs": [
    {
     "data": {
      "text/plain": [
       "product_id          0\n",
       "style_id            0\n",
       "color_id            0\n",
       "product_name        0\n",
       "color_name          0\n",
       "fit                 0\n",
       "product_price       0\n",
       "size_number        59\n",
       "size_model         65\n",
       "cotton              0\n",
       "polyester           0\n",
       "spandex             0\n",
       "elasterell          0\n",
       "scrapy_datetime     0\n",
       "dtype: int64"
      ]
     },
     "execution_count": 16,
     "metadata": {},
     "output_type": "execute_result"
    }
   ],
   "source": [
    "df01.isna().sum()"
   ]
  },
  {
   "cell_type": "code",
   "execution_count": 17,
   "id": "eb481b08",
   "metadata": {
    "ExecuteTime": {
     "end_time": "2022-01-17T16:29:37.471682Z",
     "start_time": "2022-01-17T16:29:37.456819Z"
    },
    "cell_style": "split"
   },
   "outputs": [
    {
     "data": {
      "text/plain": [
       "product_id         0.000000\n",
       "style_id           0.000000\n",
       "color_id           0.000000\n",
       "product_name       0.000000\n",
       "color_name         0.000000\n",
       "fit                0.000000\n",
       "product_price      0.000000\n",
       "size_number        0.572816\n",
       "size_model         0.631068\n",
       "cotton             0.000000\n",
       "polyester          0.000000\n",
       "spandex            0.000000\n",
       "elasterell         0.000000\n",
       "scrapy_datetime    0.000000\n",
       "dtype: float64"
      ]
     },
     "execution_count": 17,
     "metadata": {},
     "output_type": "execute_result"
    }
   ],
   "source": [
    "df01.isna().sum()/df01.shape[0]"
   ]
  },
  {
   "cell_type": "markdown",
   "id": "646072e2",
   "metadata": {},
   "source": [
    "# Missing Values Substitution"
   ]
  },
  {
   "cell_type": "code",
   "execution_count": 18,
   "id": "e2e08a1c",
   "metadata": {
    "ExecuteTime": {
     "end_time": "2022-01-17T16:29:40.939068Z",
     "start_time": "2022-01-17T16:29:40.924735Z"
    }
   },
   "outputs": [
    {
     "data": {
      "text/plain": [
       "(103, 12)"
      ]
     },
     "execution_count": 18,
     "metadata": {},
     "output_type": "execute_result"
    }
   ],
   "source": [
    "df_aux01 = df01.drop(columns = ['size_number', 'size_model']).dropna()\n",
    "df_aux01.shape"
   ]
  },
  {
   "cell_type": "markdown",
   "id": "cf56f906",
   "metadata": {
    "ExecuteTime": {
     "end_time": "2022-01-17T15:47:01.357349Z",
     "start_time": "2022-01-17T15:47:01.353059Z"
    }
   },
   "source": [
    "# Data Description"
   ]
  },
  {
   "cell_type": "code",
   "execution_count": 19,
   "id": "32b26c4e",
   "metadata": {
    "ExecuteTime": {
     "end_time": "2022-01-17T16:29:43.355837Z",
     "start_time": "2022-01-17T16:29:43.349457Z"
    }
   },
   "outputs": [
    {
     "data": {
      "text/plain": [
       "pandas.core.frame.DataFrame"
      ]
     },
     "execution_count": 19,
     "metadata": {},
     "output_type": "execute_result"
    }
   ],
   "source": [
    "type(df01)"
   ]
  },
  {
   "cell_type": "code",
   "execution_count": 20,
   "id": "f236b083",
   "metadata": {
    "ExecuteTime": {
     "end_time": "2022-01-17T16:29:45.271525Z",
     "start_time": "2022-01-17T16:29:45.249127Z"
    }
   },
   "outputs": [],
   "source": [
    "num_attributes = df01.select_dtypes(include = ['int64', 'float64'])\n",
    "cat_attributes = df01.select_dtypes(include = ['int64', 'float64', 'datetime64[ns]'])"
   ]
  },
  {
   "cell_type": "code",
   "execution_count": 31,
   "id": "edd59c50",
   "metadata": {
    "ExecuteTime": {
     "end_time": "2022-01-17T17:01:01.500111Z",
     "start_time": "2022-01-17T17:01:01.441394Z"
    }
   },
   "outputs": [],
   "source": [
    "#central tendencies and dispersion\n",
    "d1 = num_attributes.describe()\n",
    "d2 = pd.DataFrame(num_attributes.apply(lambda x: x.max() - x.min())).T\n",
    "d3 = pd.DataFrame(num_attributes.apply(lambda x: x.skew())).T\n",
    "d4 = pd.DataFrame(num_attributes.apply(lambda x: x.kurtosis())).T\n",
    "\n",
    "#concat\n",
    "m1 = pd.concat([d1, d2, d3, d4]).T.reset_index()\n",
    "m1.columns = ['attributes', 'count', 'mean', 'std', 'min', '25%', '50%', '75%', 'max', 'range', 'skew', 'kurtosis']"
   ]
  },
  {
   "cell_type": "code",
   "execution_count": 32,
   "id": "a9ba806a",
   "metadata": {
    "ExecuteTime": {
     "end_time": "2022-01-17T17:01:02.143405Z",
     "start_time": "2022-01-17T17:01:02.122094Z"
    }
   },
   "outputs": [
    {
     "data": {
      "text/html": [
       "<div>\n",
       "<style scoped>\n",
       "    .dataframe tbody tr th:only-of-type {\n",
       "        vertical-align: middle;\n",
       "    }\n",
       "\n",
       "    .dataframe tbody tr th {\n",
       "        vertical-align: top;\n",
       "    }\n",
       "\n",
       "    .dataframe thead th {\n",
       "        text-align: right;\n",
       "    }\n",
       "</style>\n",
       "<table border=\"1\" class=\"dataframe\">\n",
       "  <thead>\n",
       "    <tr style=\"text-align: right;\">\n",
       "      <th></th>\n",
       "      <th>attributes</th>\n",
       "      <th>count</th>\n",
       "      <th>mean</th>\n",
       "      <th>std</th>\n",
       "      <th>min</th>\n",
       "      <th>25%</th>\n",
       "      <th>50%</th>\n",
       "      <th>75%</th>\n",
       "      <th>max</th>\n",
       "      <th>range</th>\n",
       "      <th>skew</th>\n",
       "      <th>kurtosis</th>\n",
       "    </tr>\n",
       "  </thead>\n",
       "  <tbody>\n",
       "    <tr>\n",
       "      <th>0</th>\n",
       "      <td>product_price</td>\n",
       "      <td>103.0</td>\n",
       "      <td>28.048252</td>\n",
       "      <td>10.543863</td>\n",
       "      <td>7.99</td>\n",
       "      <td>19.99</td>\n",
       "      <td>24.99</td>\n",
       "      <td>34.99</td>\n",
       "      <td>59.99</td>\n",
       "      <td>52.00</td>\n",
       "      <td>0.777812</td>\n",
       "      <td>0.699877</td>\n",
       "    </tr>\n",
       "    <tr>\n",
       "      <th>1</th>\n",
       "      <td>cotton</td>\n",
       "      <td>103.0</td>\n",
       "      <td>0.975243</td>\n",
       "      <td>0.054536</td>\n",
       "      <td>0.77</td>\n",
       "      <td>0.98</td>\n",
       "      <td>0.99</td>\n",
       "      <td>1.00</td>\n",
       "      <td>1.00</td>\n",
       "      <td>0.23</td>\n",
       "      <td>-3.120949</td>\n",
       "      <td>8.492849</td>\n",
       "    </tr>\n",
       "    <tr>\n",
       "      <th>2</th>\n",
       "      <td>polyester</td>\n",
       "      <td>103.0</td>\n",
       "      <td>0.288641</td>\n",
       "      <td>0.339024</td>\n",
       "      <td>0.00</td>\n",
       "      <td>0.00</td>\n",
       "      <td>0.00</td>\n",
       "      <td>0.65</td>\n",
       "      <td>1.00</td>\n",
       "      <td>1.00</td>\n",
       "      <td>0.517481</td>\n",
       "      <td>-1.411393</td>\n",
       "    </tr>\n",
       "    <tr>\n",
       "      <th>3</th>\n",
       "      <td>spandex</td>\n",
       "      <td>103.0</td>\n",
       "      <td>0.012427</td>\n",
       "      <td>0.006783</td>\n",
       "      <td>0.00</td>\n",
       "      <td>0.01</td>\n",
       "      <td>0.01</td>\n",
       "      <td>0.02</td>\n",
       "      <td>0.02</td>\n",
       "      <td>0.02</td>\n",
       "      <td>-0.341054</td>\n",
       "      <td>-0.811880</td>\n",
       "    </tr>\n",
       "    <tr>\n",
       "      <th>4</th>\n",
       "      <td>elasterell</td>\n",
       "      <td>103.0</td>\n",
       "      <td>0.002427</td>\n",
       "      <td>0.014105</td>\n",
       "      <td>0.00</td>\n",
       "      <td>0.00</td>\n",
       "      <td>0.00</td>\n",
       "      <td>0.00</td>\n",
       "      <td>0.09</td>\n",
       "      <td>0.09</td>\n",
       "      <td>5.713861</td>\n",
       "      <td>31.385139</td>\n",
       "    </tr>\n",
       "  </tbody>\n",
       "</table>\n",
       "</div>"
      ],
      "text/plain": [
       "      attributes  count       mean        std   min    25%    50%    75%  \\\n",
       "0  product_price  103.0  28.048252  10.543863  7.99  19.99  24.99  34.99   \n",
       "1         cotton  103.0   0.975243   0.054536  0.77   0.98   0.99   1.00   \n",
       "2      polyester  103.0   0.288641   0.339024  0.00   0.00   0.00   0.65   \n",
       "3        spandex  103.0   0.012427   0.006783  0.00   0.01   0.01   0.02   \n",
       "4     elasterell  103.0   0.002427   0.014105  0.00   0.00   0.00   0.00   \n",
       "\n",
       "     max  range      skew   kurtosis  \n",
       "0  59.99  52.00  0.777812   0.699877  \n",
       "1   1.00   0.23 -3.120949   8.492849  \n",
       "2   1.00   1.00  0.517481  -1.411393  \n",
       "3   0.02   0.02 -0.341054  -0.811880  \n",
       "4   0.09   0.09  5.713861  31.385139  "
      ]
     },
     "execution_count": 32,
     "metadata": {},
     "output_type": "execute_result"
    }
   ],
   "source": [
    "m1"
   ]
  },
  {
   "cell_type": "code",
   "execution_count": null,
   "id": "97605ff9",
   "metadata": {},
   "outputs": [],
   "source": []
  }
 ],
 "metadata": {
  "hide_input": false,
  "kernelspec": {
   "display_name": "Python 3 (ipykernel)",
   "language": "python",
   "name": "python3"
  },
  "language_info": {
   "codemirror_mode": {
    "name": "ipython",
    "version": 3
   },
   "file_extension": ".py",
   "mimetype": "text/x-python",
   "name": "python",
   "nbconvert_exporter": "python",
   "pygments_lexer": "ipython3",
   "version": "3.8.10"
  }
 },
 "nbformat": 4,
 "nbformat_minor": 5
}
