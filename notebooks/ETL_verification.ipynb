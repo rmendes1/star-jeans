{
 "cells": [
  {
   "cell_type": "markdown",
   "id": "5402b55a",
   "metadata": {},
   "source": [
    "# Imports"
   ]
  },
  {
   "cell_type": "code",
   "execution_count": 1,
   "id": "2ac02114",
   "metadata": {
    "ExecuteTime": {
     "end_time": "2022-01-17T15:50:48.341387Z",
     "start_time": "2022-01-17T15:50:47.732149Z"
    }
   },
   "outputs": [],
   "source": [
    "from bs4 import BeautifulSoup\n",
    "import requests\n",
    "from datetime import datetime\n",
    "import pandas as pd\n",
    "import re\n",
    "import numpy as np"
   ]
  },
  {
   "cell_type": "markdown",
   "id": "b74deece",
   "metadata": {},
   "source": [
    "# Data Collection"
   ]
  },
  {
   "cell_type": "code",
   "execution_count": 2,
   "id": "b42f35f3",
   "metadata": {
    "ExecuteTime": {
     "end_time": "2022-01-17T15:50:50.501778Z",
     "start_time": "2022-01-17T15:50:50.493668Z"
    }
   },
   "outputs": [],
   "source": [
    "#creating a useragent\n",
    "#parameters\n",
    "header = {'User-Agent':'Mozilla/5.0 (X11; Linux x86_64) AppleWebKit/537.36 (KHTML, like Gecko) Chrome/96.0.4664.45 Safari/537.36'}"
   ]
  },
  {
   "cell_type": "code",
   "execution_count": 3,
   "id": "78c184da",
   "metadata": {
    "ExecuteTime": {
     "end_time": "2022-01-17T15:50:53.621590Z",
     "start_time": "2022-01-17T15:50:52.384312Z"
    }
   },
   "outputs": [
    {
     "name": "stdout",
     "output_type": "stream",
     "text": [
      "<Response [200]>\n"
     ]
    }
   ],
   "source": [
    "#H&M site catalog URL\n",
    "url = 'https://www2.hm.com/en_us/men/products/jeans.html'\n",
    "#Request to URL\n",
    "page = requests.get(url, headers = header)\n",
    "print(page)\n",
    "\n",
    "# Beautiful soup object\n",
    "soup = BeautifulSoup( page.text, 'html.parser' )\n",
    "\n",
    "# ===================== Product Data ============================\n",
    "products = soup.find( 'ul', class_='products-listing small' )\n",
    "product_list = products.find_all( 'article', class_='hm-product-item')\n",
    "                                 \n",
    "# product id\n",
    "product_id = [p.get( 'data-articlecode' ) for p in product_list]\n",
    "                                 \n",
    "# product category\n",
    "product_category = [p.get( 'data-category' ) for p in product_list]\n",
    "                                 \n",
    "# product name\n",
    "product_list = products.find_all( 'a', class_='link' )\n",
    "product_name = [p.get_text() for p in product_list]\n",
    "                                 \n",
    "# price\n",
    "product_list = products.find_all( 'span', class_='price regular' )\n",
    "product_price = [p.get_text() for p in product_list]\n",
    "data = pd.DataFrame( [product_id, product_category, product_name, product_price] ).T\n",
    "                                 \n",
    "data.columns = ['product_id', 'product_category', 'product_name', 'product_price']"
   ]
  },
  {
   "cell_type": "code",
   "execution_count": 4,
   "id": "ae6ada66",
   "metadata": {
    "ExecuteTime": {
     "end_time": "2022-01-17T15:50:55.370741Z",
     "start_time": "2022-01-17T15:50:55.331403Z"
    }
   },
   "outputs": [
    {
     "data": {
      "text/html": [
       "<div>\n",
       "<style scoped>\n",
       "    .dataframe tbody tr th:only-of-type {\n",
       "        vertical-align: middle;\n",
       "    }\n",
       "\n",
       "    .dataframe tbody tr th {\n",
       "        vertical-align: top;\n",
       "    }\n",
       "\n",
       "    .dataframe thead th {\n",
       "        text-align: right;\n",
       "    }\n",
       "</style>\n",
       "<table border=\"1\" class=\"dataframe\">\n",
       "  <thead>\n",
       "    <tr style=\"text-align: right;\">\n",
       "      <th></th>\n",
       "      <th>product_id</th>\n",
       "      <th>product_category</th>\n",
       "      <th>product_name</th>\n",
       "      <th>product_price</th>\n",
       "    </tr>\n",
       "  </thead>\n",
       "  <tbody>\n",
       "    <tr>\n",
       "      <th>0</th>\n",
       "      <td>1024256001</td>\n",
       "      <td>men_jeans_slim</td>\n",
       "      <td>Slim Jeans</td>\n",
       "      <td>$ 19.99</td>\n",
       "    </tr>\n",
       "    <tr>\n",
       "      <th>1</th>\n",
       "      <td>0985159001</td>\n",
       "      <td>men_jeans_skinny</td>\n",
       "      <td>Skinny Jeans</td>\n",
       "      <td>$ 24.99</td>\n",
       "    </tr>\n",
       "    <tr>\n",
       "      <th>2</th>\n",
       "      <td>0690449043</td>\n",
       "      <td>men_jeans_ripped</td>\n",
       "      <td>Skinny Jeans</td>\n",
       "      <td>$ 39.99</td>\n",
       "    </tr>\n",
       "    <tr>\n",
       "      <th>3</th>\n",
       "      <td>1004199005</td>\n",
       "      <td>men_jeans_skinny</td>\n",
       "      <td>Skinny Cropped Jeans</td>\n",
       "      <td>$ 29.99</td>\n",
       "    </tr>\n",
       "    <tr>\n",
       "      <th>4</th>\n",
       "      <td>1024256007</td>\n",
       "      <td>men_jeans_slim</td>\n",
       "      <td>Slim Jeans</td>\n",
       "      <td>$ 19.99</td>\n",
       "    </tr>\n",
       "  </tbody>\n",
       "</table>\n",
       "</div>"
      ],
      "text/plain": [
       "   product_id  product_category          product_name product_price\n",
       "0  1024256001    men_jeans_slim            Slim Jeans       $ 19.99\n",
       "1  0985159001  men_jeans_skinny          Skinny Jeans       $ 24.99\n",
       "2  0690449043  men_jeans_ripped          Skinny Jeans       $ 39.99\n",
       "3  1004199005  men_jeans_skinny  Skinny Cropped Jeans       $ 29.99\n",
       "4  1024256007    men_jeans_slim            Slim Jeans       $ 19.99"
      ]
     },
     "execution_count": 4,
     "metadata": {},
     "output_type": "execute_result"
    }
   ],
   "source": [
    "data.head()"
   ]
  },
  {
   "cell_type": "code",
   "execution_count": 8,
   "id": "fd3eab57",
   "metadata": {
    "ExecuteTime": {
     "end_time": "2022-01-16T20:44:07.891511Z",
     "start_time": "2022-01-16T20:44:07.880259Z"
    }
   },
   "outputs": [
    {
     "data": {
      "text/plain": [
       "(36, 4)"
      ]
     },
     "execution_count": 8,
     "metadata": {},
     "output_type": "execute_result"
    }
   ],
   "source": [
    "data.shape"
   ]
  },
  {
   "cell_type": "code",
   "execution_count": 5,
   "id": "880f8e16",
   "metadata": {
    "ExecuteTime": {
     "end_time": "2022-01-17T15:54:37.456651Z",
     "start_time": "2022-01-17T15:50:58.453540Z"
    },
    "code_folding": []
   },
   "outputs": [
    {
     "name": "stdout",
     "output_type": "stream",
     "text": [
      "Product:0https://www2.hm.com/en_us/productpage.1024256001.html\n",
      "Color: https://www2.hm.com/en_us/productpage.1024256001.html\n",
      "Color: https://www2.hm.com/en_us/productpage.1024256002.html\n",
      "Color: https://www2.hm.com/en_us/productpage.1024256003.html\n",
      "Color: https://www2.hm.com/en_us/productpage.1024256004.html\n",
      "Color: https://www2.hm.com/en_us/productpage.1024256005.html\n",
      "Color: https://www2.hm.com/en_us/productpage.1024256006.html\n",
      "Color: https://www2.hm.com/en_us/productpage.1024256007.html\n",
      "Product:1https://www2.hm.com/en_us/productpage.0985159001.html\n",
      "Color: https://www2.hm.com/en_us/productpage.0985159001.html\n",
      "Color: https://www2.hm.com/en_us/productpage.0985159002.html\n",
      "Color: https://www2.hm.com/en_us/productpage.0985159003.html\n",
      "Color: https://www2.hm.com/en_us/productpage.0985159004.html\n",
      "Color: https://www2.hm.com/en_us/productpage.0985159005.html\n",
      "Color: https://www2.hm.com/en_us/productpage.0985159006.html\n",
      "Color: https://www2.hm.com/en_us/productpage.0985159007.html\n",
      "Color: https://www2.hm.com/en_us/productpage.0985159008.html\n",
      "Product:2https://www2.hm.com/en_us/productpage.0690449043.html\n",
      "Color: https://www2.hm.com/en_us/productpage.0690449043.html\n",
      "Color: https://www2.hm.com/en_us/productpage.0690449001.html\n",
      "Color: https://www2.hm.com/en_us/productpage.0690449002.html\n",
      "Color: https://www2.hm.com/en_us/productpage.0690449006.html\n",
      "Color: https://www2.hm.com/en_us/productpage.0690449007.html\n",
      "Color: https://www2.hm.com/en_us/productpage.0690449009.html\n",
      "Color: https://www2.hm.com/en_us/productpage.0690449011.html\n",
      "Color: https://www2.hm.com/en_us/productpage.0690449013.html\n",
      "Color: https://www2.hm.com/en_us/productpage.0690449021.html\n",
      "Color: https://www2.hm.com/en_us/productpage.0690449022.html\n",
      "Color: https://www2.hm.com/en_us/productpage.0690449024.html\n",
      "Color: https://www2.hm.com/en_us/productpage.0690449028.html\n",
      "Color: https://www2.hm.com/en_us/productpage.0690449035.html\n",
      "Color: https://www2.hm.com/en_us/productpage.0690449036.html\n",
      "Color: https://www2.hm.com/en_us/productpage.0690449040.html\n",
      "Color: https://www2.hm.com/en_us/productpage.0690449046.html\n",
      "Color: https://www2.hm.com/en_us/productpage.0690449051.html\n",
      "Color: https://www2.hm.com/en_us/productpage.0690449056.html\n",
      "Product:3https://www2.hm.com/en_us/productpage.1004199005.html\n",
      "Color: https://www2.hm.com/en_us/productpage.1004199005.html\n",
      "Color: https://www2.hm.com/en_us/productpage.1004199001.html\n",
      "Color: https://www2.hm.com/en_us/productpage.1004199002.html\n",
      "Color: https://www2.hm.com/en_us/productpage.1004199003.html\n",
      "Product:4https://www2.hm.com/en_us/productpage.1024256007.html\n",
      "Color: https://www2.hm.com/en_us/productpage.1024256007.html\n",
      "Color: https://www2.hm.com/en_us/productpage.1024256001.html\n",
      "Color: https://www2.hm.com/en_us/productpage.1024256002.html\n",
      "Color: https://www2.hm.com/en_us/productpage.1024256003.html\n",
      "Color: https://www2.hm.com/en_us/productpage.1024256004.html\n",
      "Color: https://www2.hm.com/en_us/productpage.1024256005.html\n",
      "Color: https://www2.hm.com/en_us/productpage.1024256006.html\n",
      "Product:5https://www2.hm.com/en_us/productpage.1024256003.html\n",
      "Color: https://www2.hm.com/en_us/productpage.1024256003.html\n",
      "Color: https://www2.hm.com/en_us/productpage.1024256001.html\n",
      "Color: https://www2.hm.com/en_us/productpage.1024256002.html\n",
      "Color: https://www2.hm.com/en_us/productpage.1024256004.html\n",
      "Color: https://www2.hm.com/en_us/productpage.1024256005.html\n",
      "Color: https://www2.hm.com/en_us/productpage.1024256006.html\n",
      "Color: https://www2.hm.com/en_us/productpage.1024256007.html\n",
      "Product:6https://www2.hm.com/en_us/productpage.0690449051.html\n",
      "Color: https://www2.hm.com/en_us/productpage.0690449051.html\n",
      "Color: https://www2.hm.com/en_us/productpage.0690449001.html\n",
      "Color: https://www2.hm.com/en_us/productpage.0690449002.html\n",
      "Color: https://www2.hm.com/en_us/productpage.0690449006.html\n",
      "Color: https://www2.hm.com/en_us/productpage.0690449007.html\n",
      "Color: https://www2.hm.com/en_us/productpage.0690449009.html\n",
      "Color: https://www2.hm.com/en_us/productpage.0690449011.html\n",
      "Color: https://www2.hm.com/en_us/productpage.0690449013.html\n",
      "Color: https://www2.hm.com/en_us/productpage.0690449021.html\n",
      "Color: https://www2.hm.com/en_us/productpage.0690449022.html\n",
      "Color: https://www2.hm.com/en_us/productpage.0690449024.html\n",
      "Color: https://www2.hm.com/en_us/productpage.0690449028.html\n",
      "Color: https://www2.hm.com/en_us/productpage.0690449035.html\n",
      "Color: https://www2.hm.com/en_us/productpage.0690449036.html\n",
      "Color: https://www2.hm.com/en_us/productpage.0690449040.html\n",
      "Color: https://www2.hm.com/en_us/productpage.0690449043.html\n",
      "Color: https://www2.hm.com/en_us/productpage.0690449046.html\n",
      "Color: https://www2.hm.com/en_us/productpage.0690449056.html\n",
      "Product:7https://www2.hm.com/en_us/productpage.0690449022.html\n",
      "Color: https://www2.hm.com/en_us/productpage.0690449022.html\n",
      "Color: https://www2.hm.com/en_us/productpage.0690449001.html\n",
      "Color: https://www2.hm.com/en_us/productpage.0690449002.html\n",
      "Color: https://www2.hm.com/en_us/productpage.0690449006.html\n",
      "Color: https://www2.hm.com/en_us/productpage.0690449007.html\n",
      "Color: https://www2.hm.com/en_us/productpage.0690449009.html\n",
      "Color: https://www2.hm.com/en_us/productpage.0690449011.html\n",
      "Color: https://www2.hm.com/en_us/productpage.0690449013.html\n",
      "Color: https://www2.hm.com/en_us/productpage.0690449021.html\n",
      "Color: https://www2.hm.com/en_us/productpage.0690449024.html\n",
      "Color: https://www2.hm.com/en_us/productpage.0690449028.html\n",
      "Color: https://www2.hm.com/en_us/productpage.0690449035.html\n",
      "Color: https://www2.hm.com/en_us/productpage.0690449036.html\n",
      "Color: https://www2.hm.com/en_us/productpage.0690449040.html\n",
      "Color: https://www2.hm.com/en_us/productpage.0690449043.html\n",
      "Color: https://www2.hm.com/en_us/productpage.0690449046.html\n",
      "Color: https://www2.hm.com/en_us/productpage.0690449051.html\n",
      "Color: https://www2.hm.com/en_us/productpage.0690449056.html\n",
      "Product:8https://www2.hm.com/en_us/productpage.0875105023.html\n",
      "Color: https://www2.hm.com/en_us/productpage.0875105023.html\n",
      "Color: https://www2.hm.com/en_us/productpage.0875105001.html\n",
      "Color: https://www2.hm.com/en_us/productpage.0875105002.html\n",
      "Color: https://www2.hm.com/en_us/productpage.0875105003.html\n",
      "Color: https://www2.hm.com/en_us/productpage.0875105009.html\n",
      "Color: https://www2.hm.com/en_us/productpage.0875105011.html\n",
      "Color: https://www2.hm.com/en_us/productpage.0875105015.html\n",
      "Color: https://www2.hm.com/en_us/productpage.0875105016.html\n",
      "Color: https://www2.hm.com/en_us/productpage.0875105017.html\n",
      "Color: https://www2.hm.com/en_us/productpage.0875105018.html\n",
      "Color: https://www2.hm.com/en_us/productpage.0875105024.html\n",
      "Product:9https://www2.hm.com/en_us/productpage.0690449036.html\n",
      "Color: https://www2.hm.com/en_us/productpage.0690449036.html\n",
      "Color: https://www2.hm.com/en_us/productpage.0690449001.html\n",
      "Color: https://www2.hm.com/en_us/productpage.0690449002.html\n",
      "Color: https://www2.hm.com/en_us/productpage.0690449006.html\n",
      "Color: https://www2.hm.com/en_us/productpage.0690449007.html\n",
      "Color: https://www2.hm.com/en_us/productpage.0690449009.html\n",
      "Color: https://www2.hm.com/en_us/productpage.0690449011.html\n",
      "Color: https://www2.hm.com/en_us/productpage.0690449013.html\n",
      "Color: https://www2.hm.com/en_us/productpage.0690449021.html\n",
      "Color: https://www2.hm.com/en_us/productpage.0690449022.html\n",
      "Color: https://www2.hm.com/en_us/productpage.0690449024.html\n",
      "Color: https://www2.hm.com/en_us/productpage.0690449028.html\n",
      "Color: https://www2.hm.com/en_us/productpage.0690449035.html\n",
      "Color: https://www2.hm.com/en_us/productpage.0690449040.html\n",
      "Color: https://www2.hm.com/en_us/productpage.0690449043.html\n",
      "Color: https://www2.hm.com/en_us/productpage.0690449046.html\n",
      "Color: https://www2.hm.com/en_us/productpage.0690449051.html\n",
      "Color: https://www2.hm.com/en_us/productpage.0690449056.html\n",
      "Product:10https://www2.hm.com/en_us/productpage.0690449056.html\n",
      "Color: https://www2.hm.com/en_us/productpage.0690449056.html\n",
      "Color: https://www2.hm.com/en_us/productpage.0690449001.html\n",
      "Color: https://www2.hm.com/en_us/productpage.0690449002.html\n",
      "Color: https://www2.hm.com/en_us/productpage.0690449006.html\n",
      "Color: https://www2.hm.com/en_us/productpage.0690449007.html\n",
      "Color: https://www2.hm.com/en_us/productpage.0690449009.html\n",
      "Color: https://www2.hm.com/en_us/productpage.0690449011.html\n"
     ]
    },
    {
     "name": "stdout",
     "output_type": "stream",
     "text": [
      "Color: https://www2.hm.com/en_us/productpage.0690449013.html\n",
      "Color: https://www2.hm.com/en_us/productpage.0690449021.html\n",
      "Color: https://www2.hm.com/en_us/productpage.0690449022.html\n",
      "Color: https://www2.hm.com/en_us/productpage.0690449024.html\n",
      "Color: https://www2.hm.com/en_us/productpage.0690449028.html\n",
      "Color: https://www2.hm.com/en_us/productpage.0690449035.html\n",
      "Color: https://www2.hm.com/en_us/productpage.0690449036.html\n",
      "Color: https://www2.hm.com/en_us/productpage.0690449040.html\n",
      "Color: https://www2.hm.com/en_us/productpage.0690449043.html\n",
      "Color: https://www2.hm.com/en_us/productpage.0690449046.html\n",
      "Color: https://www2.hm.com/en_us/productpage.0690449051.html\n",
      "Product:11https://www2.hm.com/en_us/productpage.0985159008.html\n",
      "Color: https://www2.hm.com/en_us/productpage.0985159008.html\n",
      "Color: https://www2.hm.com/en_us/productpage.0985159001.html\n",
      "Color: https://www2.hm.com/en_us/productpage.0985159002.html\n",
      "Color: https://www2.hm.com/en_us/productpage.0985159003.html\n",
      "Color: https://www2.hm.com/en_us/productpage.0985159004.html\n",
      "Color: https://www2.hm.com/en_us/productpage.0985159005.html\n",
      "Color: https://www2.hm.com/en_us/productpage.0985159006.html\n",
      "Color: https://www2.hm.com/en_us/productpage.0985159007.html\n",
      "Product:12https://www2.hm.com/en_us/productpage.0985159005.html\n",
      "Color: https://www2.hm.com/en_us/productpage.0985159005.html\n",
      "Color: https://www2.hm.com/en_us/productpage.0985159001.html\n",
      "Color: https://www2.hm.com/en_us/productpage.0985159002.html\n",
      "Color: https://www2.hm.com/en_us/productpage.0985159003.html\n",
      "Color: https://www2.hm.com/en_us/productpage.0985159004.html\n",
      "Color: https://www2.hm.com/en_us/productpage.0985159006.html\n",
      "Color: https://www2.hm.com/en_us/productpage.0985159007.html\n",
      "Color: https://www2.hm.com/en_us/productpage.0985159008.html\n",
      "Product:13https://www2.hm.com/en_us/productpage.1008110001.html\n",
      "Color: https://www2.hm.com/en_us/productpage.1008110001.html\n",
      "Color: https://www2.hm.com/en_us/productpage.1008110002.html\n",
      "Color: https://www2.hm.com/en_us/productpage.1008110003.html\n",
      "Product:14https://www2.hm.com/en_us/productpage.0985159004.html\n",
      "Color: https://www2.hm.com/en_us/productpage.0985159004.html\n",
      "Color: https://www2.hm.com/en_us/productpage.0985159001.html\n",
      "Color: https://www2.hm.com/en_us/productpage.0985159002.html\n",
      "Color: https://www2.hm.com/en_us/productpage.0985159003.html\n",
      "Color: https://www2.hm.com/en_us/productpage.0985159005.html\n",
      "Color: https://www2.hm.com/en_us/productpage.0985159006.html\n",
      "Color: https://www2.hm.com/en_us/productpage.0985159007.html\n",
      "Color: https://www2.hm.com/en_us/productpage.0985159008.html\n",
      "Product:15https://www2.hm.com/en_us/productpage.0875105024.html\n",
      "Color: https://www2.hm.com/en_us/productpage.0875105024.html\n",
      "Color: https://www2.hm.com/en_us/productpage.0875105001.html\n",
      "Color: https://www2.hm.com/en_us/productpage.0875105002.html\n",
      "Color: https://www2.hm.com/en_us/productpage.0875105003.html\n",
      "Color: https://www2.hm.com/en_us/productpage.0875105009.html\n",
      "Color: https://www2.hm.com/en_us/productpage.0875105011.html\n",
      "Color: https://www2.hm.com/en_us/productpage.0875105015.html\n",
      "Color: https://www2.hm.com/en_us/productpage.0875105016.html\n",
      "Color: https://www2.hm.com/en_us/productpage.0875105017.html\n",
      "Color: https://www2.hm.com/en_us/productpage.0875105018.html\n",
      "Color: https://www2.hm.com/en_us/productpage.0875105023.html\n",
      "Product:16https://www2.hm.com/en_us/productpage.1024256004.html\n",
      "Color: https://www2.hm.com/en_us/productpage.1024256004.html\n",
      "Color: https://www2.hm.com/en_us/productpage.1024256001.html\n",
      "Color: https://www2.hm.com/en_us/productpage.1024256002.html\n",
      "Color: https://www2.hm.com/en_us/productpage.1024256003.html\n",
      "Color: https://www2.hm.com/en_us/productpage.1024256005.html\n",
      "Color: https://www2.hm.com/en_us/productpage.1024256006.html\n",
      "Color: https://www2.hm.com/en_us/productpage.1024256007.html\n",
      "Product:17https://www2.hm.com/en_us/productpage.0985159002.html\n",
      "Color: https://www2.hm.com/en_us/productpage.0985159002.html\n",
      "Color: https://www2.hm.com/en_us/productpage.0985159001.html\n",
      "Color: https://www2.hm.com/en_us/productpage.0985159003.html\n",
      "Color: https://www2.hm.com/en_us/productpage.0985159004.html\n",
      "Color: https://www2.hm.com/en_us/productpage.0985159005.html\n",
      "Color: https://www2.hm.com/en_us/productpage.0985159006.html\n",
      "Color: https://www2.hm.com/en_us/productpage.0985159007.html\n",
      "Color: https://www2.hm.com/en_us/productpage.0985159008.html\n",
      "Product:18https://www2.hm.com/en_us/productpage.1004199001.html\n",
      "Color: https://www2.hm.com/en_us/productpage.1004199001.html\n",
      "Color: https://www2.hm.com/en_us/productpage.1004199002.html\n",
      "Color: https://www2.hm.com/en_us/productpage.1004199003.html\n",
      "Color: https://www2.hm.com/en_us/productpage.1004199005.html\n",
      "Product:19https://www2.hm.com/en_us/productpage.0974597006.html\n",
      "Color: https://www2.hm.com/en_us/productpage.0974597006.html\n",
      "Color: https://www2.hm.com/en_us/productpage.0974597001.html\n",
      "Color: https://www2.hm.com/en_us/productpage.0974597002.html\n",
      "Color: https://www2.hm.com/en_us/productpage.0974597003.html\n",
      "Color: https://www2.hm.com/en_us/productpage.0974597005.html\n",
      "Product:20https://www2.hm.com/en_us/productpage.1008549002.html\n",
      "Color: https://www2.hm.com/en_us/productpage.1008549002.html\n",
      "Color: https://www2.hm.com/en_us/productpage.1008549004.html\n",
      "Color: https://www2.hm.com/en_us/productpage.1008549006.html\n",
      "Color: https://www2.hm.com/en_us/productpage.1008549008.html\n",
      "Product:21https://www2.hm.com/en_us/productpage.1004199002.html\n",
      "Color: https://www2.hm.com/en_us/productpage.1004199002.html\n",
      "Color: https://www2.hm.com/en_us/productpage.1004199001.html\n",
      "Color: https://www2.hm.com/en_us/productpage.1004199003.html\n",
      "Color: https://www2.hm.com/en_us/productpage.1004199005.html\n",
      "Product:22https://www2.hm.com/en_us/productpage.1024256006.html\n",
      "Color: https://www2.hm.com/en_us/productpage.1024256006.html\n",
      "Color: https://www2.hm.com/en_us/productpage.1024256001.html\n",
      "Color: https://www2.hm.com/en_us/productpage.1024256002.html\n",
      "Color: https://www2.hm.com/en_us/productpage.1024256003.html\n",
      "Color: https://www2.hm.com/en_us/productpage.1024256004.html\n",
      "Color: https://www2.hm.com/en_us/productpage.1024256005.html\n",
      "Color: https://www2.hm.com/en_us/productpage.1024256007.html\n",
      "Product:23https://www2.hm.com/en_us/productpage.0875105016.html\n",
      "Color: https://www2.hm.com/en_us/productpage.0875105016.html\n",
      "Color: https://www2.hm.com/en_us/productpage.0875105001.html\n",
      "Color: https://www2.hm.com/en_us/productpage.0875105002.html\n",
      "Color: https://www2.hm.com/en_us/productpage.0875105003.html\n",
      "Color: https://www2.hm.com/en_us/productpage.0875105009.html\n",
      "Color: https://www2.hm.com/en_us/productpage.0875105011.html\n",
      "Color: https://www2.hm.com/en_us/productpage.0875105015.html\n",
      "Color: https://www2.hm.com/en_us/productpage.0875105017.html\n",
      "Color: https://www2.hm.com/en_us/productpage.0875105018.html\n",
      "Color: https://www2.hm.com/en_us/productpage.0875105023.html\n",
      "Color: https://www2.hm.com/en_us/productpage.0875105024.html\n",
      "Product:24https://www2.hm.com/en_us/productpage.0985197001.html\n",
      "Color: https://www2.hm.com/en_us/productpage.0985197001.html\n",
      "Color: https://www2.hm.com/en_us/productpage.0985197002.html\n",
      "Color: https://www2.hm.com/en_us/productpage.0985197003.html\n",
      "Color: https://www2.hm.com/en_us/productpage.0985197004.html\n",
      "Color: https://www2.hm.com/en_us/productpage.0985197005.html\n",
      "Color: https://www2.hm.com/en_us/productpage.0985197006.html\n",
      "Color: https://www2.hm.com/en_us/productpage.0985197007.html\n",
      "Product:25https://www2.hm.com/en_us/productpage.1013317006.html\n",
      "Color: https://www2.hm.com/en_us/productpage.1013317006.html\n",
      "Color: https://www2.hm.com/en_us/productpage.1013317001.html\n",
      "Color: https://www2.hm.com/en_us/productpage.1013317002.html\n",
      "Color: https://www2.hm.com/en_us/productpage.1013317004.html\n",
      "Color: https://www2.hm.com/en_us/productpage.1013317005.html\n",
      "Color: https://www2.hm.com/en_us/productpage.1013317008.html\n",
      "Color: https://www2.hm.com/en_us/productpage.1013317010.html\n",
      "Product:26https://www2.hm.com/en_us/productpage.0985159006.html\n",
      "Color: https://www2.hm.com/en_us/productpage.0985159006.html\n",
      "Color: https://www2.hm.com/en_us/productpage.0985159001.html\n",
      "Color: https://www2.hm.com/en_us/productpage.0985159002.html\n",
      "Color: https://www2.hm.com/en_us/productpage.0985159003.html\n",
      "Color: https://www2.hm.com/en_us/productpage.0985159004.html\n"
     ]
    },
    {
     "name": "stdout",
     "output_type": "stream",
     "text": [
      "Color: https://www2.hm.com/en_us/productpage.0985159005.html\n",
      "Color: https://www2.hm.com/en_us/productpage.0985159007.html\n",
      "Color: https://www2.hm.com/en_us/productpage.0985159008.html\n",
      "Product:27https://www2.hm.com/en_us/productpage.0985197006.html\n",
      "Color: https://www2.hm.com/en_us/productpage.0985197006.html\n",
      "Color: https://www2.hm.com/en_us/productpage.0985197001.html\n",
      "Color: https://www2.hm.com/en_us/productpage.0985197002.html\n",
      "Color: https://www2.hm.com/en_us/productpage.0985197003.html\n",
      "Color: https://www2.hm.com/en_us/productpage.0985197004.html\n",
      "Color: https://www2.hm.com/en_us/productpage.0985197005.html\n",
      "Color: https://www2.hm.com/en_us/productpage.0985197007.html\n",
      "Product:28https://www2.hm.com/en_us/productpage.1004199003.html\n",
      "Color: https://www2.hm.com/en_us/productpage.1004199003.html\n",
      "Color: https://www2.hm.com/en_us/productpage.1004199001.html\n",
      "Color: https://www2.hm.com/en_us/productpage.1004199002.html\n",
      "Color: https://www2.hm.com/en_us/productpage.1004199005.html\n",
      "Product:29https://www2.hm.com/en_us/productpage.1025726002.html\n",
      "Color: https://www2.hm.com/en_us/productpage.1025726002.html\n",
      "Color: https://www2.hm.com/en_us/productpage.1025726003.html\n",
      "Product:30https://www2.hm.com/en_us/productpage.0938875007.html\n",
      "Color: https://www2.hm.com/en_us/productpage.0938875007.html\n",
      "Color: https://www2.hm.com/en_us/productpage.0938875001.html\n",
      "Color: https://www2.hm.com/en_us/productpage.0938875002.html\n",
      "Color: https://www2.hm.com/en_us/productpage.0938875004.html\n",
      "Color: https://www2.hm.com/en_us/productpage.0938875008.html\n",
      "Color: https://www2.hm.com/en_us/productpage.0938875010.html\n",
      "Color: https://www2.hm.com/en_us/productpage.0938875012.html\n",
      "Color: https://www2.hm.com/en_us/productpage.0938875013.html\n",
      "Color: https://www2.hm.com/en_us/productpage.0938875014.html\n",
      "Product:31https://www2.hm.com/en_us/productpage.1024256005.html\n",
      "Color: https://www2.hm.com/en_us/productpage.1024256005.html\n",
      "Color: https://www2.hm.com/en_us/productpage.1024256001.html\n",
      "Color: https://www2.hm.com/en_us/productpage.1024256002.html\n",
      "Color: https://www2.hm.com/en_us/productpage.1024256003.html\n",
      "Color: https://www2.hm.com/en_us/productpage.1024256004.html\n",
      "Color: https://www2.hm.com/en_us/productpage.1024256006.html\n",
      "Color: https://www2.hm.com/en_us/productpage.1024256007.html\n",
      "Product:32https://www2.hm.com/en_us/productpage.1024711001.html\n",
      "Color: https://www2.hm.com/en_us/productpage.1024711001.html\n",
      "Color: https://www2.hm.com/en_us/productpage.1024711006.html\n",
      "Product:33https://www2.hm.com/en_us/productpage.1028865001.html\n",
      "Color: https://www2.hm.com/en_us/productpage.1028865001.html\n",
      "Product:34https://www2.hm.com/en_us/productpage.1013317008.html\n",
      "Color: https://www2.hm.com/en_us/productpage.1013317008.html\n",
      "Color: https://www2.hm.com/en_us/productpage.1013317001.html\n",
      "Color: https://www2.hm.com/en_us/productpage.1013317002.html\n",
      "Color: https://www2.hm.com/en_us/productpage.1013317004.html\n",
      "Color: https://www2.hm.com/en_us/productpage.1013317005.html\n",
      "Color: https://www2.hm.com/en_us/productpage.1013317006.html\n",
      "Color: https://www2.hm.com/en_us/productpage.1013317010.html\n",
      "Product:35https://www2.hm.com/en_us/productpage.0751994024.html\n",
      "Color: https://www2.hm.com/en_us/productpage.0751994024.html\n",
      "Color: https://www2.hm.com/en_us/productpage.0751994001.html\n",
      "Color: https://www2.hm.com/en_us/productpage.0751994003.html\n",
      "Color: https://www2.hm.com/en_us/productpage.0751994004.html\n",
      "Color: https://www2.hm.com/en_us/productpage.0751994005.html\n",
      "Color: https://www2.hm.com/en_us/productpage.0751994006.html\n",
      "Color: https://www2.hm.com/en_us/productpage.0751994007.html\n",
      "Color: https://www2.hm.com/en_us/productpage.0751994009.html\n",
      "Color: https://www2.hm.com/en_us/productpage.0751994010.html\n",
      "Color: https://www2.hm.com/en_us/productpage.0751994014.html\n",
      "Color: https://www2.hm.com/en_us/productpage.0751994016.html\n",
      "Color: https://www2.hm.com/en_us/productpage.0751994017.html\n",
      "Color: https://www2.hm.com/en_us/productpage.0751994018.html\n",
      "Color: https://www2.hm.com/en_us/productpage.0751994031.html\n",
      "Color: https://www2.hm.com/en_us/productpage.0751994034.html\n"
     ]
    }
   ],
   "source": [
    "\n",
    "#empty dataframe\n",
    "df_compositions = pd.DataFrame()\n",
    "\n",
    "#unique columns for all products\n",
    "aux = []\n",
    "\n",
    "cols = ['Art. No.',\n",
    " 'Composition',\n",
    " 'Fit',\n",
    " 'Product safety',\n",
    " 'Size',\n",
    " 'More sustainable materials']\n",
    "\n",
    "df_pattern = pd.DataFrame(columns = cols)\n",
    "\n",
    "\n",
    "for i in range(len(data)):  \n",
    "    #API Requests\n",
    "    url = 'https://www2.hm.com/en_us/productpage.' + data.loc[i, 'product_id'] + '.html'\n",
    "    print('Product:{}'.format(i) +  '{}'.format(url))\n",
    "    \n",
    "    page = requests.get(url, headers = header)\n",
    "\n",
    "\n",
    "    #BeautifulSoup object\n",
    "    soup = BeautifulSoup(page.text, 'html.parser')\n",
    "\n",
    "    product_list = soup.find_all('a', class_ = 'filter-option miniature active') + soup.find_all('a', class_ = 'filter-option miniature')\n",
    "    color_item = [p.get('data-color') for p in product_list]\n",
    "\n",
    "    #product id\n",
    "    product_id = [p.get('data-articlecode') for p in product_list]\n",
    "\n",
    "    #creating data frame with product id+color name\n",
    "    df_color = pd.DataFrame((product_id, color_item)).T\n",
    "    df_color.columns = ['product_id', 'color_name'] #renaming columns\n",
    "    \n",
    "    for j in range(len(df_color)):\n",
    "        \n",
    "        #API Requests\n",
    "        url = 'https://www2.hm.com/en_us/productpage.' + df_color.loc[j, 'product_id'] + '.html'\n",
    "        print('Color: {}'.format(url))\n",
    "        page = requests.get(url, headers = header)\n",
    "\n",
    "        #BeautifulSoup object\n",
    "        soup = BeautifulSoup(page.text, 'html.parser')\n",
    "        \n",
    "        ########################  PRODUCT NAME  ###################################\n",
    "        product_name = soup.find_all('h1', class_ = 'primary product-item-headline')\n",
    "        product_name = product_name[0].get_text()\n",
    "        \n",
    "        ########################  PRODUCT PRICE  ###################################\n",
    "        product_price = soup.find_all('div', class_ = 'primary-row product-item-price')\n",
    "        product_price = re.findall(r'\\d+\\.?\\d+', product_price[0].get_text())[0]\n",
    "        \n",
    "        #######################  COMPOSITION  ######################################\n",
    "    \n",
    "        product_composition_list = soup.find_all('div', class_ = 'pdp-description-list-item')\n",
    "        product_composition = [list(filter(None, p.get_text().split(\"\\n\"))) for p in product_composition_list]\n",
    "\n",
    "        #renaming labels\n",
    "        df_composition = pd.DataFrame(product_composition).T\n",
    "        df_composition.columns = df_composition.iloc[0]\n",
    "\n",
    "        #deleting first row\n",
    "        df_composition = df_composition.iloc[1:].fillna(method = 'ffill')\n",
    "\n",
    "        #remove pocket lining, shell and lining\n",
    "        df_composition['Composition'] = df_composition['Composition'].str.replace('Pocket: ', '', regex = True)\n",
    "        df_composition['Composition'] = df_composition['Composition'].str.replace('Pocket lining: ', '', regex = True)\n",
    "        df_composition['Composition'] = df_composition['Composition'].str.replace('Shell: ', '', regex = True)\n",
    "        df_composition['Composition'] = df_composition['Composition'].str.replace('Lining: ', '', regex = True)\n",
    "        \n",
    "        #guarantee the same number of columns\n",
    "        df_composition = pd.concat([df_pattern, df_composition], axis = 0)\n",
    "        \n",
    "        #rename columns\n",
    "        df_composition.columns = ['product_id', 'composition', 'fit', 'product_safety', 'size', 'sustainable_materials']\n",
    "        df_composition['product_name'] = product_name\n",
    "        df_composition['product_price'] = product_price\n",
    "            \n",
    "        #keep new columns if they show up\n",
    "        aux = aux + df_composition.columns.tolist() \n",
    "\n",
    "        #merge df_color and df_composition\n",
    "        df_composition = pd.merge( df_composition, df_color, how = 'left', on = 'product_id')\n",
    "\n",
    "        #all products\n",
    "        df_compositions = pd.concat([df_compositions, df_composition], axis = 0)\n",
    "        \n",
    "# join showroom data + details\n",
    "df_compositions['style_id'] = df_compositions['product_id'].apply(lambda x: x[:-3])\n",
    "df_compositions['color_id'] = df_compositions['product_id'].apply(lambda x: x[-3:])\n",
    "\n",
    "df_compositions['scrapy_datetime'] = datetime.now().strftime('%Y-%m-%d %H:%M:%S')"
   ]
  },
  {
   "cell_type": "code",
   "execution_count": 6,
   "id": "57163c09",
   "metadata": {
    "ExecuteTime": {
     "end_time": "2022-01-17T15:54:37.511920Z",
     "start_time": "2022-01-17T15:54:37.459397Z"
    }
   },
   "outputs": [
    {
     "data": {
      "text/html": [
       "<div>\n",
       "<style scoped>\n",
       "    .dataframe tbody tr th:only-of-type {\n",
       "        vertical-align: middle;\n",
       "    }\n",
       "\n",
       "    .dataframe tbody tr th {\n",
       "        vertical-align: top;\n",
       "    }\n",
       "\n",
       "    .dataframe thead th {\n",
       "        text-align: right;\n",
       "    }\n",
       "</style>\n",
       "<table border=\"1\" class=\"dataframe\">\n",
       "  <thead>\n",
       "    <tr style=\"text-align: right;\">\n",
       "      <th></th>\n",
       "      <th>product_id</th>\n",
       "      <th>composition</th>\n",
       "      <th>fit</th>\n",
       "      <th>product_safety</th>\n",
       "      <th>size</th>\n",
       "      <th>sustainable_materials</th>\n",
       "      <th>product_name</th>\n",
       "      <th>product_price</th>\n",
       "      <th>color_name</th>\n",
       "      <th>style_id</th>\n",
       "      <th>color_id</th>\n",
       "      <th>scrapy_datetime</th>\n",
       "    </tr>\n",
       "  </thead>\n",
       "  <tbody>\n",
       "    <tr>\n",
       "      <th>0</th>\n",
       "      <td>1024256001</td>\n",
       "      <td>Polyester 65%, Cotton 35%</td>\n",
       "      <td>Slim fit</td>\n",
       "      <td>NaN</td>\n",
       "      <td>The model is 185cm/6'1\" and wears a size 31/32</td>\n",
       "      <td>NaN</td>\n",
       "      <td>\\n\\t\\t\\t\\t\\t\\t\\t  Slim Jeans</td>\n",
       "      <td>19.99</td>\n",
       "      <td>Black</td>\n",
       "      <td>1024256</td>\n",
       "      <td>001</td>\n",
       "      <td>2022-01-17 12:54:37</td>\n",
       "    </tr>\n",
       "    <tr>\n",
       "      <th>1</th>\n",
       "      <td>1024256001</td>\n",
       "      <td>Cotton 99%, Spandex 1%</td>\n",
       "      <td>Slim fit</td>\n",
       "      <td>NaN</td>\n",
       "      <td>The model is 185cm/6'1\" and wears a size 31/32</td>\n",
       "      <td>NaN</td>\n",
       "      <td>\\n\\t\\t\\t\\t\\t\\t\\t  Slim Jeans</td>\n",
       "      <td>19.99</td>\n",
       "      <td>Black</td>\n",
       "      <td>1024256</td>\n",
       "      <td>001</td>\n",
       "      <td>2022-01-17 12:54:37</td>\n",
       "    </tr>\n",
       "    <tr>\n",
       "      <th>0</th>\n",
       "      <td>1024256002</td>\n",
       "      <td>Cotton 99%, Spandex 1%</td>\n",
       "      <td>Slim fit</td>\n",
       "      <td>NaN</td>\n",
       "      <td>NaN</td>\n",
       "      <td>NaN</td>\n",
       "      <td>\\n\\t\\t\\t\\t\\t\\t\\t  Slim Jeans</td>\n",
       "      <td>19.99</td>\n",
       "      <td>Light denim blue</td>\n",
       "      <td>1024256</td>\n",
       "      <td>002</td>\n",
       "      <td>2022-01-17 12:54:37</td>\n",
       "    </tr>\n",
       "    <tr>\n",
       "      <th>1</th>\n",
       "      <td>1024256002</td>\n",
       "      <td>Polyester 65%, Cotton 35%</td>\n",
       "      <td>Slim fit</td>\n",
       "      <td>NaN</td>\n",
       "      <td>NaN</td>\n",
       "      <td>NaN</td>\n",
       "      <td>\\n\\t\\t\\t\\t\\t\\t\\t  Slim Jeans</td>\n",
       "      <td>19.99</td>\n",
       "      <td>Light denim blue</td>\n",
       "      <td>1024256</td>\n",
       "      <td>002</td>\n",
       "      <td>2022-01-17 12:54:37</td>\n",
       "    </tr>\n",
       "    <tr>\n",
       "      <th>0</th>\n",
       "      <td>1024256003</td>\n",
       "      <td>Cotton 99%, Spandex 1%</td>\n",
       "      <td>Slim fit</td>\n",
       "      <td>NaN</td>\n",
       "      <td>The model is 189cm/6'2\" and wears a size 31/32</td>\n",
       "      <td>NaN</td>\n",
       "      <td>\\n\\t\\t\\t\\t\\t\\t\\t  Slim Jeans</td>\n",
       "      <td>19.99</td>\n",
       "      <td>Light denim blue</td>\n",
       "      <td>1024256</td>\n",
       "      <td>003</td>\n",
       "      <td>2022-01-17 12:54:37</td>\n",
       "    </tr>\n",
       "    <tr>\n",
       "      <th>...</th>\n",
       "      <td>...</td>\n",
       "      <td>...</td>\n",
       "      <td>...</td>\n",
       "      <td>...</td>\n",
       "      <td>...</td>\n",
       "      <td>...</td>\n",
       "      <td>...</td>\n",
       "      <td>...</td>\n",
       "      <td>...</td>\n",
       "      <td>...</td>\n",
       "      <td>...</td>\n",
       "      <td>...</td>\n",
       "    </tr>\n",
       "    <tr>\n",
       "      <th>0</th>\n",
       "      <td>0751994016</td>\n",
       "      <td>Cotton 98%, Spandex 2%</td>\n",
       "      <td>Slim fit</td>\n",
       "      <td>NaN</td>\n",
       "      <td>NaN</td>\n",
       "      <td>NaN</td>\n",
       "      <td>\\n\\t\\t\\t\\t\\t\\t\\t  Slim Jeans</td>\n",
       "      <td>15.99</td>\n",
       "      <td>Dark blue</td>\n",
       "      <td>0751994</td>\n",
       "      <td>016</td>\n",
       "      <td>2022-01-17 12:54:37</td>\n",
       "    </tr>\n",
       "    <tr>\n",
       "      <th>0</th>\n",
       "      <td>0751994017</td>\n",
       "      <td>Cotton 98%, Spandex 2%</td>\n",
       "      <td>Slim fit</td>\n",
       "      <td>NaN</td>\n",
       "      <td>NaN</td>\n",
       "      <td>NaN</td>\n",
       "      <td>\\n\\t\\t\\t\\t\\t\\t\\t  Slim Jeans</td>\n",
       "      <td>16.99</td>\n",
       "      <td>Dark denim blue</td>\n",
       "      <td>0751994</td>\n",
       "      <td>017</td>\n",
       "      <td>2022-01-17 12:54:37</td>\n",
       "    </tr>\n",
       "    <tr>\n",
       "      <th>0</th>\n",
       "      <td>0751994018</td>\n",
       "      <td>Cotton 98%, Spandex 2%</td>\n",
       "      <td>Slim fit</td>\n",
       "      <td>NaN</td>\n",
       "      <td>NaN</td>\n",
       "      <td>NaN</td>\n",
       "      <td>\\n\\t\\t\\t\\t\\t\\t\\t  Slim Jeans</td>\n",
       "      <td>20.99</td>\n",
       "      <td>Denim blue</td>\n",
       "      <td>0751994</td>\n",
       "      <td>018</td>\n",
       "      <td>2022-01-17 12:54:37</td>\n",
       "    </tr>\n",
       "    <tr>\n",
       "      <th>0</th>\n",
       "      <td>0751994031</td>\n",
       "      <td>Cotton 99%, Spandex 1%</td>\n",
       "      <td>Slim fit</td>\n",
       "      <td>NaN</td>\n",
       "      <td>The model is 187cm/6'2\" and wears a size 31/32</td>\n",
       "      <td>NaN</td>\n",
       "      <td>\\n\\t\\t\\t\\t\\t\\t\\t  Slim Jeans</td>\n",
       "      <td>14.99</td>\n",
       "      <td>Light blue</td>\n",
       "      <td>0751994</td>\n",
       "      <td>031</td>\n",
       "      <td>2022-01-17 12:54:37</td>\n",
       "    </tr>\n",
       "    <tr>\n",
       "      <th>0</th>\n",
       "      <td>0751994034</td>\n",
       "      <td>Cotton 99%, Spandex 1%</td>\n",
       "      <td>Slim fit</td>\n",
       "      <td>NaN</td>\n",
       "      <td>The model is 189cm/6'2\" and wears a size 32/32</td>\n",
       "      <td>Recycled cotton 20%</td>\n",
       "      <td>\\n\\t\\t\\t\\t\\t\\t\\t  Slim Jeans</td>\n",
       "      <td>29.99</td>\n",
       "      <td>Dark blue</td>\n",
       "      <td>0751994</td>\n",
       "      <td>034</td>\n",
       "      <td>2022-01-17 12:54:37</td>\n",
       "    </tr>\n",
       "  </tbody>\n",
       "</table>\n",
       "<p>508 rows × 12 columns</p>\n",
       "</div>"
      ],
      "text/plain": [
       "    product_id                composition       fit product_safety  \\\n",
       "0   1024256001  Polyester 65%, Cotton 35%  Slim fit            NaN   \n",
       "1   1024256001     Cotton 99%, Spandex 1%  Slim fit            NaN   \n",
       "0   1024256002     Cotton 99%, Spandex 1%  Slim fit            NaN   \n",
       "1   1024256002  Polyester 65%, Cotton 35%  Slim fit            NaN   \n",
       "0   1024256003     Cotton 99%, Spandex 1%  Slim fit            NaN   \n",
       "..         ...                        ...       ...            ...   \n",
       "0   0751994016     Cotton 98%, Spandex 2%  Slim fit            NaN   \n",
       "0   0751994017     Cotton 98%, Spandex 2%  Slim fit            NaN   \n",
       "0   0751994018     Cotton 98%, Spandex 2%  Slim fit            NaN   \n",
       "0   0751994031     Cotton 99%, Spandex 1%  Slim fit            NaN   \n",
       "0   0751994034     Cotton 99%, Spandex 1%  Slim fit            NaN   \n",
       "\n",
       "                                              size sustainable_materials  \\\n",
       "0   The model is 185cm/6'1\" and wears a size 31/32                   NaN   \n",
       "1   The model is 185cm/6'1\" and wears a size 31/32                   NaN   \n",
       "0                                              NaN                   NaN   \n",
       "1                                              NaN                   NaN   \n",
       "0   The model is 189cm/6'2\" and wears a size 31/32                   NaN   \n",
       "..                                             ...                   ...   \n",
       "0                                              NaN                   NaN   \n",
       "0                                              NaN                   NaN   \n",
       "0                                              NaN                   NaN   \n",
       "0   The model is 187cm/6'2\" and wears a size 31/32                   NaN   \n",
       "0   The model is 189cm/6'2\" and wears a size 32/32   Recycled cotton 20%   \n",
       "\n",
       "                    product_name product_price        color_name style_id  \\\n",
       "0   \\n\\t\\t\\t\\t\\t\\t\\t  Slim Jeans         19.99             Black  1024256   \n",
       "1   \\n\\t\\t\\t\\t\\t\\t\\t  Slim Jeans         19.99             Black  1024256   \n",
       "0   \\n\\t\\t\\t\\t\\t\\t\\t  Slim Jeans         19.99  Light denim blue  1024256   \n",
       "1   \\n\\t\\t\\t\\t\\t\\t\\t  Slim Jeans         19.99  Light denim blue  1024256   \n",
       "0   \\n\\t\\t\\t\\t\\t\\t\\t  Slim Jeans         19.99  Light denim blue  1024256   \n",
       "..                           ...           ...               ...      ...   \n",
       "0   \\n\\t\\t\\t\\t\\t\\t\\t  Slim Jeans         15.99         Dark blue  0751994   \n",
       "0   \\n\\t\\t\\t\\t\\t\\t\\t  Slim Jeans         16.99   Dark denim blue  0751994   \n",
       "0   \\n\\t\\t\\t\\t\\t\\t\\t  Slim Jeans         20.99        Denim blue  0751994   \n",
       "0   \\n\\t\\t\\t\\t\\t\\t\\t  Slim Jeans         14.99        Light blue  0751994   \n",
       "0   \\n\\t\\t\\t\\t\\t\\t\\t  Slim Jeans         29.99         Dark blue  0751994   \n",
       "\n",
       "   color_id      scrapy_datetime  \n",
       "0       001  2022-01-17 12:54:37  \n",
       "1       001  2022-01-17 12:54:37  \n",
       "0       002  2022-01-17 12:54:37  \n",
       "1       002  2022-01-17 12:54:37  \n",
       "0       003  2022-01-17 12:54:37  \n",
       "..      ...                  ...  \n",
       "0       016  2022-01-17 12:54:37  \n",
       "0       017  2022-01-17 12:54:37  \n",
       "0       018  2022-01-17 12:54:37  \n",
       "0       031  2022-01-17 12:54:37  \n",
       "0       034  2022-01-17 12:54:37  \n",
       "\n",
       "[508 rows x 12 columns]"
      ]
     },
     "execution_count": 6,
     "metadata": {},
     "output_type": "execute_result"
    }
   ],
   "source": [
    "df_compositions"
   ]
  },
  {
   "cell_type": "markdown",
   "id": "900c2348",
   "metadata": {},
   "source": [
    "# Data Cleaning"
   ]
  },
  {
   "cell_type": "code",
   "execution_count": 11,
   "id": "96550eb6",
   "metadata": {
    "ExecuteTime": {
     "end_time": "2022-01-16T20:50:51.885141Z",
     "start_time": "2022-01-16T20:50:51.873099Z"
    }
   },
   "outputs": [
    {
     "data": {
      "text/plain": [
       "(550, 12)"
      ]
     },
     "execution_count": 11,
     "metadata": {},
     "output_type": "execute_result"
    }
   ],
   "source": [
    "df_compositions.shape"
   ]
  },
  {
   "cell_type": "code",
   "execution_count": 12,
   "id": "aae6ab09",
   "metadata": {
    "ExecuteTime": {
     "end_time": "2022-01-16T20:50:53.869382Z",
     "start_time": "2022-01-16T20:50:53.862005Z"
    }
   },
   "outputs": [
    {
     "data": {
      "text/plain": [
       "114"
      ]
     },
     "execution_count": 12,
     "metadata": {},
     "output_type": "execute_result"
    }
   ],
   "source": [
    "len(df_compositions['product_id'].unique())"
   ]
  },
  {
   "cell_type": "code",
   "execution_count": 7,
   "id": "e9f892c1",
   "metadata": {
    "ExecuteTime": {
     "end_time": "2022-01-17T15:54:37.787619Z",
     "start_time": "2022-01-17T15:54:37.515962Z"
    }
   },
   "outputs": [],
   "source": [
    "\n",
    "#product id\n",
    "#dropping NaN values\n",
    "df_data = df_compositions.dropna(subset=['product_id'])\n",
    "\n",
    "#product_name\n",
    "df_data['product_name'] = df_data['product_name'].str.strip()\n",
    "df_data['product_name'] = df_data['product_name'].str.replace(' ', '_').str.lower()\n",
    "df_data['product_name'] = df_data['product_name'].str.replace('®', '').str.lower()\n",
    "\n",
    "\n",
    "#product_price\n",
    "df_data['product_price'] = df_data['product_price'].astype(float)\n",
    "\n",
    "#color name\n",
    "df_data['color_name'] = df_data['color_name'].str.replace(' ', '_').str.lower()\n",
    "\n",
    "#fit\n",
    "df_data['fit'] = df_data['fit'].apply(lambda x: x.replace(' ', '_').lower() if pd.notnull(x) else x)\n",
    "\n",
    "#size number\n",
    "df_data['size_number'] = df_data['size'].apply(lambda x: re.search('\\d{3}', x).group(0) if pd.notnull(x) else x)\n",
    "#df_data['size_number'] = df_data['size_number'].apply(lambda x: re.search('\\d+', x).group(0) if pd.notnull(x) else x)\n",
    "\n",
    "#size model\n",
    "df_data['size_model'] = df_data['size'].str.extract('(\\d+/\\\\d+)')\n",
    "df_data['size_model'] = df_data['size_model'].apply(lambda x: x.replace('/', '_') if pd.notnull(x) else x)\n",
    "\n",
    "#drop duplicated cells\n",
    "#df_data = df_data.drop_duplicates()\n",
    "#(subset=['product_id', 'product_category', 'product_name', 'product_price', 'scrapy_time', 'style_id', 'color_id', 'color_name', 'Fit', 'Composition', 'size_number', 'size_model'], keep='last' )\n",
    "\n",
    "#reset index\n",
    "df_data = df_data.reset_index(drop = True)\n",
    "\n",
    "#break composition by comma\n",
    "df1 = df_data['composition'].str.split(',', expand = True).reset_index(drop = True)\n",
    "\n",
    "\n",
    "#creating new df with columns\n",
    "# cotton | polyester | spandex | elasterell\n",
    "df_ref = pd.DataFrame(index = np.arange(len(df_data)), columns = ['cotton', 'polyester', 'spandex', 'elasterell'])\n",
    "\n",
    "############################### COMPOSITION #####################################\n",
    "\n",
    "#cotton: 0, 1\n",
    "#polyester: 0, 1\n",
    "#spandex: 1, 2\n",
    "#elasterell: 1\n",
    "\n",
    "# -------------- cotton --------------\n",
    "df_cotton_0 = df1.loc[df1[0].str.contains('Cotton', na = True), 0]\n",
    "df_cotton_0.name = 'cotton'\n",
    "df_cotton_1 = df1.loc[df1[1].str.contains('Cotton', na = True), 1]\n",
    "df_cotton_1.name = 'cotton'\n",
    "\n",
    "# combine cotton df's\n",
    "df_cotton = df_cotton_0.combine_first(df_cotton_1)\n",
    "\n",
    "df_ref = pd.concat([df_ref, df_cotton], axis = 1)\n",
    "df_ref = df_ref.iloc[:, ~df_ref.columns.duplicated(keep = 'last')]\n",
    "\n",
    "\n",
    "#------------ polyester ---------------\n",
    "df_polyester_0 = df1.loc[df1[0].str.contains('Polyester', na = True), 0]\n",
    "df_polyester_0.name = 'polyester'\n",
    "df_polyester_1 = df1.loc[df1[1].str.contains('Polyester', na = True), 1]\n",
    "df_polyester_1.name = 'polyester'\n",
    "\n",
    "df_polyester = df_polyester_0.combine_first(df_polyester_1)\n",
    "df_ref = pd.concat([df_ref, df_polyester], axis = 1)\n",
    "df_ref = df_ref.iloc[:, ~df_ref.columns.duplicated(keep = 'last')]\n",
    "\n",
    "#----------- spandex --------------------\n",
    "df_spandex_1 = df1.loc[df1[1].str.contains('Spandex', na = True), 1]\n",
    "df_spandex_1.name = 'spandex'\n",
    "df_spandex_2 = df1.loc[df1[2].str.contains('Spandex', na = True), 2]\n",
    "df_spandex_2.name = 'spandex'\n",
    "\n",
    "#from jan 10 scrapy\n",
    "#df_spandex_3 = df1.loc[df1[3].str.contains('Spandex', na = True), 3]\n",
    "#df_spandex_3.name = 'spandex'\n",
    "\n",
    "#df_spandex_c2 = df_spandex_1.combine_first(df_spandex_2)\n",
    "\n",
    "df_spandex = df_spandex_1.combine_first(df_spandex_2)\n",
    "\n",
    "df_ref = pd.concat([df_ref, df_spandex], axis = 1)\n",
    "df_ref = df_ref.iloc[:, ~df_ref.columns.duplicated(keep = 'last')]\n",
    "\n",
    "\n",
    "# ---------- elasterell --------------------\n",
    "df_elasterell = df1.loc[df1[1].str.contains('Elasterell', na = True), 1]\n",
    "df_elasterell.name = 'elasterell'\n",
    "\n",
    "df_ref = pd.concat([df_ref, df_elasterell], axis = 1)\n",
    "df_ref = df_ref.iloc[:, ~df_ref.columns.duplicated(keep = 'last')]\n",
    "\n",
    "#combine join with product id \n",
    "df_aux = pd.concat([df_data['product_id'].reset_index(drop = True), df_ref], axis = 1)\n",
    "\n",
    "#format composition data\n",
    "\n",
    "df_aux['cotton']     = df_aux['cotton'].apply(lambda x: int(re.search('\\d+', x).group(0))/100 if pd.notnull(x) else x)\n",
    "df_aux['elasterell'] = df_aux['elasterell'].apply(lambda x: int(re.search('\\d+', x).group(0))/100 if pd.notnull(x) else x)\n",
    "df_aux['spandex']    = df_aux['spandex'].apply(lambda x: int(re.search('\\d+', x).group(0))/100 if pd.notnull(x) else x)\n",
    "df_aux['polyester']  = df_aux['polyester'].apply(lambda x: int(re.search('\\d+', x).group(0))/100 if pd.notnull(x) else x)\n",
    "\n",
    "#final join\n",
    "df_aux = df_aux.groupby('product_id').max().reset_index().fillna(0)\n",
    "df_data = pd.merge(df_data, df_aux, on = 'product_id', how = 'left')\n",
    "\n",
    "#drop columns\n",
    "df_data = df_data.drop(columns = ['size', 'product_safety', 'sustainable_materials', 'composition'])\n",
    "\n",
    "df_data = df_data.drop_duplicates()"
   ]
  },
  {
   "cell_type": "code",
   "execution_count": 15,
   "id": "e41e12a5",
   "metadata": {
    "ExecuteTime": {
     "end_time": "2022-01-17T15:59:35.284070Z",
     "start_time": "2022-01-17T15:59:35.274591Z"
    }
   },
   "outputs": [
    {
     "data": {
      "text/plain": [
       "array(['Polyester 65%', 'Cotton 99%', 'Cotton 100%', 'Polyester 63%',\n",
       "       'Cotton 98%', 'Polyester 100%', 'Cotton 90%', 'Polyester 80%',\n",
       "       'Cotton 89%', 'Cotton 79%', 'Cotton 77%', 'Cotton 78%',\n",
       "       'Cotton 80%'], dtype=object)"
      ]
     },
     "execution_count": 15,
     "metadata": {},
     "output_type": "execute_result"
    }
   ],
   "source": [
    "df1[0].unique()"
   ]
  },
  {
   "cell_type": "code",
   "execution_count": 16,
   "id": "c3312b7f",
   "metadata": {
    "ExecuteTime": {
     "end_time": "2022-01-17T15:59:51.318749Z",
     "start_time": "2022-01-17T15:59:51.300624Z"
    }
   },
   "outputs": [
    {
     "data": {
      "text/plain": [
       "array([' Cotton 35%', ' Spandex 1%', None, ' Cotton 37%', ' Spandex 2%',\n",
       "       ' Elasterell-P 8%', ' Cotton 20%', ' Elasterell-P 9%',\n",
       "       ' Polyester 20%', ' Polyester 21%', ' Polyester 19%'], dtype=object)"
      ]
     },
     "execution_count": 16,
     "metadata": {},
     "output_type": "execute_result"
    }
   ],
   "source": [
    "df1[1].unique()"
   ]
  },
  {
   "cell_type": "code",
   "execution_count": 17,
   "id": "48f2efcb",
   "metadata": {
    "ExecuteTime": {
     "end_time": "2022-01-17T16:00:00.626259Z",
     "start_time": "2022-01-17T16:00:00.612403Z"
    },
    "scrolled": true
   },
   "outputs": [
    {
     "data": {
      "text/plain": [
       "array([None, ' Spandex 2%', ' Spandex 1%'], dtype=object)"
      ]
     },
     "execution_count": 17,
     "metadata": {},
     "output_type": "execute_result"
    }
   ],
   "source": [
    "df1[2].unique()"
   ]
  },
  {
   "cell_type": "code",
   "execution_count": 22,
   "id": "1d084142",
   "metadata": {
    "ExecuteTime": {
     "end_time": "2022-01-17T16:00:51.611925Z",
     "start_time": "2022-01-17T16:00:51.594261Z"
    }
   },
   "outputs": [
    {
     "data": {
      "text/plain": [
       "array([' Cotton 35%', 'Cotton 99%', 'Cotton 100%', ' Cotton 37%',\n",
       "       'Cotton 98%', None, 'Cotton 90%', ' Cotton 20%', 'Cotton 89%',\n",
       "       'Cotton 79%', 'Cotton 77%', 'Cotton 78%', 'Cotton 80%'],\n",
       "      dtype=object)"
      ]
     },
     "execution_count": 22,
     "metadata": {},
     "output_type": "execute_result"
    }
   ],
   "source": [
    "df_ref['cotton'].unique()"
   ]
  },
  {
   "cell_type": "code",
   "execution_count": 23,
   "id": "6452a613",
   "metadata": {
    "ExecuteTime": {
     "end_time": "2022-01-17T16:01:02.243788Z",
     "start_time": "2022-01-17T16:01:02.231285Z"
    }
   },
   "outputs": [
    {
     "data": {
      "text/plain": [
       "array([None, ' Spandex 1%', ' Spandex 2%'], dtype=object)"
      ]
     },
     "execution_count": 23,
     "metadata": {},
     "output_type": "execute_result"
    }
   ],
   "source": [
    "df_ref['spandex'].unique()"
   ]
  },
  {
   "cell_type": "code",
   "execution_count": 24,
   "id": "2adebfa4",
   "metadata": {
    "ExecuteTime": {
     "end_time": "2022-01-17T16:03:59.675461Z",
     "start_time": "2022-01-17T16:03:59.657126Z"
    }
   },
   "outputs": [
    {
     "data": {
      "text/plain": [
       "array([nan, None, ' Elasterell-P 8%', ' Elasterell-P 9%'], dtype=object)"
      ]
     },
     "execution_count": 24,
     "metadata": {},
     "output_type": "execute_result"
    }
   ],
   "source": [
    "df_ref['elasterell'].unique()"
   ]
  },
  {
   "cell_type": "code",
   "execution_count": 25,
   "id": "95c871ab",
   "metadata": {
    "ExecuteTime": {
     "end_time": "2022-01-17T16:04:11.672538Z",
     "start_time": "2022-01-17T16:04:11.656122Z"
    }
   },
   "outputs": [
    {
     "data": {
      "text/plain": [
       "array(['Polyester 65%', nan, None, 'Polyester 63%', 'Polyester 100%',\n",
       "       'Polyester 80%', ' Polyester 20%', ' Polyester 21%',\n",
       "       ' Polyester 19%'], dtype=object)"
      ]
     },
     "execution_count": 25,
     "metadata": {},
     "output_type": "execute_result"
    }
   ],
   "source": [
    "df_ref['polyester'].unique()"
   ]
  },
  {
   "cell_type": "code",
   "execution_count": 27,
   "id": "f9235166",
   "metadata": {
    "ExecuteTime": {
     "end_time": "2022-01-17T16:04:42.231548Z",
     "start_time": "2022-01-17T16:04:42.224603Z"
    }
   },
   "outputs": [
    {
     "data": {
      "text/plain": [
       "array([0.  , 0.08, 0.09])"
      ]
     },
     "execution_count": 27,
     "metadata": {},
     "output_type": "execute_result"
    }
   ],
   "source": [
    "df_data['elasterell'].unique()"
   ]
  },
  {
   "cell_type": "code",
   "execution_count": null,
   "id": "8c66a600",
   "metadata": {},
   "outputs": [],
   "source": [
    "df_data.to_csv(etl_hm.csv, encoding='utf-8', index=False)"
   ]
  },
  {
   "cell_type": "code",
   "execution_count": 11,
   "id": "e585e301",
   "metadata": {
    "ExecuteTime": {
     "end_time": "2022-01-17T15:59:00.286899Z",
     "start_time": "2022-01-17T15:59:00.271678Z"
    }
   },
   "outputs": [
    {
     "data": {
      "text/html": [
       "<div>\n",
       "<style scoped>\n",
       "    .dataframe tbody tr th:only-of-type {\n",
       "        vertical-align: middle;\n",
       "    }\n",
       "\n",
       "    .dataframe tbody tr th {\n",
       "        vertical-align: top;\n",
       "    }\n",
       "\n",
       "    .dataframe thead th {\n",
       "        text-align: right;\n",
       "    }\n",
       "</style>\n",
       "<table border=\"1\" class=\"dataframe\">\n",
       "  <thead>\n",
       "    <tr style=\"text-align: right;\">\n",
       "      <th></th>\n",
       "      <th>cotton</th>\n",
       "      <th>polyester</th>\n",
       "      <th>spandex</th>\n",
       "      <th>elasterell</th>\n",
       "    </tr>\n",
       "  </thead>\n",
       "  <tbody>\n",
       "    <tr>\n",
       "      <th>0</th>\n",
       "      <td>Cotton 35%</td>\n",
       "      <td>Polyester 65%</td>\n",
       "      <td>None</td>\n",
       "      <td>NaN</td>\n",
       "    </tr>\n",
       "    <tr>\n",
       "      <th>1</th>\n",
       "      <td>Cotton 99%</td>\n",
       "      <td>NaN</td>\n",
       "      <td>Spandex 1%</td>\n",
       "      <td>NaN</td>\n",
       "    </tr>\n",
       "    <tr>\n",
       "      <th>2</th>\n",
       "      <td>Cotton 99%</td>\n",
       "      <td>NaN</td>\n",
       "      <td>Spandex 1%</td>\n",
       "      <td>NaN</td>\n",
       "    </tr>\n",
       "    <tr>\n",
       "      <th>3</th>\n",
       "      <td>Cotton 35%</td>\n",
       "      <td>Polyester 65%</td>\n",
       "      <td>None</td>\n",
       "      <td>NaN</td>\n",
       "    </tr>\n",
       "    <tr>\n",
       "      <th>4</th>\n",
       "      <td>Cotton 99%</td>\n",
       "      <td>NaN</td>\n",
       "      <td>Spandex 1%</td>\n",
       "      <td>NaN</td>\n",
       "    </tr>\n",
       "    <tr>\n",
       "      <th>...</th>\n",
       "      <td>...</td>\n",
       "      <td>...</td>\n",
       "      <td>...</td>\n",
       "      <td>...</td>\n",
       "    </tr>\n",
       "    <tr>\n",
       "      <th>503</th>\n",
       "      <td>Cotton 98%</td>\n",
       "      <td>NaN</td>\n",
       "      <td>Spandex 2%</td>\n",
       "      <td>NaN</td>\n",
       "    </tr>\n",
       "    <tr>\n",
       "      <th>504</th>\n",
       "      <td>Cotton 98%</td>\n",
       "      <td>NaN</td>\n",
       "      <td>Spandex 2%</td>\n",
       "      <td>NaN</td>\n",
       "    </tr>\n",
       "    <tr>\n",
       "      <th>505</th>\n",
       "      <td>Cotton 98%</td>\n",
       "      <td>NaN</td>\n",
       "      <td>Spandex 2%</td>\n",
       "      <td>NaN</td>\n",
       "    </tr>\n",
       "    <tr>\n",
       "      <th>506</th>\n",
       "      <td>Cotton 99%</td>\n",
       "      <td>NaN</td>\n",
       "      <td>Spandex 1%</td>\n",
       "      <td>NaN</td>\n",
       "    </tr>\n",
       "    <tr>\n",
       "      <th>507</th>\n",
       "      <td>Cotton 99%</td>\n",
       "      <td>NaN</td>\n",
       "      <td>Spandex 1%</td>\n",
       "      <td>NaN</td>\n",
       "    </tr>\n",
       "  </tbody>\n",
       "</table>\n",
       "<p>508 rows × 4 columns</p>\n",
       "</div>"
      ],
      "text/plain": [
       "          cotton      polyester      spandex elasterell\n",
       "0     Cotton 35%  Polyester 65%         None        NaN\n",
       "1     Cotton 99%            NaN   Spandex 1%        NaN\n",
       "2     Cotton 99%            NaN   Spandex 1%        NaN\n",
       "3     Cotton 35%  Polyester 65%         None        NaN\n",
       "4     Cotton 99%            NaN   Spandex 1%        NaN\n",
       "..           ...            ...          ...        ...\n",
       "503   Cotton 98%            NaN   Spandex 2%        NaN\n",
       "504   Cotton 98%            NaN   Spandex 2%        NaN\n",
       "505   Cotton 98%            NaN   Spandex 2%        NaN\n",
       "506   Cotton 99%            NaN   Spandex 1%        NaN\n",
       "507   Cotton 99%            NaN   Spandex 1%        NaN\n",
       "\n",
       "[508 rows x 4 columns]"
      ]
     },
     "execution_count": 11,
     "metadata": {},
     "output_type": "execute_result"
    }
   ],
   "source": [
    "df_ref"
   ]
  },
  {
   "cell_type": "markdown",
   "id": "18e8893c",
   "metadata": {},
   "source": [
    "# Data Insert"
   ]
  },
  {
   "cell_type": "code",
   "execution_count": 22,
   "id": "8c8551b7",
   "metadata": {
    "ExecuteTime": {
     "end_time": "2022-01-16T20:52:47.884358Z",
     "start_time": "2022-01-16T20:52:47.876545Z"
    }
   },
   "outputs": [],
   "source": [
    "import sqlite3\n",
    "from sqlalchemy import create_engine"
   ]
  },
  {
   "cell_type": "code",
   "execution_count": 21,
   "id": "2a06f7c1",
   "metadata": {
    "ExecuteTime": {
     "end_time": "2022-01-16T20:52:21.711467Z",
     "start_time": "2022-01-16T20:52:21.694394Z"
    }
   },
   "outputs": [
    {
     "data": {
      "text/plain": [
       "Index(['product_id', 'fit', 'product_name', 'product_price', 'color_name',\n",
       "       'style_id', 'color_id', 'scrapy_datetime', 'size_number', 'size_model',\n",
       "       'cotton', 'polyester', 'spandex', 'elasterell'],\n",
       "      dtype='object')"
      ]
     },
     "execution_count": 21,
     "metadata": {},
     "output_type": "execute_result"
    }
   ],
   "source": [
    "df_data.columns"
   ]
  },
  {
   "cell_type": "code",
   "execution_count": 30,
   "id": "bb4e913a",
   "metadata": {
    "ExecuteTime": {
     "end_time": "2022-01-16T21:03:26.655987Z",
     "start_time": "2022-01-16T21:03:26.649792Z"
    }
   },
   "outputs": [],
   "source": [
    "data_insert = df_data[[\n",
    "    'product_id',\n",
    "    'style_id',\n",
    "    'color_id',\n",
    "    'product_name',\n",
    "    'color_name',\n",
    "    'fit',\n",
    "    'product_price',\n",
    "    'size_number',\n",
    "    'size_model',\n",
    "    'cotton',\n",
    "    'polyester',\n",
    "    'spandex',\n",
    "    'elasterell',\n",
    "    'scrapy_datetime']]"
   ]
  },
  {
   "cell_type": "code",
   "execution_count": 25,
   "id": "0d01ed07",
   "metadata": {
    "ExecuteTime": {
     "end_time": "2022-01-16T20:53:17.138606Z",
     "start_time": "2022-01-16T20:53:17.111028Z"
    }
   },
   "outputs": [
    {
     "data": {
      "text/plain": [
       "product_id          object\n",
       "style_id            object\n",
       "color_id            object\n",
       "product_name        object\n",
       "color_name          object\n",
       "fit                 object\n",
       "product_price      float64\n",
       "size_number         object\n",
       "size_model          object\n",
       "cotton             float64\n",
       "polyester          float64\n",
       "spandex            float64\n",
       "elasterell         float64\n",
       "scrapy_datetime     object\n",
       "dtype: object"
      ]
     },
     "execution_count": 25,
     "metadata": {},
     "output_type": "execute_result"
    }
   ],
   "source": [
    "data_insert.dtypes"
   ]
  },
  {
   "cell_type": "code",
   "execution_count": 31,
   "id": "ccb999fe",
   "metadata": {
    "ExecuteTime": {
     "end_time": "2022-01-16T21:03:28.963918Z",
     "start_time": "2022-01-16T21:03:28.957297Z"
    }
   },
   "outputs": [],
   "source": [
    "query_showroom_schema = '''\n",
    "    CREATE TABLE vitrine(\n",
    "    product_id         TEXT,\n",
    "    style_id           TEXT,\n",
    "    color_id           TEXT,\n",
    "    product_name       TEXT,\n",
    "    color_name         TEXT,\n",
    "    fit                TEXT,\n",
    "    product_price      REAL,\n",
    "    size_number        TEXT,\n",
    "    size_model         TEXT,\n",
    "    cotton             REAL,\n",
    "    polyester          REAL,\n",
    "    spandex            REAL,\n",
    "    elasterell         REAL,\n",
    "    scrapy_datetime    TEXT\n",
    "    \n",
    "    \n",
    "    \n",
    "    )\n",
    "'''"
   ]
  },
  {
   "cell_type": "code",
   "execution_count": 32,
   "id": "6c670be3",
   "metadata": {
    "ExecuteTime": {
     "end_time": "2022-01-16T21:03:32.414462Z",
     "start_time": "2022-01-16T21:03:32.163293Z"
    }
   },
   "outputs": [],
   "source": [
    "conn = sqlite3.connect('database_hm.sqlite')\n",
    "cursor = conn.execute(query_showroom_schema)\n",
    "conn.commit()"
   ]
  },
  {
   "cell_type": "code",
   "execution_count": 33,
   "id": "85883f91",
   "metadata": {
    "ExecuteTime": {
     "end_time": "2022-01-16T21:03:33.580856Z",
     "start_time": "2022-01-16T21:03:33.319104Z"
    }
   },
   "outputs": [],
   "source": [
    "conn = create_engine('sqlite:///database_hm.sqlite')\n",
    "data_insert.to_sql('vitrine', con = conn, if_exists = 'append', index = False)"
   ]
  },
  {
   "cell_type": "code",
   "execution_count": 34,
   "id": "f9359574",
   "metadata": {
    "ExecuteTime": {
     "end_time": "2022-01-16T21:03:34.549607Z",
     "start_time": "2022-01-16T21:03:34.518360Z"
    }
   },
   "outputs": [
    {
     "data": {
      "text/html": [
       "<div>\n",
       "<style scoped>\n",
       "    .dataframe tbody tr th:only-of-type {\n",
       "        vertical-align: middle;\n",
       "    }\n",
       "\n",
       "    .dataframe tbody tr th {\n",
       "        vertical-align: top;\n",
       "    }\n",
       "\n",
       "    .dataframe thead th {\n",
       "        text-align: right;\n",
       "    }\n",
       "</style>\n",
       "<table border=\"1\" class=\"dataframe\">\n",
       "  <thead>\n",
       "    <tr style=\"text-align: right;\">\n",
       "      <th></th>\n",
       "      <th>product_id</th>\n",
       "      <th>style_id</th>\n",
       "      <th>color_id</th>\n",
       "      <th>product_name</th>\n",
       "      <th>color_name</th>\n",
       "      <th>fit</th>\n",
       "      <th>product_price</th>\n",
       "      <th>size_number</th>\n",
       "      <th>size_model</th>\n",
       "      <th>cotton</th>\n",
       "      <th>polyester</th>\n",
       "      <th>spandex</th>\n",
       "      <th>elasterell</th>\n",
       "      <th>scrapy_datetime</th>\n",
       "    </tr>\n",
       "  </thead>\n",
       "  <tbody>\n",
       "    <tr>\n",
       "      <th>0</th>\n",
       "      <td>1024256001</td>\n",
       "      <td>1024256</td>\n",
       "      <td>001</td>\n",
       "      <td>slim_jeans</td>\n",
       "      <td>black</td>\n",
       "      <td>slim_fit</td>\n",
       "      <td>19.99</td>\n",
       "      <td>185</td>\n",
       "      <td>31_32</td>\n",
       "      <td>0.99</td>\n",
       "      <td>0.65</td>\n",
       "      <td>0.01</td>\n",
       "      <td>0.0</td>\n",
       "      <td>2022-01-16 17:48:41</td>\n",
       "    </tr>\n",
       "    <tr>\n",
       "      <th>1</th>\n",
       "      <td>1024256002</td>\n",
       "      <td>1024256</td>\n",
       "      <td>002</td>\n",
       "      <td>slim_jeans</td>\n",
       "      <td>light_denim_blue</td>\n",
       "      <td>slim_fit</td>\n",
       "      <td>19.99</td>\n",
       "      <td>None</td>\n",
       "      <td>None</td>\n",
       "      <td>0.99</td>\n",
       "      <td>0.65</td>\n",
       "      <td>0.01</td>\n",
       "      <td>0.0</td>\n",
       "      <td>2022-01-16 17:48:41</td>\n",
       "    </tr>\n",
       "    <tr>\n",
       "      <th>2</th>\n",
       "      <td>1024256003</td>\n",
       "      <td>1024256</td>\n",
       "      <td>003</td>\n",
       "      <td>slim_jeans</td>\n",
       "      <td>light_denim_blue</td>\n",
       "      <td>slim_fit</td>\n",
       "      <td>19.99</td>\n",
       "      <td>189</td>\n",
       "      <td>31_32</td>\n",
       "      <td>0.99</td>\n",
       "      <td>0.65</td>\n",
       "      <td>0.01</td>\n",
       "      <td>0.0</td>\n",
       "      <td>2022-01-16 17:48:41</td>\n",
       "    </tr>\n",
       "    <tr>\n",
       "      <th>3</th>\n",
       "      <td>1024256004</td>\n",
       "      <td>1024256</td>\n",
       "      <td>004</td>\n",
       "      <td>slim_jeans</td>\n",
       "      <td>denim_blue</td>\n",
       "      <td>slim_fit</td>\n",
       "      <td>19.99</td>\n",
       "      <td>None</td>\n",
       "      <td>None</td>\n",
       "      <td>0.99</td>\n",
       "      <td>0.65</td>\n",
       "      <td>0.01</td>\n",
       "      <td>0.0</td>\n",
       "      <td>2022-01-16 17:48:41</td>\n",
       "    </tr>\n",
       "    <tr>\n",
       "      <th>4</th>\n",
       "      <td>1024256005</td>\n",
       "      <td>1024256</td>\n",
       "      <td>005</td>\n",
       "      <td>slim_jeans</td>\n",
       "      <td>dark_blue</td>\n",
       "      <td>slim_fit</td>\n",
       "      <td>19.99</td>\n",
       "      <td>None</td>\n",
       "      <td>None</td>\n",
       "      <td>0.99</td>\n",
       "      <td>0.65</td>\n",
       "      <td>0.01</td>\n",
       "      <td>0.0</td>\n",
       "      <td>2022-01-16 17:48:41</td>\n",
       "    </tr>\n",
       "  </tbody>\n",
       "</table>\n",
       "</div>"
      ],
      "text/plain": [
       "   product_id style_id color_id product_name        color_name       fit  \\\n",
       "0  1024256001  1024256      001   slim_jeans             black  slim_fit   \n",
       "1  1024256002  1024256      002   slim_jeans  light_denim_blue  slim_fit   \n",
       "2  1024256003  1024256      003   slim_jeans  light_denim_blue  slim_fit   \n",
       "3  1024256004  1024256      004   slim_jeans        denim_blue  slim_fit   \n",
       "4  1024256005  1024256      005   slim_jeans         dark_blue  slim_fit   \n",
       "\n",
       "   product_price size_number size_model  cotton  polyester  spandex  \\\n",
       "0          19.99         185      31_32    0.99       0.65     0.01   \n",
       "1          19.99        None       None    0.99       0.65     0.01   \n",
       "2          19.99         189      31_32    0.99       0.65     0.01   \n",
       "3          19.99        None       None    0.99       0.65     0.01   \n",
       "4          19.99        None       None    0.99       0.65     0.01   \n",
       "\n",
       "   elasterell      scrapy_datetime  \n",
       "0         0.0  2022-01-16 17:48:41  \n",
       "1         0.0  2022-01-16 17:48:41  \n",
       "2         0.0  2022-01-16 17:48:41  \n",
       "3         0.0  2022-01-16 17:48:41  \n",
       "4         0.0  2022-01-16 17:48:41  "
      ]
     },
     "execution_count": 34,
     "metadata": {},
     "output_type": "execute_result"
    }
   ],
   "source": [
    "query = '''\n",
    "        SELECT * FROM vitrine'''\n",
    "\n",
    "df = pd.read_sql_query(query, conn)\n",
    "df.head()"
   ]
  },
  {
   "cell_type": "code",
   "execution_count": null,
   "id": "5544cd59",
   "metadata": {},
   "outputs": [],
   "source": []
  }
 ],
 "metadata": {
  "hide_input": false,
  "kernelspec": {
   "display_name": "Python 3 (ipykernel)",
   "language": "python",
   "name": "python3"
  },
  "language_info": {
   "codemirror_mode": {
    "name": "ipython",
    "version": 3
   },
   "file_extension": ".py",
   "mimetype": "text/x-python",
   "name": "python",
   "nbconvert_exporter": "python",
   "pygments_lexer": "ipython3",
   "version": "3.8.10"
  }
 },
 "nbformat": 4,
 "nbformat_minor": 5
}
