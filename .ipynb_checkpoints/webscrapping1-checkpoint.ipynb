{
 "cells": [
  {
   "cell_type": "code",
   "execution_count": 81,
   "id": "bba46739",
   "metadata": {
    "ExecuteTime": {
     "end_time": "2021-12-07T14:57:30.128643Z",
     "start_time": "2021-12-07T14:57:30.102575Z"
    }
   },
   "outputs": [],
   "source": [
    "from bs4 import BeautifulSoup\n",
    "from fake_useragent import UserAgent\n",
    "import requests\n",
    "from datetime import datetime\n",
    "import pandas as pd"
   ]
  },
  {
   "cell_type": "code",
   "execution_count": 88,
   "id": "6c0833cc",
   "metadata": {
    "ExecuteTime": {
     "end_time": "2021-12-07T16:42:09.174839Z",
     "start_time": "2021-12-07T16:42:09.096093Z"
    }
   },
   "outputs": [],
   "source": [
    "#creating a useragent\n",
    "ua = UserAgent()\n",
    "header = {'User-Agent':str(ua.chrome)}"
   ]
  },
  {
   "cell_type": "code",
   "execution_count": 58,
   "id": "6504dcbe",
   "metadata": {
    "ExecuteTime": {
     "end_time": "2021-12-07T14:48:10.293106Z",
     "start_time": "2021-12-07T14:48:07.196177Z"
    }
   },
   "outputs": [
    {
     "name": "stdout",
     "output_type": "stream",
     "text": [
      "<Response [200]>\n"
     ]
    }
   ],
   "source": [
    "#H&M site catalog\n",
    "url = 'https://www2.hm.com/en_us/men/products/jeans.html'\n",
    "# id # product_name # product_type # product_color # price\n",
    "page = requests.get(url, headers = header)\n",
    "print(page)"
   ]
  },
  {
   "cell_type": "code",
   "execution_count": 59,
   "id": "4efca76d",
   "metadata": {
    "ExecuteTime": {
     "end_time": "2021-12-07T14:48:12.126291Z",
     "start_time": "2021-12-07T14:48:11.832393Z"
    }
   },
   "outputs": [],
   "source": [
    "soup = BeautifulSoup(page.text, 'html.parser')"
   ]
  },
  {
   "cell_type": "code",
   "execution_count": 87,
   "id": "b237cc1c",
   "metadata": {
    "ExecuteTime": {
     "end_time": "2021-12-07T16:41:56.402860Z",
     "start_time": "2021-12-07T16:41:56.378115Z"
    }
   },
   "outputs": [],
   "source": [
    "products = soup.find('ul', class_= 'products-listing small')"
   ]
  },
  {
   "cell_type": "code",
   "execution_count": 90,
   "id": "311175d6",
   "metadata": {
    "ExecuteTime": {
     "end_time": "2021-12-07T16:43:39.039702Z",
     "start_time": "2021-12-07T16:43:39.024146Z"
    }
   },
   "outputs": [],
   "source": [
    "product_list = products.find_all('article', class_ = 'hm-product-item')"
   ]
  },
  {
   "cell_type": "code",
   "execution_count": 62,
   "id": "70005227",
   "metadata": {
    "ExecuteTime": {
     "end_time": "2021-12-07T14:48:19.817102Z",
     "start_time": "2021-12-07T14:48:19.801628Z"
    }
   },
   "outputs": [],
   "source": [
    "product_id = [p.get('data-articlecode') for p in product_list]"
   ]
  },
  {
   "cell_type": "code",
   "execution_count": 63,
   "id": "fe534d11",
   "metadata": {
    "ExecuteTime": {
     "end_time": "2021-12-07T14:48:20.844830Z",
     "start_time": "2021-12-07T14:48:20.839538Z"
    }
   },
   "outputs": [],
   "source": [
    "product_category = [p.get('data-category') for p in product_list]"
   ]
  },
  {
   "cell_type": "code",
   "execution_count": 64,
   "id": "6995643b",
   "metadata": {
    "ExecuteTime": {
     "end_time": "2021-12-07T14:48:21.811026Z",
     "start_time": "2021-12-07T14:48:21.796086Z"
    }
   },
   "outputs": [],
   "source": [
    "product_list = products.find_all('a', class_ = 'link')\n",
    "product_name = [p.get_text() for p in product_list]"
   ]
  },
  {
   "cell_type": "code",
   "execution_count": 70,
   "id": "c7257901",
   "metadata": {
    "ExecuteTime": {
     "end_time": "2021-12-07T14:49:36.815740Z",
     "start_time": "2021-12-07T14:49:36.775260Z"
    }
   },
   "outputs": [],
   "source": [
    "product_list = products.find_all('span', class_ = 'price regular')\n",
    "product_price = [p.get_text() for p in product_list]"
   ]
  },
  {
   "cell_type": "code",
   "execution_count": null,
   "id": "c6986943",
   "metadata": {},
   "outputs": [],
   "source": [
    "#product color"
   ]
  },
  {
   "cell_type": "code",
   "execution_count": null,
   "id": "5aab2766",
   "metadata": {},
   "outputs": [],
   "source": [
    "#product composition"
   ]
  },
  {
   "cell_type": "code",
   "execution_count": 85,
   "id": "767be89c",
   "metadata": {
    "ExecuteTime": {
     "end_time": "2021-12-07T14:58:51.984810Z",
     "start_time": "2021-12-07T14:58:51.959966Z"
    }
   },
   "outputs": [],
   "source": [
    "data = pd.DataFrame([product_id, product_category, product_name, product_price]).T  #transposição de coluna para linha\n",
    "data.columns = ['product_id', 'product_category', 'product_name', 'product_price']\n",
    "data['scrapy_time'] = datetime.now().strftime('%Y-%m-%d %H:%M:%S')"
   ]
  },
  {
   "cell_type": "code",
   "execution_count": 89,
   "id": "8b851c25",
   "metadata": {
    "ExecuteTime": {
     "end_time": "2021-12-07T16:42:52.168539Z",
     "start_time": "2021-12-07T16:42:50.166967Z"
    }
   },
   "outputs": [
    {
     "data": {
      "text/html": [
       "<div>\n",
       "<style scoped>\n",
       "    .dataframe tbody tr th:only-of-type {\n",
       "        vertical-align: middle;\n",
       "    }\n",
       "\n",
       "    .dataframe tbody tr th {\n",
       "        vertical-align: top;\n",
       "    }\n",
       "\n",
       "    .dataframe thead th {\n",
       "        text-align: right;\n",
       "    }\n",
       "</style>\n",
       "<table border=\"1\" class=\"dataframe\">\n",
       "  <thead>\n",
       "    <tr style=\"text-align: right;\">\n",
       "      <th></th>\n",
       "      <th>product_id</th>\n",
       "      <th>product_category</th>\n",
       "      <th>product_name</th>\n",
       "      <th>product_price</th>\n",
       "      <th>scrapy_time</th>\n",
       "    </tr>\n",
       "  </thead>\n",
       "  <tbody>\n",
       "    <tr>\n",
       "      <th>0</th>\n",
       "      <td>0985197001</td>\n",
       "      <td>men_jeans_slim</td>\n",
       "      <td>Slim Jeans</td>\n",
       "      <td>$ 19.99</td>\n",
       "      <td>2021-12-07 11:58:51</td>\n",
       "    </tr>\n",
       "    <tr>\n",
       "      <th>1</th>\n",
       "      <td>0985159002</td>\n",
       "      <td>men_jeans_skinny</td>\n",
       "      <td>Skinny Jeans</td>\n",
       "      <td>$ 19.99</td>\n",
       "      <td>2021-12-07 11:58:51</td>\n",
       "    </tr>\n",
       "    <tr>\n",
       "      <th>2</th>\n",
       "      <td>1028865001</td>\n",
       "      <td>men_jeans_relaxed</td>\n",
       "      <td>Relaxed Jeans with Embroidery Detail</td>\n",
       "      <td>$ 49.99</td>\n",
       "      <td>2021-12-07 11:58:51</td>\n",
       "    </tr>\n",
       "    <tr>\n",
       "      <th>3</th>\n",
       "      <td>0690449051</td>\n",
       "      <td>men_jeans_ripped</td>\n",
       "      <td>Skinny Jeans</td>\n",
       "      <td>$ 39.99</td>\n",
       "      <td>2021-12-07 11:58:51</td>\n",
       "    </tr>\n",
       "    <tr>\n",
       "      <th>4</th>\n",
       "      <td>0690449043</td>\n",
       "      <td>men_jeans_ripped</td>\n",
       "      <td>Skinny Jeans</td>\n",
       "      <td>$ 39.99</td>\n",
       "      <td>2021-12-07 11:58:51</td>\n",
       "    </tr>\n",
       "  </tbody>\n",
       "</table>\n",
       "</div>"
      ],
      "text/plain": [
       "   product_id   product_category                          product_name  \\\n",
       "0  0985197001     men_jeans_slim                            Slim Jeans   \n",
       "1  0985159002   men_jeans_skinny                          Skinny Jeans   \n",
       "2  1028865001  men_jeans_relaxed  Relaxed Jeans with Embroidery Detail   \n",
       "3  0690449051   men_jeans_ripped                          Skinny Jeans   \n",
       "4  0690449043   men_jeans_ripped                          Skinny Jeans   \n",
       "\n",
       "  product_price          scrapy_time  \n",
       "0       $ 19.99  2021-12-07 11:58:51  \n",
       "1       $ 19.99  2021-12-07 11:58:51  \n",
       "2       $ 49.99  2021-12-07 11:58:51  \n",
       "3       $ 39.99  2021-12-07 11:58:51  \n",
       "4       $ 39.99  2021-12-07 11:58:51  "
      ]
     },
     "execution_count": 89,
     "metadata": {},
     "output_type": "execute_result"
    }
   ],
   "source": [
    "data.head()"
   ]
  },
  {
   "cell_type": "code",
   "execution_count": null,
   "id": "f9749ae5",
   "metadata": {},
   "outputs": [],
   "source": []
  }
 ],
 "metadata": {
  "hide_input": false,
  "kernelspec": {
   "display_name": "Python 3 (ipykernel)",
   "language": "python",
   "name": "python3"
  },
  "language_info": {
   "codemirror_mode": {
    "name": "ipython",
    "version": 3
   },
   "file_extension": ".py",
   "mimetype": "text/x-python",
   "name": "python",
   "nbconvert_exporter": "python",
   "pygments_lexer": "ipython3",
   "version": "3.8.10"
  }
 },
 "nbformat": 4,
 "nbformat_minor": 5
}
