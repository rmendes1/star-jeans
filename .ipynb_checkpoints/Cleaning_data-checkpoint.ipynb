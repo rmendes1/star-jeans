{
 "cells": [
  {
   "cell_type": "markdown",
   "id": "395557f0",
   "metadata": {
    "heading_collapsed": true
   },
   "source": [
    "# Regex"
   ]
  },
  {
   "cell_type": "code",
   "execution_count": 3,
   "id": "b766578c",
   "metadata": {
    "ExecuteTime": {
     "end_time": "2021-12-16T15:34:43.211848Z",
     "start_time": "2021-12-16T15:34:43.159225Z"
    },
    "hidden": true
   },
   "outputs": [],
   "source": [
    "import re"
   ]
  },
  {
   "cell_type": "code",
   "execution_count": 33,
   "id": "29eed3e2",
   "metadata": {
    "ExecuteTime": {
     "end_time": "2021-12-16T16:29:10.663283Z",
     "start_time": "2021-12-16T16:29:10.644862Z"
    },
    "hidden": true
   },
   "outputs": [],
   "source": [
    "text01 = 'Rua H-20, 5 - Parque Shalom, São Luís'\n",
    "text02 = 'Rua Armando Shibata, 97 - Vila Leopoldina, São Paulo'\n",
    "text03 = 'Av. dos Trabalhadores, 403 - Centro, Mogi Guaçu'\n",
    "text04 = 'Al. Moraes, 403 - Vila Golmes, Pernambuco'\n",
    "\n",
    "\n",
    "text = [text01,text02,text03,text04]\n",
    "#Nome da rua\n",
    "#Numero\n",
    "#Bairro\n",
    "#Cidade"
   ]
  },
  {
   "cell_type": "code",
   "execution_count": 19,
   "id": "7f940a30",
   "metadata": {
    "ExecuteTime": {
     "end_time": "2021-12-16T16:10:40.260772Z",
     "start_time": "2021-12-16T16:10:40.232588Z"
    },
    "hidden": true
   },
   "outputs": [
    {
     "name": "stdout",
     "output_type": "stream",
     "text": [
      "Rua H-20\n",
      "Rua Armando Shibata\n",
      "Av. dos Trabalhadores\n",
      "Al. Moraes\n"
     ]
    }
   ],
   "source": [
    "#nome da rua \n",
    "regex = '(.+?),'\n",
    "\n",
    "for t in text:\n",
    "    print(re.match(regex, t).group(1))"
   ]
  },
  {
   "cell_type": "code",
   "execution_count": 15,
   "id": "f4333723",
   "metadata": {
    "ExecuteTime": {
     "end_time": "2021-12-16T15:58:39.781270Z",
     "start_time": "2021-12-16T15:58:39.762787Z"
    },
    "hidden": true
   },
   "outputs": [
    {
     "name": "stdout",
     "output_type": "stream",
     "text": [
      "20\n",
      "97\n",
      "403\n",
      "403\n"
     ]
    }
   ],
   "source": [
    "#numero \n",
    "regex = '\\d+'\n",
    "\n",
    "for t in text:\n",
    "    print(re.search(regex, t).group(0))"
   ]
  },
  {
   "cell_type": "code",
   "execution_count": null,
   "id": "9c04c87b",
   "metadata": {
    "hidden": true
   },
   "outputs": [],
   "source": []
  },
  {
   "cell_type": "code",
   "execution_count": 31,
   "id": "2b9b4cbb",
   "metadata": {
    "ExecuteTime": {
     "end_time": "2021-12-16T16:24:42.034686Z",
     "start_time": "2021-12-16T16:24:42.018182Z"
    },
    "hidden": true
   },
   "outputs": [
    {
     "name": "stdout",
     "output_type": "stream",
     "text": [
      " Parque Shalom\n",
      " Vila Leopoldina\n",
      " Centro\n",
      " Vila Golmes\n"
     ]
    }
   ],
   "source": [
    "#bairro\n",
    "regex = '-( \\w+.+),'\n",
    "\n",
    "for t in text:\n",
    "    print(re.search(regex, t).group(1))"
   ]
  },
  {
   "cell_type": "code",
   "execution_count": 34,
   "id": "b703c9ef",
   "metadata": {
    "ExecuteTime": {
     "end_time": "2021-12-16T16:29:16.844797Z",
     "start_time": "2021-12-16T16:29:16.827351Z"
    },
    "hidden": true
   },
   "outputs": [
    {
     "name": "stdout",
     "output_type": "stream",
     "text": [
      " São Luís\n",
      " São Paulo\n",
      " Mogi Guaçu\n",
      " Pernambuco\n"
     ]
    }
   ],
   "source": [
    "#bairro\n",
    "regex = ',(.[a-zA-Z].+)'\n",
    "\n",
    "for t in text:\n",
    "    print(re.search(regex, t).group(1))"
   ]
  },
  {
   "cell_type": "markdown",
   "id": "1ebf545c",
   "metadata": {
    "ExecuteTime": {
     "end_time": "2021-12-16T16:30:49.631227Z",
     "start_time": "2021-12-16T16:30:49.611398Z"
    }
   },
   "source": [
    "# Cleaning raw data"
   ]
  },
  {
   "cell_type": "code",
   "execution_count": 36,
   "id": "6e1ab63e",
   "metadata": {
    "ExecuteTime": {
     "end_time": "2021-12-16T16:31:31.902627Z",
     "start_time": "2021-12-16T16:31:31.895116Z"
    }
   },
   "outputs": [],
   "source": [
    "from bs4 import BeautifulSoup\n",
    "from fake_useragent import UserAgent\n",
    "import requests\n",
    "from datetime import datetime\n",
    "import pandas as pd"
   ]
  },
  {
   "cell_type": "code",
   "execution_count": 37,
   "id": "322781a4",
   "metadata": {
    "ExecuteTime": {
     "end_time": "2021-12-16T16:31:33.438790Z",
     "start_time": "2021-12-16T16:31:32.342845Z"
    }
   },
   "outputs": [
    {
     "data": {
      "text/html": [
       "<div>\n",
       "<style scoped>\n",
       "    .dataframe tbody tr th:only-of-type {\n",
       "        vertical-align: middle;\n",
       "    }\n",
       "\n",
       "    .dataframe tbody tr th {\n",
       "        vertical-align: top;\n",
       "    }\n",
       "\n",
       "    .dataframe thead th {\n",
       "        text-align: right;\n",
       "    }\n",
       "</style>\n",
       "<table border=\"1\" class=\"dataframe\">\n",
       "  <thead>\n",
       "    <tr style=\"text-align: right;\">\n",
       "      <th></th>\n",
       "      <th>product_id</th>\n",
       "      <th>product_category</th>\n",
       "      <th>product_name</th>\n",
       "      <th>product_price</th>\n",
       "      <th>scrapy_time</th>\n",
       "      <th>style_id</th>\n",
       "      <th>color_id</th>\n",
       "      <th>color_name</th>\n",
       "      <th>Fit</th>\n",
       "      <th>Composition</th>\n",
       "      <th>Size</th>\n",
       "      <th>Product safety</th>\n",
       "      <th>More sustainable materials</th>\n",
       "    </tr>\n",
       "  </thead>\n",
       "  <tbody>\n",
       "    <tr>\n",
       "      <th>0</th>\n",
       "      <td>0690449022</td>\n",
       "      <td>men_jeans_ripped</td>\n",
       "      <td>Skinny Jeans</td>\n",
       "      <td>$ 39.99</td>\n",
       "      <td>2021-12-15 21:56:19</td>\n",
       "      <td>690449.0</td>\n",
       "      <td>22.0</td>\n",
       "      <td>Black/trashed</td>\n",
       "      <td>Skinny fit</td>\n",
       "      <td>Lining: Polyester 100%</td>\n",
       "      <td>The model is 184cm/6'0\" and wears a size 31/32</td>\n",
       "      <td>NaN</td>\n",
       "      <td>NaN</td>\n",
       "    </tr>\n",
       "    <tr>\n",
       "      <th>1</th>\n",
       "      <td>0690449022</td>\n",
       "      <td>men_jeans_ripped</td>\n",
       "      <td>Skinny Jeans</td>\n",
       "      <td>$ 39.99</td>\n",
       "      <td>2021-12-15 21:56:19</td>\n",
       "      <td>690449.0</td>\n",
       "      <td>22.0</td>\n",
       "      <td>Black/trashed</td>\n",
       "      <td>Skinny fit</td>\n",
       "      <td>Cotton 98%, Spandex 2%</td>\n",
       "      <td>The model is 184cm/6'0\" and wears a size 31/32</td>\n",
       "      <td>NaN</td>\n",
       "      <td>NaN</td>\n",
       "    </tr>\n",
       "    <tr>\n",
       "      <th>2</th>\n",
       "      <td>0690449022</td>\n",
       "      <td>men_jeans_ripped</td>\n",
       "      <td>Skinny Jeans</td>\n",
       "      <td>$ 39.99</td>\n",
       "      <td>2021-12-15 21:56:19</td>\n",
       "      <td>690449.0</td>\n",
       "      <td>22.0</td>\n",
       "      <td>Light denim blue/trashed</td>\n",
       "      <td>Skinny fit</td>\n",
       "      <td>Lining: Polyester 100%</td>\n",
       "      <td>The model is 184cm/6'0\" and wears a size 31/32</td>\n",
       "      <td>NaN</td>\n",
       "      <td>NaN</td>\n",
       "    </tr>\n",
       "    <tr>\n",
       "      <th>3</th>\n",
       "      <td>0690449022</td>\n",
       "      <td>men_jeans_ripped</td>\n",
       "      <td>Skinny Jeans</td>\n",
       "      <td>$ 39.99</td>\n",
       "      <td>2021-12-15 21:56:19</td>\n",
       "      <td>690449.0</td>\n",
       "      <td>22.0</td>\n",
       "      <td>Light denim blue/trashed</td>\n",
       "      <td>Skinny fit</td>\n",
       "      <td>Cotton 98%, Spandex 2%</td>\n",
       "      <td>The model is 184cm/6'0\" and wears a size 31/32</td>\n",
       "      <td>NaN</td>\n",
       "      <td>NaN</td>\n",
       "    </tr>\n",
       "    <tr>\n",
       "      <th>4</th>\n",
       "      <td>0690449022</td>\n",
       "      <td>men_jeans_ripped</td>\n",
       "      <td>Skinny Jeans</td>\n",
       "      <td>$ 39.99</td>\n",
       "      <td>2021-12-15 21:56:19</td>\n",
       "      <td>690449.0</td>\n",
       "      <td>22.0</td>\n",
       "      <td>Denim blue</td>\n",
       "      <td>Skinny fit</td>\n",
       "      <td>Lining: Polyester 100%</td>\n",
       "      <td>The model is 184cm/6'0\" and wears a size 31/32</td>\n",
       "      <td>NaN</td>\n",
       "      <td>NaN</td>\n",
       "    </tr>\n",
       "  </tbody>\n",
       "</table>\n",
       "</div>"
      ],
      "text/plain": [
       "   product_id  product_category  product_name product_price  \\\n",
       "0  0690449022  men_jeans_ripped  Skinny Jeans       $ 39.99   \n",
       "1  0690449022  men_jeans_ripped  Skinny Jeans       $ 39.99   \n",
       "2  0690449022  men_jeans_ripped  Skinny Jeans       $ 39.99   \n",
       "3  0690449022  men_jeans_ripped  Skinny Jeans       $ 39.99   \n",
       "4  0690449022  men_jeans_ripped  Skinny Jeans       $ 39.99   \n",
       "\n",
       "           scrapy_time  style_id  color_id                color_name  \\\n",
       "0  2021-12-15 21:56:19  690449.0      22.0             Black/trashed   \n",
       "1  2021-12-15 21:56:19  690449.0      22.0             Black/trashed   \n",
       "2  2021-12-15 21:56:19  690449.0      22.0  Light denim blue/trashed   \n",
       "3  2021-12-15 21:56:19  690449.0      22.0  Light denim blue/trashed   \n",
       "4  2021-12-15 21:56:19  690449.0      22.0                Denim blue   \n",
       "\n",
       "          Fit             Composition  \\\n",
       "0  Skinny fit  Lining: Polyester 100%   \n",
       "1  Skinny fit  Cotton 98%, Spandex 2%   \n",
       "2  Skinny fit  Lining: Polyester 100%   \n",
       "3  Skinny fit  Cotton 98%, Spandex 2%   \n",
       "4  Skinny fit  Lining: Polyester 100%   \n",
       "\n",
       "                                             Size Product safety  \\\n",
       "0  The model is 184cm/6'0\" and wears a size 31/32            NaN   \n",
       "1  The model is 184cm/6'0\" and wears a size 31/32            NaN   \n",
       "2  The model is 184cm/6'0\" and wears a size 31/32            NaN   \n",
       "3  The model is 184cm/6'0\" and wears a size 31/32            NaN   \n",
       "4  The model is 184cm/6'0\" and wears a size 31/32            NaN   \n",
       "\n",
       "  More sustainable materials  \n",
       "0                        NaN  \n",
       "1                        NaN  \n",
       "2                        NaN  \n",
       "3                        NaN  \n",
       "4                        NaN  "
      ]
     },
     "execution_count": 37,
     "metadata": {},
     "output_type": "execute_result"
    }
   ],
   "source": [
    "data = pd.read_csv('jeans_data.csv', encoding='utf-8')\n",
    "data.drop('Unnamed: 0', axis = 1, inplace = True) #removing a column that was generated randomly\n",
    "data.head()"
   ]
  },
  {
   "cell_type": "code",
   "execution_count": 39,
   "id": "bc671acc",
   "metadata": {
    "ExecuteTime": {
     "end_time": "2021-12-16T16:31:55.315892Z",
     "start_time": "2021-12-16T16:31:55.272092Z"
    }
   },
   "outputs": [
    {
     "data": {
      "text/plain": [
       "product_id                       0\n",
       "product_category                15\n",
       "product_name                    15\n",
       "product_price                   15\n",
       "scrapy_time                     15\n",
       "style_id                        15\n",
       "color_id                        15\n",
       "color_name                      15\n",
       "Fit                             15\n",
       "Composition                     15\n",
       "Size                           581\n",
       "Product safety                1656\n",
       "More sustainable materials     755\n",
       "dtype: int64"
      ]
     },
     "execution_count": 39,
     "metadata": {},
     "output_type": "execute_result"
    }
   ],
   "source": [
    "data.isna().sum()"
   ]
  },
  {
   "cell_type": "code",
   "execution_count": 50,
   "id": "40c217d4",
   "metadata": {
    "ExecuteTime": {
     "end_time": "2021-12-16T16:54:07.896535Z",
     "start_time": "2021-12-16T16:54:07.877692Z"
    }
   },
   "outputs": [
    {
     "ename": "KeyError",
     "evalue": "['scrappy_time']",
     "output_type": "error",
     "traceback": [
      "\u001b[0;31m---------------------------------------------------------------------------\u001b[0m",
      "\u001b[0;31mKeyError\u001b[0m                                  Traceback (most recent call last)",
      "\u001b[0;32m/tmp/ipykernel_4595/2074815746.py\u001b[0m in \u001b[0;36m<module>\u001b[0;34m\u001b[0m\n\u001b[1;32m      1\u001b[0m \u001b[0;31m#product_id\u001b[0m\u001b[0;34m\u001b[0m\u001b[0;34m\u001b[0m\u001b[0;34m\u001b[0m\u001b[0m\n\u001b[0;32m----> 2\u001b[0;31m \u001b[0mdata\u001b[0m \u001b[0;34m=\u001b[0m \u001b[0mdata\u001b[0m\u001b[0;34m.\u001b[0m\u001b[0mdropna\u001b[0m\u001b[0;34m(\u001b[0m\u001b[0msubset\u001b[0m\u001b[0;34m=\u001b[0m\u001b[0;34m[\u001b[0m\u001b[0;34m'product_id'\u001b[0m\u001b[0;34m,\u001b[0m \u001b[0;34m'product_name'\u001b[0m\u001b[0;34m,\u001b[0m \u001b[0;34m'product_price'\u001b[0m\u001b[0;34m,\u001b[0m \u001b[0;34m'scrappy_time'\u001b[0m\u001b[0;34m,\u001b[0m\u001b[0;34m'style_id'\u001b[0m\u001b[0;34m,\u001b[0m \u001b[0;34m'color_id'\u001b[0m\u001b[0;34m,\u001b[0m \u001b[0;34m'color_name'\u001b[0m\u001b[0;34m,\u001b[0m \u001b[0;34m'Fit'\u001b[0m\u001b[0;34m,\u001b[0m \u001b[0;34m'Composition'\u001b[0m\u001b[0;34m]\u001b[0m\u001b[0;34m)\u001b[0m\u001b[0;34m\u001b[0m\u001b[0;34m\u001b[0m\u001b[0m\n\u001b[0m\u001b[1;32m      3\u001b[0m \u001b[0;31m#product_name\u001b[0m\u001b[0;34m\u001b[0m\u001b[0;34m\u001b[0m\u001b[0;34m\u001b[0m\u001b[0m\n\u001b[1;32m      4\u001b[0m \u001b[0mdata\u001b[0m\u001b[0;34m[\u001b[0m\u001b[0;34m'product_name'\u001b[0m\u001b[0;34m]\u001b[0m \u001b[0;34m=\u001b[0m \u001b[0mdata\u001b[0m\u001b[0;34m[\u001b[0m\u001b[0;34m'product_name'\u001b[0m\u001b[0;34m]\u001b[0m\u001b[0;34m.\u001b[0m\u001b[0mapply\u001b[0m\u001b[0;34m(\u001b[0m\u001b[0;32mlambda\u001b[0m \u001b[0mx\u001b[0m\u001b[0;34m:\u001b[0m \u001b[0mx\u001b[0m\u001b[0;34m.\u001b[0m\u001b[0mreplace\u001b[0m\u001b[0;34m(\u001b[0m\u001b[0;34m' '\u001b[0m\u001b[0;34m,\u001b[0m \u001b[0;34m'_'\u001b[0m\u001b[0;34m)\u001b[0m\u001b[0;34m.\u001b[0m\u001b[0mlower\u001b[0m\u001b[0;34m(\u001b[0m\u001b[0;34m)\u001b[0m\u001b[0;34m)\u001b[0m\u001b[0;34m\u001b[0m\u001b[0;34m\u001b[0m\u001b[0m\n\u001b[1;32m      5\u001b[0m \u001b[0;34m\u001b[0m\u001b[0m\n",
      "\u001b[0;32m~/.pyenv/versions/3.8.10/envs/dsemproducao/lib/python3.8/site-packages/pandas/util/_decorators.py\u001b[0m in \u001b[0;36mwrapper\u001b[0;34m(*args, **kwargs)\u001b[0m\n\u001b[1;32m    309\u001b[0m                     \u001b[0mstacklevel\u001b[0m\u001b[0;34m=\u001b[0m\u001b[0mstacklevel\u001b[0m\u001b[0;34m,\u001b[0m\u001b[0;34m\u001b[0m\u001b[0;34m\u001b[0m\u001b[0m\n\u001b[1;32m    310\u001b[0m                 )\n\u001b[0;32m--> 311\u001b[0;31m             \u001b[0;32mreturn\u001b[0m \u001b[0mfunc\u001b[0m\u001b[0;34m(\u001b[0m\u001b[0;34m*\u001b[0m\u001b[0margs\u001b[0m\u001b[0;34m,\u001b[0m \u001b[0;34m**\u001b[0m\u001b[0mkwargs\u001b[0m\u001b[0;34m)\u001b[0m\u001b[0;34m\u001b[0m\u001b[0;34m\u001b[0m\u001b[0m\n\u001b[0m\u001b[1;32m    312\u001b[0m \u001b[0;34m\u001b[0m\u001b[0m\n\u001b[1;32m    313\u001b[0m         \u001b[0;32mreturn\u001b[0m \u001b[0mwrapper\u001b[0m\u001b[0;34m\u001b[0m\u001b[0;34m\u001b[0m\u001b[0m\n",
      "\u001b[0;32m~/.pyenv/versions/3.8.10/envs/dsemproducao/lib/python3.8/site-packages/pandas/core/frame.py\u001b[0m in \u001b[0;36mdropna\u001b[0;34m(self, axis, how, thresh, subset, inplace)\u001b[0m\n\u001b[1;32m   5951\u001b[0m             \u001b[0mcheck\u001b[0m \u001b[0;34m=\u001b[0m \u001b[0mindices\u001b[0m \u001b[0;34m==\u001b[0m \u001b[0;34m-\u001b[0m\u001b[0;36m1\u001b[0m\u001b[0;34m\u001b[0m\u001b[0;34m\u001b[0m\u001b[0m\n\u001b[1;32m   5952\u001b[0m             \u001b[0;32mif\u001b[0m \u001b[0mcheck\u001b[0m\u001b[0;34m.\u001b[0m\u001b[0many\u001b[0m\u001b[0;34m(\u001b[0m\u001b[0;34m)\u001b[0m\u001b[0;34m:\u001b[0m\u001b[0;34m\u001b[0m\u001b[0;34m\u001b[0m\u001b[0m\n\u001b[0;32m-> 5953\u001b[0;31m                 \u001b[0;32mraise\u001b[0m \u001b[0mKeyError\u001b[0m\u001b[0;34m(\u001b[0m\u001b[0mlist\u001b[0m\u001b[0;34m(\u001b[0m\u001b[0mnp\u001b[0m\u001b[0;34m.\u001b[0m\u001b[0mcompress\u001b[0m\u001b[0;34m(\u001b[0m\u001b[0mcheck\u001b[0m\u001b[0;34m,\u001b[0m \u001b[0msubset\u001b[0m\u001b[0;34m)\u001b[0m\u001b[0;34m)\u001b[0m\u001b[0;34m)\u001b[0m\u001b[0;34m\u001b[0m\u001b[0;34m\u001b[0m\u001b[0m\n\u001b[0m\u001b[1;32m   5954\u001b[0m             \u001b[0magg_obj\u001b[0m \u001b[0;34m=\u001b[0m \u001b[0mself\u001b[0m\u001b[0;34m.\u001b[0m\u001b[0mtake\u001b[0m\u001b[0;34m(\u001b[0m\u001b[0mindices\u001b[0m\u001b[0;34m,\u001b[0m \u001b[0maxis\u001b[0m\u001b[0;34m=\u001b[0m\u001b[0magg_axis\u001b[0m\u001b[0;34m)\u001b[0m\u001b[0;34m\u001b[0m\u001b[0;34m\u001b[0m\u001b[0m\n\u001b[1;32m   5955\u001b[0m \u001b[0;34m\u001b[0m\u001b[0m\n",
      "\u001b[0;31mKeyError\u001b[0m: ['scrappy_time']"
     ]
    }
   ],
   "source": [
    "#product_id\n",
    "data = data.dropna(subset=['product_name', 'product_price', 'scrappy_time','style_id', 'color_id', 'color_name', 'Fit', 'Composition'])\n",
    "#product_name\n",
    "data['product_name'] = data['product_name'].apply(lambda x: x.replace(' ', '_').lower()) \n",
    "\n",
    "#product_price\n",
    "\n"
   ]
  },
  {
   "cell_type": "code",
   "execution_count": null,
   "id": "05526b75",
   "metadata": {},
   "outputs": [],
   "source": []
  }
 ],
 "metadata": {
  "hide_input": false,
  "kernelspec": {
   "display_name": "Python 3 (ipykernel)",
   "language": "python",
   "name": "python3"
  },
  "language_info": {
   "codemirror_mode": {
    "name": "ipython",
    "version": 3
   },
   "file_extension": ".py",
   "mimetype": "text/x-python",
   "name": "python",
   "nbconvert_exporter": "python",
   "pygments_lexer": "ipython3",
   "version": "3.8.10"
  }
 },
 "nbformat": 4,
 "nbformat_minor": 5
}
