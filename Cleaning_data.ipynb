{
 "cells": [
  {
   "cell_type": "markdown",
   "id": "395557f0",
   "metadata": {
    "heading_collapsed": true
   },
   "source": [
    "# Regex"
   ]
  },
  {
   "cell_type": "code",
   "execution_count": 3,
   "id": "b766578c",
   "metadata": {
    "ExecuteTime": {
     "end_time": "2021-12-16T15:34:43.211848Z",
     "start_time": "2021-12-16T15:34:43.159225Z"
    },
    "hidden": true
   },
   "outputs": [],
   "source": [
    "import re"
   ]
  },
  {
   "cell_type": "code",
   "execution_count": 33,
   "id": "29eed3e2",
   "metadata": {
    "ExecuteTime": {
     "end_time": "2021-12-16T16:29:10.663283Z",
     "start_time": "2021-12-16T16:29:10.644862Z"
    },
    "hidden": true
   },
   "outputs": [],
   "source": [
    "text01 = 'Rua H-20, 5 - Parque Shalom, São Luís'\n",
    "text02 = 'Rua Armando Shibata, 97 - Vila Leopoldina, São Paulo'\n",
    "text03 = 'Av. dos Trabalhadores, 403 - Centro, Mogi Guaçu'\n",
    "text04 = 'Al. Moraes, 403 - Vila Golmes, Pernambuco'\n",
    "\n",
    "\n",
    "text = [text01,text02,text03,text04]\n",
    "#Nome da rua\n",
    "#Numero\n",
    "#Bairro\n",
    "#Cidade"
   ]
  },
  {
   "cell_type": "code",
   "execution_count": 19,
   "id": "7f940a30",
   "metadata": {
    "ExecuteTime": {
     "end_time": "2021-12-16T16:10:40.260772Z",
     "start_time": "2021-12-16T16:10:40.232588Z"
    },
    "hidden": true
   },
   "outputs": [
    {
     "name": "stdout",
     "output_type": "stream",
     "text": [
      "Rua H-20\n",
      "Rua Armando Shibata\n",
      "Av. dos Trabalhadores\n",
      "Al. Moraes\n"
     ]
    }
   ],
   "source": [
    "#nome da rua \n",
    "regex = '(.+?),'\n",
    "\n",
    "for t in text:\n",
    "    print(re.match(regex, t).group(1))"
   ]
  },
  {
   "cell_type": "code",
   "execution_count": 15,
   "id": "f4333723",
   "metadata": {
    "ExecuteTime": {
     "end_time": "2021-12-16T15:58:39.781270Z",
     "start_time": "2021-12-16T15:58:39.762787Z"
    },
    "hidden": true
   },
   "outputs": [
    {
     "name": "stdout",
     "output_type": "stream",
     "text": [
      "20\n",
      "97\n",
      "403\n",
      "403\n"
     ]
    }
   ],
   "source": [
    "#numero \n",
    "regex = '\\d+'\n",
    "\n",
    "for t in text:\n",
    "    print(re.search(regex, t).group(0))"
   ]
  },
  {
   "cell_type": "code",
   "execution_count": null,
   "id": "9c04c87b",
   "metadata": {
    "hidden": true
   },
   "outputs": [],
   "source": []
  },
  {
   "cell_type": "code",
   "execution_count": 31,
   "id": "2b9b4cbb",
   "metadata": {
    "ExecuteTime": {
     "end_time": "2021-12-16T16:24:42.034686Z",
     "start_time": "2021-12-16T16:24:42.018182Z"
    },
    "hidden": true
   },
   "outputs": [
    {
     "name": "stdout",
     "output_type": "stream",
     "text": [
      " Parque Shalom\n",
      " Vila Leopoldina\n",
      " Centro\n",
      " Vila Golmes\n"
     ]
    }
   ],
   "source": [
    "#bairro\n",
    "regex = '-( \\w+.+),'\n",
    "\n",
    "for t in text:\n",
    "    print(re.search(regex, t).group(1))"
   ]
  },
  {
   "cell_type": "code",
   "execution_count": 34,
   "id": "b703c9ef",
   "metadata": {
    "ExecuteTime": {
     "end_time": "2021-12-16T16:29:16.844797Z",
     "start_time": "2021-12-16T16:29:16.827351Z"
    },
    "hidden": true
   },
   "outputs": [
    {
     "name": "stdout",
     "output_type": "stream",
     "text": [
      " São Luís\n",
      " São Paulo\n",
      " Mogi Guaçu\n",
      " Pernambuco\n"
     ]
    }
   ],
   "source": [
    "#bairro\n",
    "regex = ',(.[a-zA-Z].+)'\n",
    "\n",
    "for t in text:\n",
    "    print(re.search(regex, t).group(1))"
   ]
  },
  {
   "cell_type": "markdown",
   "id": "1ebf545c",
   "metadata": {
    "ExecuteTime": {
     "end_time": "2021-12-16T16:30:49.631227Z",
     "start_time": "2021-12-16T16:30:49.611398Z"
    }
   },
   "source": [
    "# Cleaning raw data"
   ]
  },
  {
   "cell_type": "code",
   "execution_count": 57,
   "id": "6e1ab63e",
   "metadata": {
    "ExecuteTime": {
     "end_time": "2021-12-17T16:46:01.032663Z",
     "start_time": "2021-12-17T16:46:01.028867Z"
    }
   },
   "outputs": [],
   "source": [
    "from bs4 import BeautifulSoup\n",
    "import requests\n",
    "from datetime import datetime\n",
    "import pandas as pd"
   ]
  },
  {
   "cell_type": "code",
   "execution_count": 68,
   "id": "322781a4",
   "metadata": {
    "ExecuteTime": {
     "end_time": "2021-12-17T17:03:51.006060Z",
     "start_time": "2021-12-17T17:03:50.961663Z"
    },
    "scrolled": true
   },
   "outputs": [
    {
     "data": {
      "text/html": [
       "<div>\n",
       "<style scoped>\n",
       "    .dataframe tbody tr th:only-of-type {\n",
       "        vertical-align: middle;\n",
       "    }\n",
       "\n",
       "    .dataframe tbody tr th {\n",
       "        vertical-align: top;\n",
       "    }\n",
       "\n",
       "    .dataframe thead th {\n",
       "        text-align: right;\n",
       "    }\n",
       "</style>\n",
       "<table border=\"1\" class=\"dataframe\">\n",
       "  <thead>\n",
       "    <tr style=\"text-align: right;\">\n",
       "      <th></th>\n",
       "      <th>product_id</th>\n",
       "      <th>product_category</th>\n",
       "      <th>product_name</th>\n",
       "      <th>product_price</th>\n",
       "      <th>scrapy_time</th>\n",
       "      <th>style_id</th>\n",
       "      <th>color_id</th>\n",
       "      <th>color_name</th>\n",
       "      <th>Fit</th>\n",
       "      <th>Composition</th>\n",
       "      <th>Size</th>\n",
       "      <th>Product safety</th>\n",
       "      <th>More sustainable materials</th>\n",
       "    </tr>\n",
       "  </thead>\n",
       "  <tbody>\n",
       "    <tr>\n",
       "      <th>0</th>\n",
       "      <td>690449022.0</td>\n",
       "      <td>men_jeans_ripped</td>\n",
       "      <td>Skinny Jeans</td>\n",
       "      <td>$ 39.99</td>\n",
       "      <td>2021-12-17 13:58:54</td>\n",
       "      <td>690449.0</td>\n",
       "      <td>22.0</td>\n",
       "      <td>Black/trashed</td>\n",
       "      <td>Skinny fit</td>\n",
       "      <td>Lining: Polyester 100%</td>\n",
       "      <td>The model is 184cm/6'0\" and wears a size 31/32</td>\n",
       "      <td>NaN</td>\n",
       "      <td>NaN</td>\n",
       "    </tr>\n",
       "    <tr>\n",
       "      <th>1</th>\n",
       "      <td>690449022.0</td>\n",
       "      <td>men_jeans_ripped</td>\n",
       "      <td>Skinny Jeans</td>\n",
       "      <td>$ 39.99</td>\n",
       "      <td>2021-12-17 13:58:54</td>\n",
       "      <td>690449.0</td>\n",
       "      <td>22.0</td>\n",
       "      <td>Black/trashed</td>\n",
       "      <td>Skinny fit</td>\n",
       "      <td>Cotton 98%, Spandex 2%</td>\n",
       "      <td>The model is 184cm/6'0\" and wears a size 31/32</td>\n",
       "      <td>NaN</td>\n",
       "      <td>NaN</td>\n",
       "    </tr>\n",
       "    <tr>\n",
       "      <th>2</th>\n",
       "      <td>690449022.0</td>\n",
       "      <td>men_jeans_ripped</td>\n",
       "      <td>Skinny Jeans</td>\n",
       "      <td>$ 39.99</td>\n",
       "      <td>2021-12-17 13:58:54</td>\n",
       "      <td>690449.0</td>\n",
       "      <td>22.0</td>\n",
       "      <td>Light denim blue/trashed</td>\n",
       "      <td>Skinny fit</td>\n",
       "      <td>Lining: Polyester 100%</td>\n",
       "      <td>The model is 184cm/6'0\" and wears a size 31/32</td>\n",
       "      <td>NaN</td>\n",
       "      <td>NaN</td>\n",
       "    </tr>\n",
       "    <tr>\n",
       "      <th>3</th>\n",
       "      <td>690449022.0</td>\n",
       "      <td>men_jeans_ripped</td>\n",
       "      <td>Skinny Jeans</td>\n",
       "      <td>$ 39.99</td>\n",
       "      <td>2021-12-17 13:58:54</td>\n",
       "      <td>690449.0</td>\n",
       "      <td>22.0</td>\n",
       "      <td>Light denim blue/trashed</td>\n",
       "      <td>Skinny fit</td>\n",
       "      <td>Cotton 98%, Spandex 2%</td>\n",
       "      <td>The model is 184cm/6'0\" and wears a size 31/32</td>\n",
       "      <td>NaN</td>\n",
       "      <td>NaN</td>\n",
       "    </tr>\n",
       "    <tr>\n",
       "      <th>4</th>\n",
       "      <td>690449022.0</td>\n",
       "      <td>men_jeans_ripped</td>\n",
       "      <td>Skinny Jeans</td>\n",
       "      <td>$ 39.99</td>\n",
       "      <td>2021-12-17 13:58:54</td>\n",
       "      <td>690449.0</td>\n",
       "      <td>22.0</td>\n",
       "      <td>Denim blue</td>\n",
       "      <td>Skinny fit</td>\n",
       "      <td>Lining: Polyester 100%</td>\n",
       "      <td>The model is 184cm/6'0\" and wears a size 31/32</td>\n",
       "      <td>NaN</td>\n",
       "      <td>NaN</td>\n",
       "    </tr>\n",
       "  </tbody>\n",
       "</table>\n",
       "</div>"
      ],
      "text/plain": [
       "    product_id  product_category  product_name product_price  \\\n",
       "0  690449022.0  men_jeans_ripped  Skinny Jeans       $ 39.99   \n",
       "1  690449022.0  men_jeans_ripped  Skinny Jeans       $ 39.99   \n",
       "2  690449022.0  men_jeans_ripped  Skinny Jeans       $ 39.99   \n",
       "3  690449022.0  men_jeans_ripped  Skinny Jeans       $ 39.99   \n",
       "4  690449022.0  men_jeans_ripped  Skinny Jeans       $ 39.99   \n",
       "\n",
       "           scrapy_time  style_id  color_id                color_name  \\\n",
       "0  2021-12-17 13:58:54  690449.0      22.0             Black/trashed   \n",
       "1  2021-12-17 13:58:54  690449.0      22.0             Black/trashed   \n",
       "2  2021-12-17 13:58:54  690449.0      22.0  Light denim blue/trashed   \n",
       "3  2021-12-17 13:58:54  690449.0      22.0  Light denim blue/trashed   \n",
       "4  2021-12-17 13:58:54  690449.0      22.0                Denim blue   \n",
       "\n",
       "          Fit             Composition  \\\n",
       "0  Skinny fit  Lining: Polyester 100%   \n",
       "1  Skinny fit  Cotton 98%, Spandex 2%   \n",
       "2  Skinny fit  Lining: Polyester 100%   \n",
       "3  Skinny fit  Cotton 98%, Spandex 2%   \n",
       "4  Skinny fit  Lining: Polyester 100%   \n",
       "\n",
       "                                             Size Product safety  \\\n",
       "0  The model is 184cm/6'0\" and wears a size 31/32            NaN   \n",
       "1  The model is 184cm/6'0\" and wears a size 31/32            NaN   \n",
       "2  The model is 184cm/6'0\" and wears a size 31/32            NaN   \n",
       "3  The model is 184cm/6'0\" and wears a size 31/32            NaN   \n",
       "4  The model is 184cm/6'0\" and wears a size 31/32            NaN   \n",
       "\n",
       "  More sustainable materials  \n",
       "0                        NaN  \n",
       "1                        NaN  \n",
       "2                        NaN  \n",
       "3                        NaN  \n",
       "4                        NaN  "
      ]
     },
     "execution_count": 68,
     "metadata": {},
     "output_type": "execute_result"
    }
   ],
   "source": [
    "data = pd.read_csv('jeans_data_test.csv', encoding='utf-8')\n",
    "data.head()"
   ]
  },
  {
   "cell_type": "code",
   "execution_count": 67,
   "id": "bc671acc",
   "metadata": {
    "ExecuteTime": {
     "end_time": "2021-12-17T17:03:36.956639Z",
     "start_time": "2021-12-17T17:03:36.948826Z"
    }
   },
   "outputs": [
    {
     "data": {
      "text/plain": [
       "array([6.90449022e+08, 6.90449043e+08, 6.90449036e+08, 6.90449051e+08,\n",
       "       9.85197001e+08, 6.36207011e+08, 7.51994034e+08, 1.00447601e+09,\n",
       "       9.85159005e+08, 4.27159006e+08, 6.90449056e+08, 9.85159002e+08,\n",
       "       1.02886500e+09, 9.85159001e+08, 8.11993036e+08,            nan,\n",
       "       9.85159006e+08, 9.85197006e+08, 7.30863033e+08, 7.30863005e+08,\n",
       "       1.00419900e+09, 9.38875007e+08, 1.01331700e+09, 7.51994024e+08,\n",
       "       1.00447600e+09, 9.85197003e+08, 9.85159004e+08, 1.00419900e+09,\n",
       "       1.00447600e+09, 9.74597006e+08, 1.01331701e+09, 9.85197007e+08,\n",
       "       1.00419900e+09, 1.01331701e+09, 1.00854900e+09, 1.00447600e+09,\n",
       "       9.93887004e+08])"
      ]
     },
     "execution_count": 67,
     "metadata": {},
     "output_type": "execute_result"
    }
   ],
   "source": [
    "#checking NaN values\n",
    "data['product_id'].unique()"
   ]
  },
  {
   "cell_type": "code",
   "execution_count": 69,
   "id": "41c3eb73",
   "metadata": {
    "ExecuteTime": {
     "end_time": "2021-12-17T17:04:15.579167Z",
     "start_time": "2021-12-17T17:04:15.568648Z"
    }
   },
   "outputs": [
    {
     "data": {
      "text/plain": [
       "product_id                      15\n",
       "product_category                 0\n",
       "product_name                    15\n",
       "product_price                   15\n",
       "scrapy_time                     15\n",
       "style_id                        15\n",
       "color_id                        15\n",
       "color_name                      15\n",
       "Fit                             15\n",
       "Composition                     15\n",
       "Size                           615\n",
       "Product safety                1809\n",
       "More sustainable materials    1047\n",
       "dtype: int64"
      ]
     },
     "execution_count": 69,
     "metadata": {},
     "output_type": "execute_result"
    }
   ],
   "source": [
    "data.isna().sum()"
   ]
  },
  {
   "cell_type": "code",
   "execution_count": 78,
   "id": "40c217d4",
   "metadata": {
    "ExecuteTime": {
     "end_time": "2021-12-17T17:06:44.858294Z",
     "start_time": "2021-12-17T17:06:44.768122Z"
    }
   },
   "outputs": [],
   "source": [
    "\n",
    "#product id\n",
    "#dropping NaN values\n",
    "data = data.dropna(subset=['product_id'])\n",
    "data['product_id'] = data['product_id'].astype(int)\n",
    "\n",
    "#product_name\n",
    "data['product_name'] = data['product_name'].apply(lambda x: x.replace(' ', '_').replace('®', '').lower())\n",
    "\n",
    "#product_price\n",
    "data['product_price'] = data['product_price'].apply(lambda x: x.replace('$', ''))\n",
    "\n",
    "#scrapy time\n",
    "data['scrapy_time'] = pd.to_datetime(data['scrapy_time'], format = '%Y-%m-%d %H:%M:%S')\n",
    "\n",
    "#style id\n",
    "data['style_id'] = data['style_id'].astype(int)\n",
    "\n",
    "#color id\n",
    "data['color_id'] = data['color_id'].astype(int)\n",
    "\n",
    "#color name\n",
    "data['color_name'] = data['color_name'].apply(lambda x: x.replace(' ', '_').replace('/', '_').lower() if pd.notnull(x) else x)\n",
    "\n",
    "#fit\n",
    "data['Fit'] = data['Fit'].apply(lambda x: x.replace(' ', '_').lower() if pd.notnull(x) else x)\n",
    "\n",
    "#size number\n",
    "data['size']\n",
    "\n",
    "\n",
    "#size model\n",
    "\n"
   ]
  },
  {
   "cell_type": "code",
   "execution_count": 79,
   "id": "3d4454ba",
   "metadata": {
    "ExecuteTime": {
     "end_time": "2021-12-17T17:06:46.717979Z",
     "start_time": "2021-12-17T17:06:46.690080Z"
    }
   },
   "outputs": [
    {
     "data": {
      "text/plain": [
       "product_id                             int64\n",
       "product_category                      object\n",
       "product_name                          object\n",
       "product_price                         object\n",
       "scrapy_time                   datetime64[ns]\n",
       "style_id                               int64\n",
       "color_id                               int64\n",
       "color_name                            object\n",
       "Fit                                   object\n",
       "Composition                           object\n",
       "Size                                  object\n",
       "Product safety                        object\n",
       "More sustainable materials            object\n",
       "dtype: object"
      ]
     },
     "execution_count": 79,
     "metadata": {},
     "output_type": "execute_result"
    }
   ],
   "source": [
    "data.dtypes"
   ]
  },
  {
   "cell_type": "code",
   "execution_count": 80,
   "id": "385b77cb",
   "metadata": {
    "ExecuteTime": {
     "end_time": "2021-12-17T17:06:52.109678Z",
     "start_time": "2021-12-17T17:06:52.067361Z"
    }
   },
   "outputs": [
    {
     "data": {
      "text/html": [
       "<div>\n",
       "<style scoped>\n",
       "    .dataframe tbody tr th:only-of-type {\n",
       "        vertical-align: middle;\n",
       "    }\n",
       "\n",
       "    .dataframe tbody tr th {\n",
       "        vertical-align: top;\n",
       "    }\n",
       "\n",
       "    .dataframe thead th {\n",
       "        text-align: right;\n",
       "    }\n",
       "</style>\n",
       "<table border=\"1\" class=\"dataframe\">\n",
       "  <thead>\n",
       "    <tr style=\"text-align: right;\">\n",
       "      <th></th>\n",
       "      <th>product_id</th>\n",
       "      <th>product_category</th>\n",
       "      <th>product_name</th>\n",
       "      <th>product_price</th>\n",
       "      <th>scrapy_time</th>\n",
       "      <th>style_id</th>\n",
       "      <th>color_id</th>\n",
       "      <th>color_name</th>\n",
       "      <th>Fit</th>\n",
       "      <th>Composition</th>\n",
       "      <th>Size</th>\n",
       "      <th>Product safety</th>\n",
       "      <th>More sustainable materials</th>\n",
       "    </tr>\n",
       "  </thead>\n",
       "  <tbody>\n",
       "    <tr>\n",
       "      <th>0</th>\n",
       "      <td>690449022</td>\n",
       "      <td>men_jeans_ripped</td>\n",
       "      <td>skinny_jeans</td>\n",
       "      <td>39.99</td>\n",
       "      <td>2021-12-17 13:58:54</td>\n",
       "      <td>690449</td>\n",
       "      <td>22</td>\n",
       "      <td>black_trashed</td>\n",
       "      <td>skinny_fit</td>\n",
       "      <td>Lining: Polyester 100%</td>\n",
       "      <td>The model is 184cm/6'0\" and wears a size 31/32</td>\n",
       "      <td>NaN</td>\n",
       "      <td>NaN</td>\n",
       "    </tr>\n",
       "    <tr>\n",
       "      <th>1</th>\n",
       "      <td>690449022</td>\n",
       "      <td>men_jeans_ripped</td>\n",
       "      <td>skinny_jeans</td>\n",
       "      <td>39.99</td>\n",
       "      <td>2021-12-17 13:58:54</td>\n",
       "      <td>690449</td>\n",
       "      <td>22</td>\n",
       "      <td>black_trashed</td>\n",
       "      <td>skinny_fit</td>\n",
       "      <td>Cotton 98%, Spandex 2%</td>\n",
       "      <td>The model is 184cm/6'0\" and wears a size 31/32</td>\n",
       "      <td>NaN</td>\n",
       "      <td>NaN</td>\n",
       "    </tr>\n",
       "    <tr>\n",
       "      <th>2</th>\n",
       "      <td>690449022</td>\n",
       "      <td>men_jeans_ripped</td>\n",
       "      <td>skinny_jeans</td>\n",
       "      <td>39.99</td>\n",
       "      <td>2021-12-17 13:58:54</td>\n",
       "      <td>690449</td>\n",
       "      <td>22</td>\n",
       "      <td>light_denim_blue_trashed</td>\n",
       "      <td>skinny_fit</td>\n",
       "      <td>Lining: Polyester 100%</td>\n",
       "      <td>The model is 184cm/6'0\" and wears a size 31/32</td>\n",
       "      <td>NaN</td>\n",
       "      <td>NaN</td>\n",
       "    </tr>\n",
       "    <tr>\n",
       "      <th>3</th>\n",
       "      <td>690449022</td>\n",
       "      <td>men_jeans_ripped</td>\n",
       "      <td>skinny_jeans</td>\n",
       "      <td>39.99</td>\n",
       "      <td>2021-12-17 13:58:54</td>\n",
       "      <td>690449</td>\n",
       "      <td>22</td>\n",
       "      <td>light_denim_blue_trashed</td>\n",
       "      <td>skinny_fit</td>\n",
       "      <td>Cotton 98%, Spandex 2%</td>\n",
       "      <td>The model is 184cm/6'0\" and wears a size 31/32</td>\n",
       "      <td>NaN</td>\n",
       "      <td>NaN</td>\n",
       "    </tr>\n",
       "    <tr>\n",
       "      <th>4</th>\n",
       "      <td>690449022</td>\n",
       "      <td>men_jeans_ripped</td>\n",
       "      <td>skinny_jeans</td>\n",
       "      <td>39.99</td>\n",
       "      <td>2021-12-17 13:58:54</td>\n",
       "      <td>690449</td>\n",
       "      <td>22</td>\n",
       "      <td>denim_blue</td>\n",
       "      <td>skinny_fit</td>\n",
       "      <td>Lining: Polyester 100%</td>\n",
       "      <td>The model is 184cm/6'0\" and wears a size 31/32</td>\n",
       "      <td>NaN</td>\n",
       "      <td>NaN</td>\n",
       "    </tr>\n",
       "    <tr>\n",
       "      <th>...</th>\n",
       "      <td>...</td>\n",
       "      <td>...</td>\n",
       "      <td>...</td>\n",
       "      <td>...</td>\n",
       "      <td>...</td>\n",
       "      <td>...</td>\n",
       "      <td>...</td>\n",
       "      <td>...</td>\n",
       "      <td>...</td>\n",
       "      <td>...</td>\n",
       "      <td>...</td>\n",
       "      <td>...</td>\n",
       "      <td>...</td>\n",
       "    </tr>\n",
       "    <tr>\n",
       "      <th>1819</th>\n",
       "      <td>993887004</td>\n",
       "      <td>men_jeans_regular</td>\n",
       "      <td>hybrid_regular_denim_joggers</td>\n",
       "      <td>39.99</td>\n",
       "      <td>2021-12-17 13:58:54</td>\n",
       "      <td>993887</td>\n",
       "      <td>4</td>\n",
       "      <td>black</td>\n",
       "      <td>regular_fit</td>\n",
       "      <td>Cotton 79%, Polyester 20%, Spandex 1%</td>\n",
       "      <td>NaN</td>\n",
       "      <td>NaN</td>\n",
       "      <td>Recycled cotton 20%</td>\n",
       "    </tr>\n",
       "    <tr>\n",
       "      <th>1820</th>\n",
       "      <td>993887004</td>\n",
       "      <td>men_jeans_regular</td>\n",
       "      <td>hybrid_regular_denim_joggers</td>\n",
       "      <td>39.99</td>\n",
       "      <td>2021-12-17 13:58:54</td>\n",
       "      <td>993887</td>\n",
       "      <td>4</td>\n",
       "      <td>denim_blue</td>\n",
       "      <td>regular_fit</td>\n",
       "      <td>Cotton 79%, Polyester 20%, Spandex 1%</td>\n",
       "      <td>NaN</td>\n",
       "      <td>NaN</td>\n",
       "      <td>Recycled polyester 20%</td>\n",
       "    </tr>\n",
       "    <tr>\n",
       "      <th>1821</th>\n",
       "      <td>993887004</td>\n",
       "      <td>men_jeans_regular</td>\n",
       "      <td>hybrid_regular_denim_joggers</td>\n",
       "      <td>39.99</td>\n",
       "      <td>2021-12-17 13:58:54</td>\n",
       "      <td>993887</td>\n",
       "      <td>4</td>\n",
       "      <td>denim_blue</td>\n",
       "      <td>regular_fit</td>\n",
       "      <td>Cotton 79%, Polyester 20%, Spandex 1%</td>\n",
       "      <td>NaN</td>\n",
       "      <td>NaN</td>\n",
       "      <td>Recycled cotton 20%</td>\n",
       "    </tr>\n",
       "    <tr>\n",
       "      <th>1822</th>\n",
       "      <td>993887004</td>\n",
       "      <td>men_jeans_regular</td>\n",
       "      <td>hybrid_regular_denim_joggers</td>\n",
       "      <td>39.99</td>\n",
       "      <td>2021-12-17 13:58:54</td>\n",
       "      <td>993887</td>\n",
       "      <td>4</td>\n",
       "      <td>denim_blue</td>\n",
       "      <td>regular_fit</td>\n",
       "      <td>Cotton 79%, Polyester 20%, Spandex 1%</td>\n",
       "      <td>NaN</td>\n",
       "      <td>NaN</td>\n",
       "      <td>Recycled polyester 20%</td>\n",
       "    </tr>\n",
       "    <tr>\n",
       "      <th>1823</th>\n",
       "      <td>993887004</td>\n",
       "      <td>men_jeans_regular</td>\n",
       "      <td>hybrid_regular_denim_joggers</td>\n",
       "      <td>39.99</td>\n",
       "      <td>2021-12-17 13:58:54</td>\n",
       "      <td>993887</td>\n",
       "      <td>4</td>\n",
       "      <td>denim_blue</td>\n",
       "      <td>regular_fit</td>\n",
       "      <td>Cotton 79%, Polyester 20%, Spandex 1%</td>\n",
       "      <td>NaN</td>\n",
       "      <td>NaN</td>\n",
       "      <td>Recycled cotton 20%</td>\n",
       "    </tr>\n",
       "  </tbody>\n",
       "</table>\n",
       "<p>1809 rows × 13 columns</p>\n",
       "</div>"
      ],
      "text/plain": [
       "      product_id   product_category                  product_name  \\\n",
       "0      690449022   men_jeans_ripped                  skinny_jeans   \n",
       "1      690449022   men_jeans_ripped                  skinny_jeans   \n",
       "2      690449022   men_jeans_ripped                  skinny_jeans   \n",
       "3      690449022   men_jeans_ripped                  skinny_jeans   \n",
       "4      690449022   men_jeans_ripped                  skinny_jeans   \n",
       "...          ...                ...                           ...   \n",
       "1819   993887004  men_jeans_regular  hybrid_regular_denim_joggers   \n",
       "1820   993887004  men_jeans_regular  hybrid_regular_denim_joggers   \n",
       "1821   993887004  men_jeans_regular  hybrid_regular_denim_joggers   \n",
       "1822   993887004  men_jeans_regular  hybrid_regular_denim_joggers   \n",
       "1823   993887004  men_jeans_regular  hybrid_regular_denim_joggers   \n",
       "\n",
       "     product_price         scrapy_time  style_id  color_id  \\\n",
       "0            39.99 2021-12-17 13:58:54    690449        22   \n",
       "1            39.99 2021-12-17 13:58:54    690449        22   \n",
       "2            39.99 2021-12-17 13:58:54    690449        22   \n",
       "3            39.99 2021-12-17 13:58:54    690449        22   \n",
       "4            39.99 2021-12-17 13:58:54    690449        22   \n",
       "...            ...                 ...       ...       ...   \n",
       "1819         39.99 2021-12-17 13:58:54    993887         4   \n",
       "1820         39.99 2021-12-17 13:58:54    993887         4   \n",
       "1821         39.99 2021-12-17 13:58:54    993887         4   \n",
       "1822         39.99 2021-12-17 13:58:54    993887         4   \n",
       "1823         39.99 2021-12-17 13:58:54    993887         4   \n",
       "\n",
       "                    color_name          Fit  \\\n",
       "0                black_trashed   skinny_fit   \n",
       "1                black_trashed   skinny_fit   \n",
       "2     light_denim_blue_trashed   skinny_fit   \n",
       "3     light_denim_blue_trashed   skinny_fit   \n",
       "4                   denim_blue   skinny_fit   \n",
       "...                        ...          ...   \n",
       "1819                     black  regular_fit   \n",
       "1820                denim_blue  regular_fit   \n",
       "1821                denim_blue  regular_fit   \n",
       "1822                denim_blue  regular_fit   \n",
       "1823                denim_blue  regular_fit   \n",
       "\n",
       "                                Composition  \\\n",
       "0                    Lining: Polyester 100%   \n",
       "1                    Cotton 98%, Spandex 2%   \n",
       "2                    Lining: Polyester 100%   \n",
       "3                    Cotton 98%, Spandex 2%   \n",
       "4                    Lining: Polyester 100%   \n",
       "...                                     ...   \n",
       "1819  Cotton 79%, Polyester 20%, Spandex 1%   \n",
       "1820  Cotton 79%, Polyester 20%, Spandex 1%   \n",
       "1821  Cotton 79%, Polyester 20%, Spandex 1%   \n",
       "1822  Cotton 79%, Polyester 20%, Spandex 1%   \n",
       "1823  Cotton 79%, Polyester 20%, Spandex 1%   \n",
       "\n",
       "                                                Size Product safety  \\\n",
       "0     The model is 184cm/6'0\" and wears a size 31/32            NaN   \n",
       "1     The model is 184cm/6'0\" and wears a size 31/32            NaN   \n",
       "2     The model is 184cm/6'0\" and wears a size 31/32            NaN   \n",
       "3     The model is 184cm/6'0\" and wears a size 31/32            NaN   \n",
       "4     The model is 184cm/6'0\" and wears a size 31/32            NaN   \n",
       "...                                              ...            ...   \n",
       "1819                                             NaN            NaN   \n",
       "1820                                             NaN            NaN   \n",
       "1821                                             NaN            NaN   \n",
       "1822                                             NaN            NaN   \n",
       "1823                                             NaN            NaN   \n",
       "\n",
       "     More sustainable materials  \n",
       "0                           NaN  \n",
       "1                           NaN  \n",
       "2                           NaN  \n",
       "3                           NaN  \n",
       "4                           NaN  \n",
       "...                         ...  \n",
       "1819        Recycled cotton 20%  \n",
       "1820     Recycled polyester 20%  \n",
       "1821        Recycled cotton 20%  \n",
       "1822     Recycled polyester 20%  \n",
       "1823        Recycled cotton 20%  \n",
       "\n",
       "[1809 rows x 13 columns]"
      ]
     },
     "execution_count": 80,
     "metadata": {},
     "output_type": "execute_result"
    }
   ],
   "source": [
    "data"
   ]
  },
  {
   "cell_type": "code",
   "execution_count": null,
   "id": "a4ae1398",
   "metadata": {},
   "outputs": [],
   "source": []
  }
 ],
 "metadata": {
  "hide_input": false,
  "kernelspec": {
   "display_name": "Python 3 (ipykernel)",
   "language": "python",
   "name": "python3"
  },
  "language_info": {
   "codemirror_mode": {
    "name": "ipython",
    "version": 3
   },
   "file_extension": ".py",
   "mimetype": "text/x-python",
   "name": "python",
   "nbconvert_exporter": "python",
   "pygments_lexer": "ipython3",
   "version": "3.8.10"
  }
 },
 "nbformat": 4,
 "nbformat_minor": 5
}
